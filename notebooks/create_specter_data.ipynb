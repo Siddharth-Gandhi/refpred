{
 "cells": [
  {
   "cell_type": "code",
   "execution_count": null,
   "metadata": {
    "tags": []
   },
   "outputs": [],
   "source": [
    "import pandas as pd\n",
    "import json\n",
    "import random"
   ]
  },
  {
   "cell_type": "code",
   "execution_count": 78,
   "metadata": {
    "tags": []
   },
   "outputs": [
    {
     "data": {
      "text/html": [
       "<div>\n",
       "<style scoped>\n",
       "    .dataframe tbody tr th:only-of-type {\n",
       "        vertical-align: middle;\n",
       "    }\n",
       "\n",
       "    .dataframe tbody tr th {\n",
       "        vertical-align: top;\n",
       "    }\n",
       "\n",
       "    .dataframe thead th {\n",
       "        text-align: right;\n",
       "    }\n",
       "</style>\n",
       "<table border=\"1\" class=\"dataframe\">\n",
       "  <thead>\n",
       "    <tr style=\"text-align: right;\">\n",
       "      <th></th>\n",
       "      <th>paperId</th>\n",
       "      <th>references</th>\n",
       "    </tr>\n",
       "  </thead>\n",
       "  <tbody>\n",
       "    <tr>\n",
       "      <th>0</th>\n",
       "      <td>921b2958cac4138d188fd5047aa12bbcf37ac867</td>\n",
       "      <td>['2f5102ec3f70d0dea98c957cc2cab4d15d83a2da', '...</td>\n",
       "    </tr>\n",
       "    <tr>\n",
       "      <th>1</th>\n",
       "      <td>a6cb366736791bcccc5c8639de5a8f9636bf87e8</td>\n",
       "      <td>['abd1c342495432171beb7ca8fd9551ef13cbd0ff', '...</td>\n",
       "    </tr>\n",
       "    <tr>\n",
       "      <th>2</th>\n",
       "      <td>bee044c8e8903fb67523c1f8c105ab4718600cdb</td>\n",
       "      <td>['44d2abe2175df8153f465f6c39b68b76a0d40ab9', '...</td>\n",
       "    </tr>\n",
       "  </tbody>\n",
       "</table>\n",
       "</div>"
      ],
      "text/plain": [
       "                                    paperId  \\\n",
       "0  921b2958cac4138d188fd5047aa12bbcf37ac867   \n",
       "1  a6cb366736791bcccc5c8639de5a8f9636bf87e8   \n",
       "2  bee044c8e8903fb67523c1f8c105ab4718600cdb   \n",
       "\n",
       "                                          references  \n",
       "0  ['2f5102ec3f70d0dea98c957cc2cab4d15d83a2da', '...  \n",
       "1  ['abd1c342495432171beb7ca8fd9551ef13cbd0ff', '...  \n",
       "2  ['44d2abe2175df8153f465f6c39b68b76a0d40ab9', '...  "
      ]
     },
     "execution_count": 78,
     "metadata": {},
     "output_type": "execute_result"
    }
   ],
   "source": [
    "df = pd.read_csv('data/50k_sorted_trimmed.csv')\n",
    "df.drop(df.columns.difference(['paperId', 'references']), axis=1, inplace=True)\n",
    "df.head(3)"
   ]
  },
  {
   "cell_type": "code",
   "execution_count": 79,
   "metadata": {
    "tags": []
   },
   "outputs": [
    {
     "name": "stdout",
     "output_type": "stream",
     "text": [
      "<class 'pandas.core.frame.DataFrame'>\n",
      "RangeIndex: 49794 entries, 0 to 49793\n",
      "Data columns (total 2 columns):\n",
      " #   Column      Non-Null Count  Dtype \n",
      "---  ------      --------------  ----- \n",
      " 0   paperId     49794 non-null  object\n",
      " 1   references  49794 non-null  object\n",
      "dtypes: object(2)\n",
      "memory usage: 778.2+ KB\n"
     ]
    }
   ],
   "source": [
    "df.info()"
   ]
  },
  {
   "cell_type": "code",
   "execution_count": 80,
   "metadata": {
    "tags": []
   },
   "outputs": [
    {
     "data": {
      "text/plain": [
       "paperId       0\n",
       "references    0\n",
       "dtype: int64"
      ]
     },
     "execution_count": 80,
     "metadata": {},
     "output_type": "execute_result"
    }
   ],
   "source": [
    "df.isna().sum()"
   ]
  },
  {
   "cell_type": "code",
   "execution_count": 81,
   "metadata": {
    "tags": []
   },
   "outputs": [],
   "source": [
    "all_ids = set(df['paperId'].unique())"
   ]
  },
  {
   "cell_type": "code",
   "execution_count": 6,
   "metadata": {},
   "outputs": [],
   "source": [
    "# temp = df.iloc[:2,:].set_index('paperId').to_dict()['references']\n",
    "# for key, value in temp.items():\n",
    "#     temp[key] = [cur_id.strip(\"'\") for cur_id in value.strip('[]').split(', ')]"
   ]
  },
  {
   "cell_type": "code",
   "execution_count": 82,
   "metadata": {
    "tags": []
   },
   "outputs": [],
   "source": [
    "records = df.set_index('paperId').to_dict()['references']\n",
    "for key, value in records.items():\n",
    "    records[key] = [cur_id.strip(\"'\") for cur_id in value.strip('[]').split(', ')]"
   ]
  },
  {
   "cell_type": "code",
   "execution_count": 8,
   "metadata": {
    "tags": []
   },
   "outputs": [],
   "source": [
    "final_dict = {}\n",
    "for cur_id, cur_refs in records.items():\n",
    "    \n",
    "    # add direct references\n",
    "    val = {_ : {'count' : 5} for _ in cur_refs if _ in all_ids}\n",
    "    co_ref_sample_count = 0\n",
    "    # for sampled_id in random.sample(cur_refs, 5):\n",
    "    # add co references\n",
    "    for sampled_id in cur_refs:\n",
    "        if sampled_id not in all_ids:\n",
    "            continue\n",
    "        if co_ref_sample_count == 5:\n",
    "            break\n",
    "        co_ref_sample_count += 1\n",
    "        co_refs = records[sampled_id]\n",
    "        co_ref_count = 0\n",
    "        # get the top citated paper from each of the co_ref\n",
    "        for co_ref_id in co_refs:\n",
    "            if co_ref_count == 3:\n",
    "                break\n",
    "            if co_ref_id not in all_ids or co_ref_id in val:\n",
    "                continue\n",
    "            co_ref_count += 1\n",
    "            val[co_ref_id] = {'count' : 1}\n",
    "        # val[co_refs[0]] = {'count' : 1}\n",
    "    # remove items with no \n",
    "    if len(val) == 0:\n",
    "        continue\n",
    "    final_dict[cur_id] = val\n",
    "    \n"
   ]
  },
  {
   "cell_type": "code",
   "execution_count": 24,
   "metadata": {},
   "outputs": [],
   "source": [
    "with open('data/specter/data2.json', 'w') as f:\n",
    "    # json.dump(final_dict, f)\n",
    "    f.write(json.dumps(final_dict))"
   ]
  },
  {
   "cell_type": "code",
   "execution_count": 9,
   "metadata": {
    "tags": []
   },
   "outputs": [
    {
     "name": "stdout",
     "output_type": "stream",
     "text": [
      "8468\n",
      "1454 lost due to empty references\n"
     ]
    }
   ],
   "source": [
    "# original 9922\n",
    "print(len(final_dict))\n",
    "print(f'{9922 - len(final_dict)} lost due to empty references')"
   ]
  },
  {
   "cell_type": "code",
   "execution_count": 31,
   "metadata": {},
   "outputs": [
    {
     "data": {
      "text/html": [
       "<div>\n",
       "<style scoped>\n",
       "    .dataframe tbody tr th:only-of-type {\n",
       "        vertical-align: middle;\n",
       "    }\n",
       "\n",
       "    .dataframe tbody tr th {\n",
       "        vertical-align: top;\n",
       "    }\n",
       "\n",
       "    .dataframe thead th {\n",
       "        text-align: right;\n",
       "    }\n",
       "</style>\n",
       "<table border=\"1\" class=\"dataframe\">\n",
       "  <thead>\n",
       "    <tr style=\"text-align: right;\">\n",
       "      <th></th>\n",
       "      <th>fa72afa9b2cbc8f0d7b05d52548906610ffbb9c5</th>\n",
       "      <th>a6cb366736791bcccc5c8639de5a8f9636bf87e8</th>\n",
       "      <th>156d217b0a911af97fa1b5a71dc909ccef7a8028</th>\n",
       "      <th>bee044c8e8903fb67523c1f8c105ab4718600cdb</th>\n",
       "      <th>cb92a7f9d9dbcf9145e32fdfa0e70e2a6b828eb1</th>\n",
       "      <th>4d376d6978dad0374edfa6709c9556b42d3594d3</th>\n",
       "      <th>921b2958cac4138d188fd5047aa12bbcf37ac867</th>\n",
       "      <th>36eff562f65125511b5dfab68ce7f7a943c27478</th>\n",
       "      <th>424561d8585ff8ebce7d5d07de8dbf7aae5e7270</th>\n",
       "      <th>204e3073870fae3d05bcbc2f6a8e263d9b72e776</th>\n",
       "      <th>...</th>\n",
       "      <th>08cf7229a6ff0f98cea77e6c712e86f932d5fdb5</th>\n",
       "      <th>4d4a7e3d58ed8ead90aafdc7d2de2b6a9e89499b</th>\n",
       "      <th>c5e55f0915720fb262be6fcf5c664ba1d20cb78b</th>\n",
       "      <th>2832af6f101f93745036d3617eabe123d3ca8ed4</th>\n",
       "      <th>acc57b5ec00b7b994858ed84e53875ac0a1375d4</th>\n",
       "      <th>5138a7d65d6875191572291f3458b4de149b4d2a</th>\n",
       "      <th>83b1608fb33eef2467a53f6ccffed559df7408dc</th>\n",
       "      <th>942084a26f2259edb9b64c054fff07623eafc181</th>\n",
       "      <th>2321a150c84d771d81fd81759757795dcda25750</th>\n",
       "      <th>707ed82be97172ce890c656424237497f40b24f6</th>\n",
       "    </tr>\n",
       "  </thead>\n",
       "  <tbody>\n",
       "    <tr>\n",
       "      <th>44d2abe2175df8153f465f6c39b68b76a0d40ab9</th>\n",
       "      <td>{'count': 5}</td>\n",
       "      <td>NaN</td>\n",
       "      <td>{'count': 1}</td>\n",
       "      <td>{'count': 5}</td>\n",
       "      <td>NaN</td>\n",
       "      <td>NaN</td>\n",
       "      <td>{'count': 1}</td>\n",
       "      <td>{'count': 1}</td>\n",
       "      <td>{'count': 1}</td>\n",
       "      <td>{'count': 5}</td>\n",
       "      <td>...</td>\n",
       "      <td>NaN</td>\n",
       "      <td>NaN</td>\n",
       "      <td>NaN</td>\n",
       "      <td>NaN</td>\n",
       "      <td>NaN</td>\n",
       "      <td>NaN</td>\n",
       "      <td>NaN</td>\n",
       "      <td>NaN</td>\n",
       "      <td>NaN</td>\n",
       "      <td>NaN</td>\n",
       "    </tr>\n",
       "    <tr>\n",
       "      <th>0b544dfe355a5070b60986319a3f51fb45d1348e</th>\n",
       "      <td>{'count': 5}</td>\n",
       "      <td>NaN</td>\n",
       "      <td>{'count': 1}</td>\n",
       "      <td>NaN</td>\n",
       "      <td>NaN</td>\n",
       "      <td>NaN</td>\n",
       "      <td>NaN</td>\n",
       "      <td>NaN</td>\n",
       "      <td>NaN</td>\n",
       "      <td>{'count': 5}</td>\n",
       "      <td>...</td>\n",
       "      <td>NaN</td>\n",
       "      <td>NaN</td>\n",
       "      <td>NaN</td>\n",
       "      <td>NaN</td>\n",
       "      <td>NaN</td>\n",
       "      <td>NaN</td>\n",
       "      <td>NaN</td>\n",
       "      <td>NaN</td>\n",
       "      <td>NaN</td>\n",
       "      <td>NaN</td>\n",
       "    </tr>\n",
       "    <tr>\n",
       "      <th>cea967b59209c6be22829699f05b8b1ac4dc092d</th>\n",
       "      <td>{'count': 5}</td>\n",
       "      <td>NaN</td>\n",
       "      <td>{'count': 1}</td>\n",
       "      <td>NaN</td>\n",
       "      <td>NaN</td>\n",
       "      <td>NaN</td>\n",
       "      <td>NaN</td>\n",
       "      <td>NaN</td>\n",
       "      <td>NaN</td>\n",
       "      <td>{'count': 5}</td>\n",
       "      <td>...</td>\n",
       "      <td>NaN</td>\n",
       "      <td>NaN</td>\n",
       "      <td>NaN</td>\n",
       "      <td>NaN</td>\n",
       "      <td>NaN</td>\n",
       "      <td>NaN</td>\n",
       "      <td>NaN</td>\n",
       "      <td>NaN</td>\n",
       "      <td>NaN</td>\n",
       "      <td>NaN</td>\n",
       "    </tr>\n",
       "    <tr>\n",
       "      <th>d0be39ee052d246ae99c082a565aba25b811be2d</th>\n",
       "      <td>{'count': 5}</td>\n",
       "      <td>NaN</td>\n",
       "      <td>NaN</td>\n",
       "      <td>{'count': 1}</td>\n",
       "      <td>NaN</td>\n",
       "      <td>{'count': 1}</td>\n",
       "      <td>NaN</td>\n",
       "      <td>{'count': 1}</td>\n",
       "      <td>{'count': 1}</td>\n",
       "      <td>{'count': 1}</td>\n",
       "      <td>...</td>\n",
       "      <td>NaN</td>\n",
       "      <td>NaN</td>\n",
       "      <td>NaN</td>\n",
       "      <td>NaN</td>\n",
       "      <td>NaN</td>\n",
       "      <td>NaN</td>\n",
       "      <td>NaN</td>\n",
       "      <td>NaN</td>\n",
       "      <td>NaN</td>\n",
       "      <td>NaN</td>\n",
       "    </tr>\n",
       "    <tr>\n",
       "      <th>6c2b28f9354f667cd5bd07afc0471d8334430da7</th>\n",
       "      <td>{'count': 5}</td>\n",
       "      <td>NaN</td>\n",
       "      <td>NaN</td>\n",
       "      <td>NaN</td>\n",
       "      <td>NaN</td>\n",
       "      <td>NaN</td>\n",
       "      <td>NaN</td>\n",
       "      <td>{'count': 1}</td>\n",
       "      <td>NaN</td>\n",
       "      <td>{'count': 1}</td>\n",
       "      <td>...</td>\n",
       "      <td>NaN</td>\n",
       "      <td>NaN</td>\n",
       "      <td>NaN</td>\n",
       "      <td>NaN</td>\n",
       "      <td>NaN</td>\n",
       "      <td>NaN</td>\n",
       "      <td>NaN</td>\n",
       "      <td>NaN</td>\n",
       "      <td>NaN</td>\n",
       "      <td>NaN</td>\n",
       "    </tr>\n",
       "    <tr>\n",
       "      <th>...</th>\n",
       "      <td>...</td>\n",
       "      <td>...</td>\n",
       "      <td>...</td>\n",
       "      <td>...</td>\n",
       "      <td>...</td>\n",
       "      <td>...</td>\n",
       "      <td>...</td>\n",
       "      <td>...</td>\n",
       "      <td>...</td>\n",
       "      <td>...</td>\n",
       "      <td>...</td>\n",
       "      <td>...</td>\n",
       "      <td>...</td>\n",
       "      <td>...</td>\n",
       "      <td>...</td>\n",
       "      <td>...</td>\n",
       "      <td>...</td>\n",
       "      <td>...</td>\n",
       "      <td>...</td>\n",
       "      <td>...</td>\n",
       "      <td>...</td>\n",
       "    </tr>\n",
       "    <tr>\n",
       "      <th>08cf7229a6ff0f98cea77e6c712e86f932d5fdb5</th>\n",
       "      <td>NaN</td>\n",
       "      <td>NaN</td>\n",
       "      <td>NaN</td>\n",
       "      <td>NaN</td>\n",
       "      <td>NaN</td>\n",
       "      <td>NaN</td>\n",
       "      <td>NaN</td>\n",
       "      <td>NaN</td>\n",
       "      <td>NaN</td>\n",
       "      <td>NaN</td>\n",
       "      <td>...</td>\n",
       "      <td>NaN</td>\n",
       "      <td>NaN</td>\n",
       "      <td>NaN</td>\n",
       "      <td>NaN</td>\n",
       "      <td>NaN</td>\n",
       "      <td>NaN</td>\n",
       "      <td>NaN</td>\n",
       "      <td>NaN</td>\n",
       "      <td>NaN</td>\n",
       "      <td>NaN</td>\n",
       "    </tr>\n",
       "    <tr>\n",
       "      <th>947a56ab45f2c269135d1d82303ae81f0f2fa3dc</th>\n",
       "      <td>NaN</td>\n",
       "      <td>NaN</td>\n",
       "      <td>NaN</td>\n",
       "      <td>NaN</td>\n",
       "      <td>NaN</td>\n",
       "      <td>NaN</td>\n",
       "      <td>NaN</td>\n",
       "      <td>NaN</td>\n",
       "      <td>NaN</td>\n",
       "      <td>NaN</td>\n",
       "      <td>...</td>\n",
       "      <td>NaN</td>\n",
       "      <td>NaN</td>\n",
       "      <td>NaN</td>\n",
       "      <td>NaN</td>\n",
       "      <td>NaN</td>\n",
       "      <td>NaN</td>\n",
       "      <td>NaN</td>\n",
       "      <td>NaN</td>\n",
       "      <td>NaN</td>\n",
       "      <td>NaN</td>\n",
       "    </tr>\n",
       "    <tr>\n",
       "      <th>c7b09e5764317db0da5e9a42ad90351271030b2f</th>\n",
       "      <td>NaN</td>\n",
       "      <td>NaN</td>\n",
       "      <td>NaN</td>\n",
       "      <td>NaN</td>\n",
       "      <td>NaN</td>\n",
       "      <td>NaN</td>\n",
       "      <td>NaN</td>\n",
       "      <td>NaN</td>\n",
       "      <td>NaN</td>\n",
       "      <td>NaN</td>\n",
       "      <td>...</td>\n",
       "      <td>NaN</td>\n",
       "      <td>NaN</td>\n",
       "      <td>NaN</td>\n",
       "      <td>NaN</td>\n",
       "      <td>NaN</td>\n",
       "      <td>NaN</td>\n",
       "      <td>NaN</td>\n",
       "      <td>NaN</td>\n",
       "      <td>NaN</td>\n",
       "      <td>NaN</td>\n",
       "    </tr>\n",
       "    <tr>\n",
       "      <th>2321a150c84d771d81fd81759757795dcda25750</th>\n",
       "      <td>NaN</td>\n",
       "      <td>NaN</td>\n",
       "      <td>NaN</td>\n",
       "      <td>NaN</td>\n",
       "      <td>NaN</td>\n",
       "      <td>NaN</td>\n",
       "      <td>NaN</td>\n",
       "      <td>NaN</td>\n",
       "      <td>NaN</td>\n",
       "      <td>NaN</td>\n",
       "      <td>...</td>\n",
       "      <td>NaN</td>\n",
       "      <td>NaN</td>\n",
       "      <td>NaN</td>\n",
       "      <td>{'count': 5}</td>\n",
       "      <td>NaN</td>\n",
       "      <td>NaN</td>\n",
       "      <td>NaN</td>\n",
       "      <td>NaN</td>\n",
       "      <td>NaN</td>\n",
       "      <td>{'count': 5}</td>\n",
       "    </tr>\n",
       "    <tr>\n",
       "      <th>707ed82be97172ce890c656424237497f40b24f6</th>\n",
       "      <td>NaN</td>\n",
       "      <td>NaN</td>\n",
       "      <td>NaN</td>\n",
       "      <td>NaN</td>\n",
       "      <td>NaN</td>\n",
       "      <td>NaN</td>\n",
       "      <td>NaN</td>\n",
       "      <td>NaN</td>\n",
       "      <td>NaN</td>\n",
       "      <td>NaN</td>\n",
       "      <td>...</td>\n",
       "      <td>NaN</td>\n",
       "      <td>NaN</td>\n",
       "      <td>NaN</td>\n",
       "      <td>{'count': 5}</td>\n",
       "      <td>NaN</td>\n",
       "      <td>NaN</td>\n",
       "      <td>NaN</td>\n",
       "      <td>NaN</td>\n",
       "      <td>NaN</td>\n",
       "      <td>NaN</td>\n",
       "    </tr>\n",
       "  </tbody>\n",
       "</table>\n",
       "<p>9916 rows × 9922 columns</p>\n",
       "</div>"
      ],
      "text/plain": [
       "                                         fa72afa9b2cbc8f0d7b05d52548906610ffbb9c5  \\\n",
       "44d2abe2175df8153f465f6c39b68b76a0d40ab9                             {'count': 5}   \n",
       "0b544dfe355a5070b60986319a3f51fb45d1348e                             {'count': 5}   \n",
       "cea967b59209c6be22829699f05b8b1ac4dc092d                             {'count': 5}   \n",
       "d0be39ee052d246ae99c082a565aba25b811be2d                             {'count': 5}   \n",
       "6c2b28f9354f667cd5bd07afc0471d8334430da7                             {'count': 5}   \n",
       "...                                                                           ...   \n",
       "08cf7229a6ff0f98cea77e6c712e86f932d5fdb5                                      NaN   \n",
       "947a56ab45f2c269135d1d82303ae81f0f2fa3dc                                      NaN   \n",
       "c7b09e5764317db0da5e9a42ad90351271030b2f                                      NaN   \n",
       "2321a150c84d771d81fd81759757795dcda25750                                      NaN   \n",
       "707ed82be97172ce890c656424237497f40b24f6                                      NaN   \n",
       "\n",
       "                                         a6cb366736791bcccc5c8639de5a8f9636bf87e8  \\\n",
       "44d2abe2175df8153f465f6c39b68b76a0d40ab9                                      NaN   \n",
       "0b544dfe355a5070b60986319a3f51fb45d1348e                                      NaN   \n",
       "cea967b59209c6be22829699f05b8b1ac4dc092d                                      NaN   \n",
       "d0be39ee052d246ae99c082a565aba25b811be2d                                      NaN   \n",
       "6c2b28f9354f667cd5bd07afc0471d8334430da7                                      NaN   \n",
       "...                                                                           ...   \n",
       "08cf7229a6ff0f98cea77e6c712e86f932d5fdb5                                      NaN   \n",
       "947a56ab45f2c269135d1d82303ae81f0f2fa3dc                                      NaN   \n",
       "c7b09e5764317db0da5e9a42ad90351271030b2f                                      NaN   \n",
       "2321a150c84d771d81fd81759757795dcda25750                                      NaN   \n",
       "707ed82be97172ce890c656424237497f40b24f6                                      NaN   \n",
       "\n",
       "                                         156d217b0a911af97fa1b5a71dc909ccef7a8028  \\\n",
       "44d2abe2175df8153f465f6c39b68b76a0d40ab9                             {'count': 1}   \n",
       "0b544dfe355a5070b60986319a3f51fb45d1348e                             {'count': 1}   \n",
       "cea967b59209c6be22829699f05b8b1ac4dc092d                             {'count': 1}   \n",
       "d0be39ee052d246ae99c082a565aba25b811be2d                                      NaN   \n",
       "6c2b28f9354f667cd5bd07afc0471d8334430da7                                      NaN   \n",
       "...                                                                           ...   \n",
       "08cf7229a6ff0f98cea77e6c712e86f932d5fdb5                                      NaN   \n",
       "947a56ab45f2c269135d1d82303ae81f0f2fa3dc                                      NaN   \n",
       "c7b09e5764317db0da5e9a42ad90351271030b2f                                      NaN   \n",
       "2321a150c84d771d81fd81759757795dcda25750                                      NaN   \n",
       "707ed82be97172ce890c656424237497f40b24f6                                      NaN   \n",
       "\n",
       "                                         bee044c8e8903fb67523c1f8c105ab4718600cdb  \\\n",
       "44d2abe2175df8153f465f6c39b68b76a0d40ab9                             {'count': 5}   \n",
       "0b544dfe355a5070b60986319a3f51fb45d1348e                                      NaN   \n",
       "cea967b59209c6be22829699f05b8b1ac4dc092d                                      NaN   \n",
       "d0be39ee052d246ae99c082a565aba25b811be2d                             {'count': 1}   \n",
       "6c2b28f9354f667cd5bd07afc0471d8334430da7                                      NaN   \n",
       "...                                                                           ...   \n",
       "08cf7229a6ff0f98cea77e6c712e86f932d5fdb5                                      NaN   \n",
       "947a56ab45f2c269135d1d82303ae81f0f2fa3dc                                      NaN   \n",
       "c7b09e5764317db0da5e9a42ad90351271030b2f                                      NaN   \n",
       "2321a150c84d771d81fd81759757795dcda25750                                      NaN   \n",
       "707ed82be97172ce890c656424237497f40b24f6                                      NaN   \n",
       "\n",
       "                                         cb92a7f9d9dbcf9145e32fdfa0e70e2a6b828eb1  \\\n",
       "44d2abe2175df8153f465f6c39b68b76a0d40ab9                                      NaN   \n",
       "0b544dfe355a5070b60986319a3f51fb45d1348e                                      NaN   \n",
       "cea967b59209c6be22829699f05b8b1ac4dc092d                                      NaN   \n",
       "d0be39ee052d246ae99c082a565aba25b811be2d                                      NaN   \n",
       "6c2b28f9354f667cd5bd07afc0471d8334430da7                                      NaN   \n",
       "...                                                                           ...   \n",
       "08cf7229a6ff0f98cea77e6c712e86f932d5fdb5                                      NaN   \n",
       "947a56ab45f2c269135d1d82303ae81f0f2fa3dc                                      NaN   \n",
       "c7b09e5764317db0da5e9a42ad90351271030b2f                                      NaN   \n",
       "2321a150c84d771d81fd81759757795dcda25750                                      NaN   \n",
       "707ed82be97172ce890c656424237497f40b24f6                                      NaN   \n",
       "\n",
       "                                         4d376d6978dad0374edfa6709c9556b42d3594d3  \\\n",
       "44d2abe2175df8153f465f6c39b68b76a0d40ab9                                      NaN   \n",
       "0b544dfe355a5070b60986319a3f51fb45d1348e                                      NaN   \n",
       "cea967b59209c6be22829699f05b8b1ac4dc092d                                      NaN   \n",
       "d0be39ee052d246ae99c082a565aba25b811be2d                             {'count': 1}   \n",
       "6c2b28f9354f667cd5bd07afc0471d8334430da7                                      NaN   \n",
       "...                                                                           ...   \n",
       "08cf7229a6ff0f98cea77e6c712e86f932d5fdb5                                      NaN   \n",
       "947a56ab45f2c269135d1d82303ae81f0f2fa3dc                                      NaN   \n",
       "c7b09e5764317db0da5e9a42ad90351271030b2f                                      NaN   \n",
       "2321a150c84d771d81fd81759757795dcda25750                                      NaN   \n",
       "707ed82be97172ce890c656424237497f40b24f6                                      NaN   \n",
       "\n",
       "                                         921b2958cac4138d188fd5047aa12bbcf37ac867  \\\n",
       "44d2abe2175df8153f465f6c39b68b76a0d40ab9                             {'count': 1}   \n",
       "0b544dfe355a5070b60986319a3f51fb45d1348e                                      NaN   \n",
       "cea967b59209c6be22829699f05b8b1ac4dc092d                                      NaN   \n",
       "d0be39ee052d246ae99c082a565aba25b811be2d                                      NaN   \n",
       "6c2b28f9354f667cd5bd07afc0471d8334430da7                                      NaN   \n",
       "...                                                                           ...   \n",
       "08cf7229a6ff0f98cea77e6c712e86f932d5fdb5                                      NaN   \n",
       "947a56ab45f2c269135d1d82303ae81f0f2fa3dc                                      NaN   \n",
       "c7b09e5764317db0da5e9a42ad90351271030b2f                                      NaN   \n",
       "2321a150c84d771d81fd81759757795dcda25750                                      NaN   \n",
       "707ed82be97172ce890c656424237497f40b24f6                                      NaN   \n",
       "\n",
       "                                         36eff562f65125511b5dfab68ce7f7a943c27478  \\\n",
       "44d2abe2175df8153f465f6c39b68b76a0d40ab9                             {'count': 1}   \n",
       "0b544dfe355a5070b60986319a3f51fb45d1348e                                      NaN   \n",
       "cea967b59209c6be22829699f05b8b1ac4dc092d                                      NaN   \n",
       "d0be39ee052d246ae99c082a565aba25b811be2d                             {'count': 1}   \n",
       "6c2b28f9354f667cd5bd07afc0471d8334430da7                             {'count': 1}   \n",
       "...                                                                           ...   \n",
       "08cf7229a6ff0f98cea77e6c712e86f932d5fdb5                                      NaN   \n",
       "947a56ab45f2c269135d1d82303ae81f0f2fa3dc                                      NaN   \n",
       "c7b09e5764317db0da5e9a42ad90351271030b2f                                      NaN   \n",
       "2321a150c84d771d81fd81759757795dcda25750                                      NaN   \n",
       "707ed82be97172ce890c656424237497f40b24f6                                      NaN   \n",
       "\n",
       "                                         424561d8585ff8ebce7d5d07de8dbf7aae5e7270  \\\n",
       "44d2abe2175df8153f465f6c39b68b76a0d40ab9                             {'count': 1}   \n",
       "0b544dfe355a5070b60986319a3f51fb45d1348e                                      NaN   \n",
       "cea967b59209c6be22829699f05b8b1ac4dc092d                                      NaN   \n",
       "d0be39ee052d246ae99c082a565aba25b811be2d                             {'count': 1}   \n",
       "6c2b28f9354f667cd5bd07afc0471d8334430da7                                      NaN   \n",
       "...                                                                           ...   \n",
       "08cf7229a6ff0f98cea77e6c712e86f932d5fdb5                                      NaN   \n",
       "947a56ab45f2c269135d1d82303ae81f0f2fa3dc                                      NaN   \n",
       "c7b09e5764317db0da5e9a42ad90351271030b2f                                      NaN   \n",
       "2321a150c84d771d81fd81759757795dcda25750                                      NaN   \n",
       "707ed82be97172ce890c656424237497f40b24f6                                      NaN   \n",
       "\n",
       "                                         204e3073870fae3d05bcbc2f6a8e263d9b72e776  \\\n",
       "44d2abe2175df8153f465f6c39b68b76a0d40ab9                             {'count': 5}   \n",
       "0b544dfe355a5070b60986319a3f51fb45d1348e                             {'count': 5}   \n",
       "cea967b59209c6be22829699f05b8b1ac4dc092d                             {'count': 5}   \n",
       "d0be39ee052d246ae99c082a565aba25b811be2d                             {'count': 1}   \n",
       "6c2b28f9354f667cd5bd07afc0471d8334430da7                             {'count': 1}   \n",
       "...                                                                           ...   \n",
       "08cf7229a6ff0f98cea77e6c712e86f932d5fdb5                                      NaN   \n",
       "947a56ab45f2c269135d1d82303ae81f0f2fa3dc                                      NaN   \n",
       "c7b09e5764317db0da5e9a42ad90351271030b2f                                      NaN   \n",
       "2321a150c84d771d81fd81759757795dcda25750                                      NaN   \n",
       "707ed82be97172ce890c656424237497f40b24f6                                      NaN   \n",
       "\n",
       "                                          ...  \\\n",
       "44d2abe2175df8153f465f6c39b68b76a0d40ab9  ...   \n",
       "0b544dfe355a5070b60986319a3f51fb45d1348e  ...   \n",
       "cea967b59209c6be22829699f05b8b1ac4dc092d  ...   \n",
       "d0be39ee052d246ae99c082a565aba25b811be2d  ...   \n",
       "6c2b28f9354f667cd5bd07afc0471d8334430da7  ...   \n",
       "...                                       ...   \n",
       "08cf7229a6ff0f98cea77e6c712e86f932d5fdb5  ...   \n",
       "947a56ab45f2c269135d1d82303ae81f0f2fa3dc  ...   \n",
       "c7b09e5764317db0da5e9a42ad90351271030b2f  ...   \n",
       "2321a150c84d771d81fd81759757795dcda25750  ...   \n",
       "707ed82be97172ce890c656424237497f40b24f6  ...   \n",
       "\n",
       "                                         08cf7229a6ff0f98cea77e6c712e86f932d5fdb5  \\\n",
       "44d2abe2175df8153f465f6c39b68b76a0d40ab9                                      NaN   \n",
       "0b544dfe355a5070b60986319a3f51fb45d1348e                                      NaN   \n",
       "cea967b59209c6be22829699f05b8b1ac4dc092d                                      NaN   \n",
       "d0be39ee052d246ae99c082a565aba25b811be2d                                      NaN   \n",
       "6c2b28f9354f667cd5bd07afc0471d8334430da7                                      NaN   \n",
       "...                                                                           ...   \n",
       "08cf7229a6ff0f98cea77e6c712e86f932d5fdb5                                      NaN   \n",
       "947a56ab45f2c269135d1d82303ae81f0f2fa3dc                                      NaN   \n",
       "c7b09e5764317db0da5e9a42ad90351271030b2f                                      NaN   \n",
       "2321a150c84d771d81fd81759757795dcda25750                                      NaN   \n",
       "707ed82be97172ce890c656424237497f40b24f6                                      NaN   \n",
       "\n",
       "                                         4d4a7e3d58ed8ead90aafdc7d2de2b6a9e89499b  \\\n",
       "44d2abe2175df8153f465f6c39b68b76a0d40ab9                                      NaN   \n",
       "0b544dfe355a5070b60986319a3f51fb45d1348e                                      NaN   \n",
       "cea967b59209c6be22829699f05b8b1ac4dc092d                                      NaN   \n",
       "d0be39ee052d246ae99c082a565aba25b811be2d                                      NaN   \n",
       "6c2b28f9354f667cd5bd07afc0471d8334430da7                                      NaN   \n",
       "...                                                                           ...   \n",
       "08cf7229a6ff0f98cea77e6c712e86f932d5fdb5                                      NaN   \n",
       "947a56ab45f2c269135d1d82303ae81f0f2fa3dc                                      NaN   \n",
       "c7b09e5764317db0da5e9a42ad90351271030b2f                                      NaN   \n",
       "2321a150c84d771d81fd81759757795dcda25750                                      NaN   \n",
       "707ed82be97172ce890c656424237497f40b24f6                                      NaN   \n",
       "\n",
       "                                         c5e55f0915720fb262be6fcf5c664ba1d20cb78b  \\\n",
       "44d2abe2175df8153f465f6c39b68b76a0d40ab9                                      NaN   \n",
       "0b544dfe355a5070b60986319a3f51fb45d1348e                                      NaN   \n",
       "cea967b59209c6be22829699f05b8b1ac4dc092d                                      NaN   \n",
       "d0be39ee052d246ae99c082a565aba25b811be2d                                      NaN   \n",
       "6c2b28f9354f667cd5bd07afc0471d8334430da7                                      NaN   \n",
       "...                                                                           ...   \n",
       "08cf7229a6ff0f98cea77e6c712e86f932d5fdb5                                      NaN   \n",
       "947a56ab45f2c269135d1d82303ae81f0f2fa3dc                                      NaN   \n",
       "c7b09e5764317db0da5e9a42ad90351271030b2f                                      NaN   \n",
       "2321a150c84d771d81fd81759757795dcda25750                                      NaN   \n",
       "707ed82be97172ce890c656424237497f40b24f6                                      NaN   \n",
       "\n",
       "                                         2832af6f101f93745036d3617eabe123d3ca8ed4  \\\n",
       "44d2abe2175df8153f465f6c39b68b76a0d40ab9                                      NaN   \n",
       "0b544dfe355a5070b60986319a3f51fb45d1348e                                      NaN   \n",
       "cea967b59209c6be22829699f05b8b1ac4dc092d                                      NaN   \n",
       "d0be39ee052d246ae99c082a565aba25b811be2d                                      NaN   \n",
       "6c2b28f9354f667cd5bd07afc0471d8334430da7                                      NaN   \n",
       "...                                                                           ...   \n",
       "08cf7229a6ff0f98cea77e6c712e86f932d5fdb5                                      NaN   \n",
       "947a56ab45f2c269135d1d82303ae81f0f2fa3dc                                      NaN   \n",
       "c7b09e5764317db0da5e9a42ad90351271030b2f                                      NaN   \n",
       "2321a150c84d771d81fd81759757795dcda25750                             {'count': 5}   \n",
       "707ed82be97172ce890c656424237497f40b24f6                             {'count': 5}   \n",
       "\n",
       "                                         acc57b5ec00b7b994858ed84e53875ac0a1375d4  \\\n",
       "44d2abe2175df8153f465f6c39b68b76a0d40ab9                                      NaN   \n",
       "0b544dfe355a5070b60986319a3f51fb45d1348e                                      NaN   \n",
       "cea967b59209c6be22829699f05b8b1ac4dc092d                                      NaN   \n",
       "d0be39ee052d246ae99c082a565aba25b811be2d                                      NaN   \n",
       "6c2b28f9354f667cd5bd07afc0471d8334430da7                                      NaN   \n",
       "...                                                                           ...   \n",
       "08cf7229a6ff0f98cea77e6c712e86f932d5fdb5                                      NaN   \n",
       "947a56ab45f2c269135d1d82303ae81f0f2fa3dc                                      NaN   \n",
       "c7b09e5764317db0da5e9a42ad90351271030b2f                                      NaN   \n",
       "2321a150c84d771d81fd81759757795dcda25750                                      NaN   \n",
       "707ed82be97172ce890c656424237497f40b24f6                                      NaN   \n",
       "\n",
       "                                         5138a7d65d6875191572291f3458b4de149b4d2a  \\\n",
       "44d2abe2175df8153f465f6c39b68b76a0d40ab9                                      NaN   \n",
       "0b544dfe355a5070b60986319a3f51fb45d1348e                                      NaN   \n",
       "cea967b59209c6be22829699f05b8b1ac4dc092d                                      NaN   \n",
       "d0be39ee052d246ae99c082a565aba25b811be2d                                      NaN   \n",
       "6c2b28f9354f667cd5bd07afc0471d8334430da7                                      NaN   \n",
       "...                                                                           ...   \n",
       "08cf7229a6ff0f98cea77e6c712e86f932d5fdb5                                      NaN   \n",
       "947a56ab45f2c269135d1d82303ae81f0f2fa3dc                                      NaN   \n",
       "c7b09e5764317db0da5e9a42ad90351271030b2f                                      NaN   \n",
       "2321a150c84d771d81fd81759757795dcda25750                                      NaN   \n",
       "707ed82be97172ce890c656424237497f40b24f6                                      NaN   \n",
       "\n",
       "                                         83b1608fb33eef2467a53f6ccffed559df7408dc  \\\n",
       "44d2abe2175df8153f465f6c39b68b76a0d40ab9                                      NaN   \n",
       "0b544dfe355a5070b60986319a3f51fb45d1348e                                      NaN   \n",
       "cea967b59209c6be22829699f05b8b1ac4dc092d                                      NaN   \n",
       "d0be39ee052d246ae99c082a565aba25b811be2d                                      NaN   \n",
       "6c2b28f9354f667cd5bd07afc0471d8334430da7                                      NaN   \n",
       "...                                                                           ...   \n",
       "08cf7229a6ff0f98cea77e6c712e86f932d5fdb5                                      NaN   \n",
       "947a56ab45f2c269135d1d82303ae81f0f2fa3dc                                      NaN   \n",
       "c7b09e5764317db0da5e9a42ad90351271030b2f                                      NaN   \n",
       "2321a150c84d771d81fd81759757795dcda25750                                      NaN   \n",
       "707ed82be97172ce890c656424237497f40b24f6                                      NaN   \n",
       "\n",
       "                                         942084a26f2259edb9b64c054fff07623eafc181  \\\n",
       "44d2abe2175df8153f465f6c39b68b76a0d40ab9                                      NaN   \n",
       "0b544dfe355a5070b60986319a3f51fb45d1348e                                      NaN   \n",
       "cea967b59209c6be22829699f05b8b1ac4dc092d                                      NaN   \n",
       "d0be39ee052d246ae99c082a565aba25b811be2d                                      NaN   \n",
       "6c2b28f9354f667cd5bd07afc0471d8334430da7                                      NaN   \n",
       "...                                                                           ...   \n",
       "08cf7229a6ff0f98cea77e6c712e86f932d5fdb5                                      NaN   \n",
       "947a56ab45f2c269135d1d82303ae81f0f2fa3dc                                      NaN   \n",
       "c7b09e5764317db0da5e9a42ad90351271030b2f                                      NaN   \n",
       "2321a150c84d771d81fd81759757795dcda25750                                      NaN   \n",
       "707ed82be97172ce890c656424237497f40b24f6                                      NaN   \n",
       "\n",
       "                                         2321a150c84d771d81fd81759757795dcda25750  \\\n",
       "44d2abe2175df8153f465f6c39b68b76a0d40ab9                                      NaN   \n",
       "0b544dfe355a5070b60986319a3f51fb45d1348e                                      NaN   \n",
       "cea967b59209c6be22829699f05b8b1ac4dc092d                                      NaN   \n",
       "d0be39ee052d246ae99c082a565aba25b811be2d                                      NaN   \n",
       "6c2b28f9354f667cd5bd07afc0471d8334430da7                                      NaN   \n",
       "...                                                                           ...   \n",
       "08cf7229a6ff0f98cea77e6c712e86f932d5fdb5                                      NaN   \n",
       "947a56ab45f2c269135d1d82303ae81f0f2fa3dc                                      NaN   \n",
       "c7b09e5764317db0da5e9a42ad90351271030b2f                                      NaN   \n",
       "2321a150c84d771d81fd81759757795dcda25750                                      NaN   \n",
       "707ed82be97172ce890c656424237497f40b24f6                                      NaN   \n",
       "\n",
       "                                         707ed82be97172ce890c656424237497f40b24f6  \n",
       "44d2abe2175df8153f465f6c39b68b76a0d40ab9                                      NaN  \n",
       "0b544dfe355a5070b60986319a3f51fb45d1348e                                      NaN  \n",
       "cea967b59209c6be22829699f05b8b1ac4dc092d                                      NaN  \n",
       "d0be39ee052d246ae99c082a565aba25b811be2d                                      NaN  \n",
       "6c2b28f9354f667cd5bd07afc0471d8334430da7                                      NaN  \n",
       "...                                                                           ...  \n",
       "08cf7229a6ff0f98cea77e6c712e86f932d5fdb5                                      NaN  \n",
       "947a56ab45f2c269135d1d82303ae81f0f2fa3dc                                      NaN  \n",
       "c7b09e5764317db0da5e9a42ad90351271030b2f                                      NaN  \n",
       "2321a150c84d771d81fd81759757795dcda25750                             {'count': 5}  \n",
       "707ed82be97172ce890c656424237497f40b24f6                                      NaN  \n",
       "\n",
       "[9916 rows x 9922 columns]"
      ]
     },
     "execution_count": 31,
     "metadata": {},
     "output_type": "execute_result"
    }
   ],
   "source": [
    "pd.read_json('data/specter/data.json')"
   ]
  },
  {
   "cell_type": "code",
   "execution_count": 132,
   "metadata": {},
   "outputs": [],
   "source": [
    "# cur_id = '1c7be3fc28296a97607d426f9168ad4836407e4b'\n",
    "# cur_refs = records[cur_id]"
   ]
  },
  {
   "cell_type": "code",
   "execution_count": 93,
   "metadata": {},
   "outputs": [],
   "source": [
    "# ref = [cur_id.strip(\"'\") for cur_id in ref.strip('[]').split(', ')]"
   ]
  },
  {
   "cell_type": "code",
   "execution_count": 134,
   "metadata": {},
   "outputs": [],
   "source": [
    "# val = {_ : {'count' : 5} for _ in cur_refs if _ in all_ids}"
   ]
  },
  {
   "cell_type": "code",
   "execution_count": 135,
   "metadata": {},
   "outputs": [],
   "source": [
    "# co_ref_sample_count = 0\n",
    "# # for sampled_id in random.sample(cur_refs, 5):\n",
    "# for sampled_id in cur_refs:\n",
    "#     if sampled_id not in all_ids:\n",
    "#         continue\n",
    "#     if co_ref_sample_count == 5:\n",
    "#         break\n",
    "#     co_ref_sample_count += 1\n",
    "#     co_refs = records[sampled_id]\n",
    "#     co_ref_count = 0\n",
    "#     # get the top citated paper from each of the co_ref\n",
    "#     for co_ref_id in co_refs:\n",
    "#         if co_ref_count == 3:\n",
    "#             break\n",
    "#         if co_ref_id not in all_ids or co_ref_id in val:\n",
    "#             continue\n",
    "#         val[co_ref_id] = {'count' : 1}\n",
    "#     # val[co_refs[0]] = {'count' : 1}"
   ]
  },
  {
   "cell_type": "code",
   "execution_count": 85,
   "metadata": {
    "tags": []
   },
   "outputs": [],
   "source": [
    "full_df = pd.read_csv('data/50k_sorted_trimmed.csv')\n",
    "# full_df.drop(full_df.columns.difference(['paperId', 'title', 'abstract']), axis=1, inplace=True)\n",
    "# full_df.rename(columns={'paperId' : 'paper_id'}, inplace=True)\n",
    "full_df['paper_id'] = full_df['paperId']"
   ]
  },
  {
   "cell_type": "code",
   "execution_count": 86,
   "metadata": {
    "tags": []
   },
   "outputs": [],
   "source": [
    "# full_df = full_df.head(1000)"
   ]
  },
  {
   "cell_type": "code",
   "execution_count": 87,
   "metadata": {
    "tags": []
   },
   "outputs": [
    {
     "data": {
      "text/plain": [
       "<bound method DataFrame.info of                                         paperId  \\\n",
       "0      921b2958cac4138d188fd5047aa12bbcf37ac867   \n",
       "1      a6cb366736791bcccc5c8639de5a8f9636bf87e8   \n",
       "2      bee044c8e8903fb67523c1f8c105ab4718600cdb   \n",
       "3      36eff562f65125511b5dfab68ce7f7a943c27478   \n",
       "4      cb92a7f9d9dbcf9145e32fdfa0e70e2a6b828eb1   \n",
       "...                                         ...   \n",
       "49789  5bc46ae1afb32e71943dda4b91987d89f9b3cbc9   \n",
       "49790  d9bcc496fc6968456ce675ea1a779aee197cea4f   \n",
       "49791  c78c8f55d1f125736fb71085b1fca9825c86bfe0   \n",
       "49792  95b79c2566877375cefdf3b8ae021189c2a62513   \n",
       "49793  68ed660195192943e0b21ef12d01118c2b2c13bb   \n",
       "\n",
       "                                                   title  \\\n",
       "0                  Content-Based Citation Recommendation   \n",
       "1             Adam: A Method for Stochastic Optimization   \n",
       "2         Explaining and Harnessing Adversarial Examples   \n",
       "3      Semi-Supervised Classification with Graph Conv...   \n",
       "4                The Semantic Scholar Open Data Platform   \n",
       "...                                                  ...   \n",
       "49789                   Sinusoids versus Walsh functions   \n",
       "49790  Male-to-female transmission of human immunodef...   \n",
       "49791  Students as Subjects in Consumer Behavior Expe...   \n",
       "49792                        PROCESSES OF OPINION CHANGE   \n",
       "49793  Sexual practices and risk of infection by the ...   \n",
       "\n",
       "                                                abstract  year  \\\n",
       "0      We present a content-based method for recommen...  2018   \n",
       "1      We introduce Adam, an algorithm for first-orde...  2014   \n",
       "2      Several machine learning models, including neu...  2014   \n",
       "3      We present a scalable approach for semi-superv...  2016   \n",
       "4      The volume of scientific output is creating an...  2023   \n",
       "...                                                  ...   ...   \n",
       "49789  In most of the applications contemplated for W...  1974   \n",
       "49790  Ninety-seven female sexual partners of 93 men ...  1987   \n",
       "49791  The use of students as subjects in studies of ...  1972   \n",
       "49792  Attitude and opinion data provide a basis for ...  1961   \n",
       "49793  The San Francisco Men's Health Study is a pros...  1987   \n",
       "\n",
       "       referenceCount  citationCount  influentialCitationCount  \\\n",
       "0                  28            101                        16   \n",
       "1                  29         110569                     18967   \n",
       "2                  19          12354                      3377   \n",
       "3                  35          16190                      4749   \n",
       "4                  17              1                         1   \n",
       "...               ...            ...                       ...   \n",
       "49789               9             66                         1   \n",
       "49790              11            344                         6   \n",
       "49791               9            115                         1   \n",
       "49792               0           2043                       123   \n",
       "49793              19            403                         8   \n",
       "\n",
       "                                              references  \\\n",
       "0      ['2f5102ec3f70d0dea98c957cc2cab4d15d83a2da', '...   \n",
       "1      ['abd1c342495432171beb7ca8fd9551ef13cbd0ff', '...   \n",
       "2      ['44d2abe2175df8153f465f6c39b68b76a0d40ab9', '...   \n",
       "3      ['2c03df8b48bf3fa39054345bafabfeff15bfd11d', '...   \n",
       "4      ['497e4b08279d69513e4d2313a7fd9a55dfb73273', '...   \n",
       "...                                                  ...   \n",
       "49789  ['ad391e1110899d902f912d649fb05bd83f12781e', '...   \n",
       "49790  ['68ed660195192943e0b21ef12d01118c2b2c13bb', '...   \n",
       "49791  ['56e4707ff6874936a6de140f4621b61081c4bfc0', '...   \n",
       "49792                                                 []   \n",
       "49793  ['ae805b87cff9e92472f537fe1b26506c2426fbcc', '...   \n",
       "\n",
       "                                       paper_id  \n",
       "0      921b2958cac4138d188fd5047aa12bbcf37ac867  \n",
       "1      a6cb366736791bcccc5c8639de5a8f9636bf87e8  \n",
       "2      bee044c8e8903fb67523c1f8c105ab4718600cdb  \n",
       "3      36eff562f65125511b5dfab68ce7f7a943c27478  \n",
       "4      cb92a7f9d9dbcf9145e32fdfa0e70e2a6b828eb1  \n",
       "...                                         ...  \n",
       "49789  5bc46ae1afb32e71943dda4b91987d89f9b3cbc9  \n",
       "49790  d9bcc496fc6968456ce675ea1a779aee197cea4f  \n",
       "49791  c78c8f55d1f125736fb71085b1fca9825c86bfe0  \n",
       "49792  95b79c2566877375cefdf3b8ae021189c2a62513  \n",
       "49793  68ed660195192943e0b21ef12d01118c2b2c13bb  \n",
       "\n",
       "[49794 rows x 9 columns]>"
      ]
     },
     "execution_count": 87,
     "metadata": {},
     "output_type": "execute_result"
    }
   ],
   "source": [
    "full_df.info"
   ]
  },
  {
   "cell_type": "code",
   "execution_count": 88,
   "metadata": {
    "tags": []
   },
   "outputs": [],
   "source": [
    "metadata_dict = full_df.set_index('paperId').T.to_dict('dict')"
   ]
  },
  {
   "cell_type": "code",
   "execution_count": 89,
   "metadata": {
    "tags": []
   },
   "outputs": [],
   "source": [
    "with open('data/specter/metadata_50k_full.json', 'w') as f:\n",
    "    json.dump(metadata_dict, f)"
   ]
  },
  {
   "cell_type": "code",
   "execution_count": 31,
   "metadata": {},
   "outputs": [],
   "source": [
    "all_ids_list = list(all_ids)\n",
    "random.shuffle(all_ids_list)"
   ]
  },
  {
   "cell_type": "code",
   "execution_count": 32,
   "metadata": {},
   "outputs": [],
   "source": [
    "train = all_ids_list[:int(len(all_ids_list)*0.8)]\n",
    "val = all_ids_list[int(len(all_ids_list)*0.8):int(len(all_ids_list)*0.9)]\n",
    "test = all_ids_list[int(len(all_ids_list)*0.9):]"
   ]
  },
  {
   "cell_type": "code",
   "execution_count": 35,
   "metadata": {},
   "outputs": [
    {
     "data": {
      "text/plain": [
       "(7937, 992, 993)"
      ]
     },
     "execution_count": 35,
     "metadata": {},
     "output_type": "execute_result"
    }
   ],
   "source": [
    "len(train), len(val), len(test)"
   ]
  },
  {
   "cell_type": "code",
   "execution_count": 37,
   "metadata": {},
   "outputs": [],
   "source": [
    "with open('data/specter/train.txt', 'w') as f:\n",
    "    for line in train:\n",
    "        f.write(f\"{line}\\n\")"
   ]
  },
  {
   "cell_type": "code",
   "execution_count": 38,
   "metadata": {},
   "outputs": [],
   "source": [
    "with open('data/specter/val.txt', 'w') as f:\n",
    "    for line in val:\n",
    "        f.write(f\"{line}\\n\")"
   ]
  },
  {
   "cell_type": "code",
   "execution_count": 39,
   "metadata": {},
   "outputs": [],
   "source": [
    "with open('data/specter/test.txt', 'w') as f:\n",
    "    for line in test:\n",
    "        f.write(f\"{line}\\n\")"
   ]
  },
  {
   "cell_type": "code",
   "execution_count": 25,
   "metadata": {
    "tags": []
   },
   "outputs": [],
   "source": [
    "import json\n",
    "import csv\n",
    "\n",
    "# Read in the data.json file and extract the paper IDs and embeddings\n",
    "with open('data/specter/output_10k.json', 'r') as f:\n",
    "    data = [json.loads(line) for line in f]\n",
    "paper_ids = [d['paper_id'] for d in data]\n",
    "embeddings = [d['embedding'] for d in data]\n",
    "\n",
    "# Write out the embeddings TSV file\n",
    "with open('data/specter/projector/embeddings.tsv', 'w', newline='') as f:\n",
    "    writer = csv.writer(f, delimiter='\\t')\n",
    "    for emb in embeddings:\n",
    "        writer.writerow(emb)\n",
    "\n",
    "# Read in the metadata.json file and extract the paper IDs and metadata\n",
    "with open('data/specter/metadata_full.json', 'r') as f:\n",
    "    metadata = json.load(f)\n",
    "metadata_keys = list(metadata.values())[0].keys()  # Assuming all metadata dicts have the same keys\n",
    "metadata_rows = [[d['paper_id']] + [metadata[d['paper_id']][k] for k in metadata_keys] for d in data]\n",
    "\n",
    "# Write out the metadata TSV file\n",
    "with open('data/specter/projector/metadata.tsv', 'w', newline='') as f:\n",
    "    writer = csv.writer(f, delimiter='\\t')\n",
    "    writer.writerow(['paper_id'] + list(metadata_keys))\n",
    "    for row in metadata_rows:\n",
    "        writer.writerow(row)\n"
   ]
  },
  {
   "cell_type": "code",
   "execution_count": 34,
   "metadata": {
    "tags": []
   },
   "outputs": [
    {
     "data": {
      "text/plain": [
       "9922"
      ]
     },
     "execution_count": 34,
     "metadata": {},
     "output_type": "execute_result"
    }
   ],
   "source": [
    "len(metadata_dict)"
   ]
  },
  {
   "cell_type": "code",
   "execution_count": 38,
   "metadata": {
    "tags": []
   },
   "outputs": [],
   "source": [
    "import json\n",
    "import csv\n",
    "\n",
    "# Read in the data.jsonl file and extract the paper IDs and embeddings\n",
    "with open('data/specter/output_10k.json', 'r') as f:\n",
    "    data = [json.loads(line) for line in f]\n",
    "paper_ids = [d['paper_id'] for d in data]\n",
    "embeddings = [d['embedding'] for d in data]\n",
    "\n",
    "# Read in the metadata_full.json file and extract the metadata for each paper ID that appears in data.json\n",
    "# with open('data/specter/metadata_full.json', 'r') as f:\n",
    "#     metadata = [json.loads(line) for line in f]\n",
    "# metadata_dict = {d.get('paper_id', ''): d for d in metadata}  # Use empty string as default value if \"paper_id\" is not present\n",
    "# metadata_keys = list(metadata[0].keys())  # Assuming all metadata dicts have the same keys\n",
    "# metadata_rows = [[d['paper_id']] + [metadata_dict.get(d['paper_id'], {}).get(k, '') for k in metadata_keys] for d in data]\n",
    "# metadata_keys = list(metadata.values())[0].keys()  # Assuming all metadata dicts have the same keys\n",
    "# metadat_keys.remove('abstract')\n",
    "# metadata_rows = [[d['paper_id']] + [metadata[d['paper_id']][k] for k in metadata_keys] for d in data]\n",
    "# metadata_rows = [paper_id + [\n",
    "\n",
    "\n",
    "\n",
    "# Write out the embeddings TSV file\n",
    "with open('data/specter/projector/embeddings.tsv', 'w', newline='') as f:\n",
    "    for emb in embeddings:\n",
    "        f.write('\\t'.join(map(str, emb)) + '\\n')\n",
    "\n",
    "# Write out the metadata TSV file\n",
    "# with open('data/specter/projector/metadata.tsv', 'w', newline='') as f:\n",
    "#     writer = csv.writer(f, delimiter='\\t')\n",
    "#     writer.writerow(['paper_id'] + metadata_keys)\n",
    "#     for row in metadata_rows:\n",
    "#         writer.writerow(row)\n"
   ]
  },
  {
   "cell_type": "code",
   "execution_count": 72,
   "metadata": {
    "tags": []
   },
   "outputs": [],
   "source": [
    "filtered_df = full_df[full_df['paperId'].isin(paper_ids)]\n",
    "filtered_df = filtered_df[filtered_df.columns.difference(['abstract', 'paperId', 'references'])]"
   ]
  },
  {
   "cell_type": "code",
   "execution_count": 73,
   "metadata": {
    "tags": []
   },
   "outputs": [
    {
     "data": {
      "text/plain": [
       "9922"
      ]
     },
     "execution_count": 73,
     "metadata": {},
     "output_type": "execute_result"
    }
   ],
   "source": [
    "len(embeddings)"
   ]
  },
  {
   "cell_type": "code",
   "execution_count": 74,
   "metadata": {
    "tags": []
   },
   "outputs": [
    {
     "data": {
      "text/plain": [
       "9922"
      ]
     },
     "execution_count": 74,
     "metadata": {},
     "output_type": "execute_result"
    }
   ],
   "source": [
    "len(filtered_df)"
   ]
  },
  {
   "cell_type": "code",
   "execution_count": 75,
   "metadata": {
    "tags": []
   },
   "outputs": [],
   "source": [
    "filtered_df.to_csv('data/specter/projector/metadata.tsv', sep=\"\\t\")"
   ]
  }
 ],
 "metadata": {
  "kernelspec": {
   "display_name": "Python 3 (ipykernel)",
   "language": "python",
   "name": "python3"
  },
  "language_info": {
   "codemirror_mode": {
    "name": "ipython",
    "version": 3
   },
   "file_extension": ".py",
   "mimetype": "text/x-python",
   "name": "python",
   "nbconvert_exporter": "python",
   "pygments_lexer": "ipython3",
   "version": "3.9.16"
  }
 },
 "nbformat": 4,
 "nbformat_minor": 4
}
