{
 "cells": [
  {
   "cell_type": "code",
   "execution_count": 1,
   "id": "903c1bc5-fa0a-409a-bf2b-7cf6f158c37b",
   "metadata": {},
   "outputs": [],
   "source": [
    "# !pip install jupyterlab-lsp==4.1.0\n",
    "# !pip install -U jedi-language-server"
   ]
  },
  {
   "cell_type": "code",
   "execution_count": 1,
   "id": "69b7bd74-989a-490a-aad2-62e71832f328",
   "metadata": {},
   "outputs": [
    {
     "name": "stdout",
     "output_type": "stream",
     "text": [
      "Requirement already satisfied: ujson in /usr/local/lib/python3.9/dist-packages (5.7.0)\n",
      "\u001b[33mWARNING: Running pip as the 'root' user can result in broken permissions and conflicting behaviour with the system package manager. It is recommended to use a virtual environment instead: https://pip.pypa.io/warnings/venv\u001b[0m\u001b[33m\n",
      "\u001b[0m"
     ]
    }
   ],
   "source": [
    "!python -m pip install ujson"
   ]
  },
  {
   "cell_type": "code",
   "execution_count": 2,
   "id": "61c16a2b-073d-453e-9309-0131e45e6765",
   "metadata": {},
   "outputs": [
    {
     "name": "stdout",
     "output_type": "stream",
     "text": [
      "Requirement already satisfied: optuna in /usr/local/lib/python3.9/dist-packages (3.1.1)\n",
      "Requirement already satisfied: sqlalchemy>=1.3.0 in /usr/local/lib/python3.9/dist-packages (from optuna) (1.4.41)\n",
      "Requirement already satisfied: alembic>=1.5.0 in /usr/local/lib/python3.9/dist-packages (from optuna) (1.10.4)\n",
      "Requirement already satisfied: numpy in /usr/local/lib/python3.9/dist-packages (from optuna) (1.23.4)\n",
      "Requirement already satisfied: colorlog in /usr/local/lib/python3.9/dist-packages (from optuna) (6.7.0)\n",
      "Requirement already satisfied: cmaes>=0.9.1 in /usr/local/lib/python3.9/dist-packages (from optuna) (0.9.1)\n",
      "Requirement already satisfied: PyYAML in /usr/local/lib/python3.9/dist-packages (from optuna) (5.4.1)\n",
      "Requirement already satisfied: tqdm in /usr/local/lib/python3.9/dist-packages (from optuna) (4.64.1)\n",
      "Requirement already satisfied: packaging>=20.0 in /usr/local/lib/python3.9/dist-packages (from optuna) (23.0)\n",
      "Requirement already satisfied: typing-extensions>=4 in /usr/local/lib/python3.9/dist-packages (from alembic>=1.5.0->optuna) (4.4.0)\n",
      "Requirement already satisfied: Mako in /usr/local/lib/python3.9/dist-packages (from alembic>=1.5.0->optuna) (1.2.4)\n",
      "Requirement already satisfied: greenlet!=0.4.17 in /usr/local/lib/python3.9/dist-packages (from sqlalchemy>=1.3.0->optuna) (2.0.1)\n",
      "Requirement already satisfied: MarkupSafe>=0.9.2 in /usr/local/lib/python3.9/dist-packages (from Mako->alembic>=1.5.0->optuna) (2.1.2)\n",
      "\u001b[33mWARNING: Running pip as the 'root' user can result in broken permissions and conflicting behaviour with the system package manager. It is recommended to use a virtual environment instead: https://pip.pypa.io/warnings/venv\u001b[0m\u001b[33m\n",
      "\u001b[0m"
     ]
    }
   ],
   "source": [
    "!pip install optuna"
   ]
  },
  {
   "cell_type": "code",
   "execution_count": 3,
   "id": "e6e4ff16-2fa7-4b70-a069-11d574edeccc",
   "metadata": {},
   "outputs": [],
   "source": [
    "import ujson as json\n",
    "import numpy as np\n",
    "import matplotlib.pyplot as plt\n",
    "import pandas as pd\n",
    "import matplotlib.cm as cm\n",
    "\n",
    "from transformers import AutoModel, AutoTokenizer\n",
    "import torch\n",
    "import torch.nn.functional as F\n",
    "import torch.nn as nn\n",
    "import torch.optim as optim\n",
    "from torch.utils.data import Dataset, DataLoader\n",
    "from sklearn.model_selection import train_test_split\n",
    "from sklearn.neighbors import KDTree, BallTree\n",
    "from tqdm.notebook import tqdm\n",
    "# from concurrent.futures import ProcessPoolExecutor\n",
    "\n",
    "import os\n",
    "# import dill\n",
    "import pickle\n",
    "import ast\n",
    "import random\n",
    "# import optuna"
   ]
  },
  {
   "cell_type": "code",
   "execution_count": 4,
   "id": "bef00248-ed04-48fe-9c03-94c3f21f55e5",
   "metadata": {},
   "outputs": [
    {
     "data": {
      "text/plain": [
       "('1.12.1+cu116', True, 0, 'NVIDIA RTX A4000')"
      ]
     },
     "execution_count": 4,
     "metadata": {},
     "output_type": "execute_result"
    }
   ],
   "source": [
    "torch.__version__, torch.cuda.is_available(), torch.cuda.current_device(), torch.cuda.get_device_name(0)"
   ]
  },
  {
   "cell_type": "code",
   "execution_count": 5,
   "id": "0511d484-fb64-46b0-899a-a2215f99b62a",
   "metadata": {},
   "outputs": [],
   "source": [
    "DATA_PATH = './data'"
   ]
  },
  {
   "cell_type": "code",
   "execution_count": 6,
   "id": "c0d9dc8f-4167-4710-85ae-b5ad9e5b3448",
   "metadata": {},
   "outputs": [],
   "source": [
    "embeddings_df = pd.read_parquet(f'{DATA_PATH}/output_10k.parquet')\n",
    "reference_embeddings_df = pd.read_parquet(f'{DATA_PATH}/references_output_100k.parquet')\n",
    "\n",
    "embeddings = embeddings_df.to_dict('records')\n",
    "reference_embeddings = reference_embeddings_df.to_dict('records')\n",
    "\n",
    "with open(f'{DATA_PATH}/metadata_10k_full.json', 'r') as f:\n",
    "    metadata = json.load(f)\n",
    "\n",
    "with open(f'{DATA_PATH}/references_metadata_formatted.json', 'r') as f:\n",
    "    reference_metadata = json.load(f)"
   ]
  },
  {
   "cell_type": "code",
   "execution_count": 7,
   "id": "c459c0c2-81db-48b3-b93c-c6d44a4de7e3",
   "metadata": {},
   "outputs": [
    {
     "data": {
      "text/plain": [
       "(9922, 108173, 9922, 108173)"
      ]
     },
     "execution_count": 7,
     "metadata": {},
     "output_type": "execute_result"
    }
   ],
   "source": [
    "len(embeddings), len(reference_embeddings), len(metadata), len(reference_metadata)"
   ]
  },
  {
   "cell_type": "code",
   "execution_count": 8,
   "id": "b386fad7-4252-4fbf-8656-3c2c16dcda7e",
   "metadata": {},
   "outputs": [
    {
     "data": {
      "text/plain": [
       "107883"
      ]
     },
     "execution_count": 8,
     "metadata": {},
     "output_type": "execute_result"
    }
   ],
   "source": [
    "# Filter all_ref_ids with non-null years using list comprehension\n",
    "all_ref_ids = [e['paper_id'] for e in reference_embeddings if reference_metadata[e['paper_id']]['year'] is not None]\n",
    "\n",
    "len(all_ref_ids)"
   ]
  },
  {
   "cell_type": "code",
   "execution_count": 8,
   "id": "d8a43b2c-e4f1-4054-a24f-ed75dd5a41e2",
   "metadata": {
    "jupyter": {
     "source_hidden": true
    },
    "tags": []
   },
   "outputs": [],
   "source": [
    "# # remove ref_ids with null year\n",
    "# all_ref_ids = [e['paper_id'] for e in reference_embeddings]\n",
    "# null_year_ref_ids = [pid for pid in all_ref_ids if reference_metadata[pid]['year'] is None]\n",
    "# null_year_ref_ids_set = set(null_year_ref_ids)\n",
    "# all_ref_ids = list(set(all_ref_ids) - null_year_ref_ids_set)\n",
    "\n",
    "# reference_metadata = {k:v for k,v in reference_metadata.items() if k not in null_year_ref_ids_set}\n",
    "# reference_embeddings = [e for e in reference_embeddings if e['paper_id'] not in null_year_ref_ids_set]\n",
    "\n",
    "# # originally there were 10K papers, however removing papers with null title/abstract or 0 references resulted in 700 less\n",
    "# all_paper_ids = [e['paper_id'] for e in embeddings]\n",
    "# zero_ref_pids = [pid for pid in all_paper_ids if len(ast.literal_eval(metadata[pid]['references'])) == 0]\n",
    "# all_paper_ids = list(set(all_paper_ids) - set(zero_ref_pids))\n",
    "# all_pid_set = set(all_paper_ids)\n",
    "\n",
    "# common_pid_set = set(all_paper_ids) & set(all_ref_ids)\n",
    "\n",
    "# all_pids = all_paper_ids + [pid for pid in all_ref_ids if pid not in common_pid_set]\n",
    "\n",
    "# embeddings = [e for e in embeddings if e['paper_id'] in all_pid_set]\n",
    "\n",
    "# metadata = {k:v for k,v in metadata.items() if k in all_pid_set}\n",
    "\n",
    "# for pid in metadata:\n",
    "#     p = metadata[pid]\n",
    "#     p['references'] = ast.literal_eval(p['references'])\n",
    "    \n",
    "# metadata = {**metadata, **{k: v for k, v in reference_metadata.items() if k not in metadata}}\n"
   ]
  },
  {
   "cell_type": "code",
   "execution_count": 9,
   "id": "87cd6c91-58ec-4256-b114-713b883bafe8",
   "metadata": {},
   "outputs": [],
   "source": [
    "filtered_reference_metadata = {}\n",
    "filtered_reference_embeddings = []\n",
    "filtered_metadata = {}\n",
    "filtered_embeddings = []\n",
    "\n",
    "all_paper_ids = set()\n",
    "all_ref_ids = set()\n",
    "\n",
    "for e in reference_embeddings:\n",
    "    paper_id = e['paper_id']\n",
    "    if reference_metadata[paper_id]['year'] is not None:\n",
    "        filtered_reference_metadata[paper_id] = reference_metadata[paper_id]\n",
    "        filtered_reference_embeddings.append(e)\n",
    "        all_ref_ids.add(paper_id)\n",
    "\n",
    "reference_metadata = filtered_reference_metadata\n",
    "reference_embeddings = filtered_reference_embeddings\n",
    "\n",
    "for e in embeddings:\n",
    "    paper_id = e['paper_id']\n",
    "    p = metadata[paper_id]\n",
    "    p['references'] = ast.literal_eval(p['references'])\n",
    "\n",
    "    if len(p['references']) > 0:\n",
    "        all_paper_ids.add(paper_id)\n",
    "        filtered_metadata[paper_id] = p\n",
    "        filtered_embeddings.append(e)\n",
    "\n",
    "embeddings = filtered_embeddings\n",
    "metadata = filtered_metadata\n",
    "\n",
    "common_pid_set = all_paper_ids & all_ref_ids\n",
    "all_pids = list(all_paper_ids | all_ref_ids)\n",
    "\n",
    "metadata = {**metadata, **{k: v for k, v in reference_metadata.items() if k not in metadata}}\n"
   ]
  },
  {
   "cell_type": "code",
   "execution_count": 10,
   "id": "4a4937f0-4e80-4871-8e70-a6da82ff372c",
   "metadata": {},
   "outputs": [
    {
     "data": {
      "text/plain": [
       "(9319, 107883)"
      ]
     },
     "execution_count": 10,
     "metadata": {},
     "output_type": "execute_result"
    }
   ],
   "source": [
    "len(all_paper_ids), len(all_ref_ids)"
   ]
  },
  {
   "cell_type": "code",
   "execution_count": 11,
   "id": "5a1097eb-6dbb-496d-aa75-9d8c89a1b171",
   "metadata": {
    "tags": []
   },
   "outputs": [
    {
     "data": {
      "text/plain": [
       "108246"
      ]
     },
     "execution_count": 11,
     "metadata": {},
     "output_type": "execute_result"
    }
   ],
   "source": [
    "# Maybe a list of all references needed if we are preparing reranking model data randomly and\n",
    "# need to compare years of the references to the query paper (to ensure the model does not have \n",
    "# access to future information \n",
    "\n",
    "all_references = set()\n",
    "ref_len_lst = []\n",
    "for pid in filtered_metadata:\n",
    "    p = filtered_metadata[pid]\n",
    "    p_refs = p['references']\n",
    "    ref_len_lst.append(len(p_refs))\n",
    "    all_references.update(p_refs)\n",
    "len(all_references)"
   ]
  },
  {
   "cell_type": "code",
   "execution_count": 12,
   "id": "f79da025-ccf3-4a03-8291-f394cec24f18",
   "metadata": {},
   "outputs": [],
   "source": [
    "def plot_stats(data, xlabel='Label Needed', title='Title Needed', bins=50):\n",
    "    plt.hist(data, bins=bins)\n",
    "    plt.xlabel(xlabel)\n",
    "    plt.ylabel('Frequency')\n",
    "\n",
    "    np_arr = np.array(data)\n",
    "\n",
    "    mean_val = np.mean(np_arr)\n",
    "    plt.axvline(mean_val, color='orange', linestyle='dashed', linewidth=1)\n",
    "    plt.text(mean_val, plt.ylim()[1]*0.5, f'Mean: {mean_val:.2f}', rotation=45, color='orange')\n",
    "\n",
    "    # Add a vertical line for the median\n",
    "    median_val = np.median(np_arr)\n",
    "    plt.axvline(median_val, color='red', linestyle='dashed', linewidth=1)\n",
    "    plt.text(median_val, plt.ylim()[1]*0.25, f'Median: {median_val:.2f}', rotation=45, color='red')\n",
    "    plt.title(title)\n",
    "    plt.show()\n"
   ]
  },
  {
   "cell_type": "code",
   "execution_count": 40,
   "id": "1e4c5482-d4d9-4d2c-a0ad-d5db6cbe4385",
   "metadata": {
    "jupyter": {
     "source_hidden": true
    },
    "tags": []
   },
   "outputs": [],
   "source": [
    "# plt.hist(ref_len_lst, bins=50)\n",
    "# plt.xlabel('Number of references')\n",
    "# plt.ylabel('Frequency')\n",
    "\n",
    "# np_arr = np.array(ref_len_lst)\n",
    "\n",
    "# mean_val = np.mean(np_arr)\n",
    "# plt.axvline(mean_val, color='orange', linestyle='dashed', linewidth=1)\n",
    "# plt.text(mean_val, 50, f'Mean: {mean_val:.2f}', rotation=90, color='orange')\n",
    "\n",
    "\n",
    "# # Add a vertical line for the median\n",
    "# median_val = np.median(np_arr)\n",
    "# plt.axvline(median_val, color='yellow', linestyle='dashed', linewidth=1)\n",
    "# plt.text(median_val, 75, f'Median: {median_val:.2f}', rotation=90, color='yellow')\n",
    "\n",
    "\n",
    "# plt.show()"
   ]
  },
  {
   "cell_type": "code",
   "execution_count": 13,
   "id": "efbf2905-4c75-4b12-94d5-9aff60cb6ed5",
   "metadata": {},
   "outputs": [
    {
     "data": {
      "image/png": "[encoded data removed]",
      "text/plain": [
       "<Figure size 640x480 with 1 Axes>"
      ]
     },
     "metadata": {},
     "output_type": "display_data"
    }
   ],
   "source": [
    "plot_stats(ref_len_lst, xlabel='Number of references', title=f'Total Number of Papers = {len(ref_len_lst)}')"
   ]
  },
  {
   "cell_type": "code",
   "execution_count": 14,
   "id": "afda9349-8ab4-48a6-b149-9719c50f713b",
   "metadata": {},
   "outputs": [
    {
     "data": {
      "text/plain": [
       "0.08609094100474844"
      ]
     },
     "execution_count": 14,
     "metadata": {},
     "output_type": "execute_result"
    }
   ],
   "source": [
    "len(embeddings) / len(all_references)"
   ]
  },
  {
   "cell_type": "code",
   "execution_count": 29,
   "id": "aa8d2e98-ab32-47cb-a9c6-035dbac955d4",
   "metadata": {
    "jupyter": {
     "source_hidden": true
    },
    "tags": []
   },
   "outputs": [],
   "source": [
    "# weights = torch.stack([torch.tensor(e['embedding']) for e in embeddings]).double()\n",
    "# all_paper_ids = [e['paper_id'] for e in embeddings]"
   ]
  },
  {
   "cell_type": "code",
   "execution_count": 30,
   "id": "9c6dcbb4-2977-4530-a8a3-62c4312d24cc",
   "metadata": {
    "jupyter": {
     "source_hidden": true
    },
    "tags": []
   },
   "outputs": [],
   "source": [
    "# reference_weights = torch.stack([torch.tensor(e['embedding']) for e in reference_embeddings]).double()"
   ]
  },
  {
   "cell_type": "code",
   "execution_count": 31,
   "id": "0e5d2e77-3967-4881-9ce0-04d84811378b",
   "metadata": {
    "jupyter": {
     "source_hidden": true
    },
    "tags": []
   },
   "outputs": [],
   "source": [
    "# reference_weights.shape, weights.shape"
   ]
  },
  {
   "cell_type": "code",
   "execution_count": 32,
   "id": "4951cb37-296f-4748-87af-d642bea6275b",
   "metadata": {
    "jupyter": {
     "source_hidden": true
    },
    "tags": []
   },
   "outputs": [],
   "source": [
    "# weights = torch.cat((weights, reference_weights), dim=0)"
   ]
  },
  {
   "cell_type": "code",
   "execution_count": 15,
   "id": "2742c571-b218-4637-bfd1-43b6c3763669",
   "metadata": {},
   "outputs": [
    {
     "data": {
      "text/plain": [
       "(9319, 107904, 107883)"
      ]
     },
     "execution_count": 15,
     "metadata": {},
     "output_type": "execute_result"
    }
   ],
   "source": [
    "len(embeddings), len(metadata), len(reference_metadata)"
   ]
  },
  {
   "cell_type": "code",
   "execution_count": 16,
   "id": "1f2367e2-7993-430d-8671-1e64155184c4",
   "metadata": {
    "tags": []
   },
   "outputs": [
    {
     "name": "stdout",
     "output_type": "stream",
     "text": [
      "All good, papers with 0 references not stored\n"
     ]
    }
   ],
   "source": [
    "try:\n",
    "    metadata['659408b243cec55de8d0a3bc51b81173007aa89b']['references']\n",
    "except KeyError:\n",
    "    print('All good, papers with 0 references not stored')"
   ]
  },
  {
   "cell_type": "code",
   "execution_count": 17,
   "id": "c3e76bbd-e0b9-4807-96cc-d531763a7fe5",
   "metadata": {},
   "outputs": [
    {
     "data": {
      "text/plain": [
       "{'title': 'Attention is All you Need',\n",
       " 'abstract': 'The dominant sequence transduction models are based on complex recurrent or convolutional neural networks in an encoder-decoder configuration. The best performing models also connect the encoder and decoder through an attention mechanism. We propose a new simple network architecture, the Transformer, based solely on attention mechanisms, dispensing with recurrence and convolutions entirely. Experiments on two machine translation tasks show these models to be superior in quality while being more parallelizable and requiring significantly less time to train. Our model achieves 28.4 BLEU on the WMT 2014 English-to-German translation task, improving over the existing best results, including ensembles by over 2 BLEU. On the WMT 2014 English-to-French translation task, our model establishes a new single-model state-of-the-art BLEU score of 41.8 after training for 3.5 days on eight GPUs, a small fraction of the training costs of the best models from the literature. We show that the Transformer generalizes well to other tasks by applying it successfully to English constituency parsing both with large and limited training data.',\n",
       " 'year': 2017,\n",
       " 'referenceCount': 39,\n",
       " 'citationCount': 51796,\n",
       " 'influentialCitationCount': 11400,\n",
       " 'references': ['2c03df8b48bf3fa39054345bafabfeff15bfd11d',\n",
       "  'a6cb366736791bcccc5c8639de5a8f9636bf87e8',\n",
       "  '44d2abe2175df8153f465f6c39b68b76a0d40ab9',\n",
       "  '34f25a8704614163c4095b3ee2fc969b60de4698',\n",
       "  'fa72afa9b2cbc8f0d7b05d52548906610ffbb9c5',\n",
       "  '23ffaa0fe06eae05817f527a47ac3291077f9e58',\n",
       "  '0b544dfe355a5070b60986319a3f51fb45d1348e',\n",
       "  'cea967b59209c6be22829699f05b8b1ac4dc092d',\n",
       "  'adfcf065e15fd3bc9badf6145034c84dfb08f204',\n",
       "  '5b6ec746d309b165f9f9def873a2375b6fb40f3d',\n",
       "  '0b44fcbeea9415d400c5f5789d6b892b6f98daff',\n",
       "  '1af68821518f03568f913ab03fc02080247a27ff',\n",
       "  'dbde7dfa6cae81df8ac19ef500c42db96c3d1edd',\n",
       "  '89b1f4740ae37fd04f6ac007577bdd34621f0861',\n",
       "  '43428880d75b3a14257c3ee9bda054e61eb869c0',\n",
       "  '4f10b9f47c5bb6b54dd4f5ca8d9fa2c0bbd7ec5e',\n",
       "  '204a4a70428f3938d2c538a4d74c7ae0416306d8',\n",
       "  'aed054834e2c696807cc8b227ac7a4197196e211',\n",
       "  '032274e57f7d8b456bd255fe76b909b2c1d7458e',\n",
       "  '510e26733aaff585d65701b9f1be7ca9d5afc586',\n",
       "  '2f2d8f8072e5cc9b296fad551f65f183bdbff7aa',\n",
       "  'f52de7242e574b70410ca6fb70b79c811919fc00',\n",
       "  '47570e7f63e296f224a0e7f9a0d08b0de3cbaf40',\n",
       "  '13fe71da009484f240c46f14d9330e932f8de210',\n",
       "  'd76c07211479e233f7c6a6f32d5346c983c5598f',\n",
       "  '78a9513e70f596077179101f6cb6eadc51602039',\n",
       "  '63e39cdf1ad884da6bc69096bb3413b5b1100559',\n",
       "  '98445f4172659ec5e891e031d8202c102135c644',\n",
       "  '7345843e87c81e24e42264859b214d26042f8d51',\n",
       "  '4550a4c714920ef57d19878e31c9ebae37b049b2',\n",
       "  '13d9323a8716131911bfda048a40e2cde1a76a46',\n",
       "  '5e4eb58d5b47ac1c73f4cf189497170e75ae6237',\n",
       "  'b60abe57bc195616063be10638c6437358c81d1e',\n",
       "  '174bbdb96252454cbb40a9c4e53335996235a008',\n",
       "  '5bfd8d40bc071fffaf93685a46974b122ee4239d',\n",
       "  '79baf48bd560060549998d7b61751286de062e2a',\n",
       "  '735d547fc75e0772d2a78c46a1cc5fad7da1474c'],\n",
       " 'paper_id': '204e3073870fae3d05bcbc2f6a8e263d9b72e776'}"
      ]
     },
     "execution_count": 17,
     "metadata": {},
     "output_type": "execute_result"
    }
   ],
   "source": [
    "metadata['204e3073870fae3d05bcbc2f6a8e263d9b72e776']"
   ]
  },
  {
   "cell_type": "code",
   "execution_count": 24,
   "id": "c8ada4f4-2e14-4022-a363-53065953572f",
   "metadata": {
    "jupyter": {
     "source_hidden": true
    },
    "tags": []
   },
   "outputs": [],
   "source": [
    "# embedding_map = {}\n",
    "# for obj in embeddings:\n",
    "#     # object is a dict like {'paper_id': str, 'embedding': np.array}\n",
    "#     paper_id, emb_768 = obj.values()\n",
    "#     arr = np.asarray(emb_768)\n",
    "#     embedding_map[paper_id] = torch.tensor(arr, dtype=torch.float32)"
   ]
  },
  {
   "cell_type": "code",
   "execution_count": 25,
   "id": "4bda0994-da56-4f92-b64b-e7bac3b4f02b",
   "metadata": {
    "jupyter": {
     "source_hidden": true
    },
    "tags": []
   },
   "outputs": [],
   "source": [
    "# embedding_map = {}\n",
    "# for obj in reference_embeddings:\n",
    "#     # object is a dict like {'paper_id': str, 'embedding': np.array}\n",
    "#     paper_id, emb_768 = obj.values()\n",
    "#     arr = np.asarray(emb_768)\n",
    "#     embedding_map[paper_id] = torch.tensor(arr, dtype=torch.float32)"
   ]
  },
  {
   "cell_type": "code",
   "execution_count": 18,
   "id": "4a565771-90a4-4256-be14-7c9127520193",
   "metadata": {},
   "outputs": [],
   "source": [
    "def embedding_dict_to_tensor(obj):\n",
    "    paper_id, emb_768 = obj.values()\n",
    "    arr = np.asarray(emb_768)\n",
    "    return paper_id, torch.tensor(arr, dtype=torch.float32)"
   ]
  },
  {
   "cell_type": "code",
   "execution_count": 19,
   "id": "3caa3c22-f34f-49ac-8b9f-7aaa5edbc302",
   "metadata": {},
   "outputs": [
    {
     "data": {
      "text/plain": [
       "107904"
      ]
     },
     "execution_count": 19,
     "metadata": {},
     "output_type": "execute_result"
    }
   ],
   "source": [
    "all_embeddings = embeddings + reference_embeddings\n",
    "embedding_map = dict([embedding_dict_to_tensor(obj) for obj in all_embeddings])\n",
    "len(embedding_map)"
   ]
  },
  {
   "cell_type": "code",
   "execution_count": 20,
   "id": "7aba4c63-b803-478a-9b63-5f19e6ab2ebe",
   "metadata": {},
   "outputs": [
    {
     "data": {
      "text/plain": [
       "(107904, 768)"
      ]
     },
     "execution_count": 20,
     "metadata": {},
     "output_type": "execute_result"
    }
   ],
   "source": [
    "embedding_matrix = np.array([embedding_map[paper_id].numpy() for paper_id in all_pids])\n",
    "embedding_matrix.shape"
   ]
  },
  {
   "cell_type": "code",
   "execution_count": 21,
   "id": "ae4d54f2-e8ed-4aa2-a933-9f602e209889",
   "metadata": {},
   "outputs": [],
   "source": [
    "# We can use l2 distance ªas cosine distance isn't really a thing in sklearn BallTree/KDTree) so long as the input matrix is l2 normalized\n",
    "# in this case it will result in the same ordering as a cosine distance\n",
    "# https://stackoverflow.com/questions/34144632/using-cosine-distance-with-scikit-learn-kneighborsclassifier\n",
    "knn_tree = BallTree(embedding_matrix, metric='l2')"
   ]
  },
  {
   "cell_type": "code",
   "execution_count": 22,
   "id": "f5d607bf-a859-489f-83af-674bcb0ec381",
   "metadata": {},
   "outputs": [
    {
     "data": {
      "text/plain": [
       "9319"
      ]
     },
     "execution_count": 22,
     "metadata": {},
     "output_type": "execute_result"
    }
   ],
   "source": [
    "reference_map = {}\n",
    "# fetch references from metadata dict in the format {paper_id: [list of references]}\n",
    "for paper_id in all_paper_ids:\n",
    "    # references = ast.literal_eval(metadata[paper_id].get('references'))\n",
    "    references = metadata[paper_id].get('references')\n",
    "    reference_map[paper_id] = references or []\n",
    "len(reference_map)"
   ]
  },
  {
   "cell_type": "code",
   "execution_count": 23,
   "id": "7ab71320-4618-400b-9426-f0d4c094181c",
   "metadata": {},
   "outputs": [
    {
     "data": {
      "text/plain": [
       "(1855, 9319)"
      ]
     },
     "execution_count": 23,
     "metadata": {},
     "output_type": "execute_result"
    }
   ],
   "source": [
    "all_years = [metadata[pid]['year'] for pid in all_paper_ids]\n",
    "min(all_years), len(all_years)"
   ]
  },
  {
   "cell_type": "code",
   "execution_count": 24,
   "id": "4381b95f-d77e-41fd-aea2-ece1aea800ff",
   "metadata": {},
   "outputs": [
    {
     "data": {
      "image/png": "[encoded data removed]",
      "text/plain": [
       "<Figure size 640x480 with 1 Axes>"
      ]
     },
     "metadata": {},
     "output_type": "display_data"
    }
   ],
   "source": [
    "plot_stats(all_years, xlabel='Years', title=f'Total Number of Papers = {len(all_years)}', bins=20)"
   ]
  },
  {
   "cell_type": "code",
   "execution_count": 25,
   "id": "6b27c918-511f-4dd5-afa5-99677ff32d8e",
   "metadata": {},
   "outputs": [],
   "source": [
    "all_paper_ids = list(all_paper_ids)\n",
    "train_paper_ids, test_paper_ids = train_test_split(all_paper_ids, test_size=0.2, random_state=42)\n",
    "val_paper_ids, test_paper_ids = train_test_split(test_paper_ids, test_size=0.5, random_state=42)"
   ]
  },
  {
   "cell_type": "code",
   "execution_count": 26,
   "id": "12e8e416-c0c9-4ee6-9962-1c76e9dc4b5b",
   "metadata": {},
   "outputs": [
    {
     "data": {
      "text/plain": [
       "9319"
      ]
     },
     "execution_count": 26,
     "metadata": {},
     "output_type": "execute_result"
    }
   ],
   "source": [
    "len(train_paper_ids) +  len(val_paper_ids) + len(test_paper_ids)"
   ]
  },
  {
   "cell_type": "code",
   "execution_count": 27,
   "id": "e5428d18-cd17-46d9-a575-31282e8f2264",
   "metadata": {},
   "outputs": [],
   "source": [
    "specter_tokenizer = AutoTokenizer.from_pretrained('allenai/specter')\n",
    "specter_model = AutoModel.from_pretrained('allenai/specter')"
   ]
  },
  {
   "cell_type": "code",
   "execution_count": 28,
   "id": "63ed90a8-62e2-443d-ba5a-783037602bfa",
   "metadata": {},
   "outputs": [],
   "source": [
    "@torch.no_grad()\n",
    "def get_embedding(paper, embedding_map=None):\n",
    "    '''\n",
    "    Given an input paper (dict with at least 'title' as a key, returns a 768 dimensional embeddings using the SPECTER model from HF.\n",
    "    '''\n",
    "    assert type(paper)==dict and 'title' in paper.keys(), \"paper must be a dict with at least 'title' as a key\"\n",
    "    if embedding_map and paper['paper_id'] is not None and paper['paper_id'] in embedding_map:\n",
    "        return embedding_map[paper['paper_id']].view(1,-1)\n",
    "    # tokenizer = AutoTokenizer.from_pretrained('allenai/specter')\n",
    "    # model = AutoModel.from_pretrained('allenai/specter')\n",
    "    title_abs = [d['title'] + specter_tokenizer.sep_token + (d.get('abstract') or '') for d in [paper]]\n",
    "    inputs = specter_tokenizer(title_abs, padding=True, truncation=True, return_tensors=\"pt\", max_length=512)\n",
    "    result = specter_model(**inputs)\n",
    "    cur_embedding = result.last_hidden_state[:, 0, :]\n",
    "    return cur_embedding"
   ]
  },
  {
   "cell_type": "code",
   "execution_count": 29,
   "id": "b517e19b-dc72-4402-b9be-ae157a923fff",
   "metadata": {},
   "outputs": [],
   "source": [
    "def find_knn(cur_embedding, knn_tree, knn_k):\n",
    "    '''\n",
    "    Given a SPECTER embedding (shape = [1,768]), a KNN Tree and knn_k (number of nearest neighbours), returns the top indices from the knn_tree\n",
    "    '''\n",
    "    # assert(cur_embedding.shape==(1,768))\n",
    "    \n",
    "    # this score isn't really a score but distance rather (not cosine similarity)\n",
    "    # this becaues BallTree don't support cosine distance :(\n",
    "    scores, top_indices = knn_tree.query(cur_embedding.reshape(1,-1), k=knn_k, return_distance=True)\n",
    "    scores, top_indices = np.squeeze(scores), np.squeeze(top_indices)\n",
    "    return top_indices, scores\n",
    "    "
   ]
  },
  {
   "cell_type": "code",
   "execution_count": 30,
   "id": "b6196973-da60-499b-adad-8787ae7176d4",
   "metadata": {},
   "outputs": [],
   "source": [
    "def find_knn_pid(pid, knn_tree, embedding_map, metadata, all_paper_ids, knn_k, return_scores=False):\n",
    "    '''\n",
    "    '''\n",
    "    paper_embedding = get_embedding(metadata[pid], embedding_map)\n",
    "    top_indices, scores = find_knn(paper_embedding, knn_tree, knn_k=knn_k)\n",
    "    recommended_paper_ids = [all_paper_ids[i] for i in top_indices]\n",
    "    if return_scores:\n",
    "        return recommended_paper_ids, scores\n",
    "    return recommended_paper_ids"
   ]
  },
  {
   "cell_type": "code",
   "execution_count": 30,
   "id": "f72b46b0-6356-4081-a555-5d9291c26fcd",
   "metadata": {
    "jupyter": {
     "source_hidden": true
    },
    "tags": []
   },
   "outputs": [],
   "source": [
    "## V1\n",
    "# @torch.no_grad()\n",
    "# def find_similar_knn(cur_embedding, embedding_map, k=10, least = False):\n",
    "#     # current_embeddings shape: [1,768]\n",
    "#     # weights shape: [num_of_egs, embedding_dim=768]\n",
    "#     # cur_embedding = get_embedding(paper)\n",
    "#     # input shape should be [1,768]\n",
    "#     weights = \n",
    "#     assert(torch.is_tensor(cur_embedding))\n",
    "#     # print(cur_embedding.shape)\n",
    "#     assert(cur_embedding.shape==(1,768))\n",
    "#     weights_norm = F.normalize(weights, p=2, dim=1).double() # (N, d)\n",
    "#     cur_em_norm = F.normalize(cur_embedding, p=2, dim=1).double() # (1, d)\n",
    "#     cos_sim = F.cosine_similarity(weights_norm, cur_em_norm, dim=1)\n",
    "#     topk = torch.topk(cos_sim, k, largest = False if least else True)\n",
    "#     top_indices = topk.indices\n",
    "#     top_values = topk.values\n",
    "#     return top_indices, top_values\n",
    "\n",
    "## V2\n",
    "\n",
    "# @torch.no_grad()\n",
    "# def find_similar_knn(cur_embedding, weights, k=10, least = False):\n",
    "#     # current_embeddings shape: [1,768]\n",
    "#     # weights shape: [num_of_egs, embedding_dim=768]\n",
    "#     # cur_embedding = get_embedding(paper)\n",
    "#     # input shape should be [1,768]\n",
    "#     assert(torch.is_tensor(cur_embedding))\n",
    "#     # print(cur_embedding.shape)\n",
    "#     assert(cur_embedding.shape==(1,768))\n",
    "#     weights_norm = F.normalize(weights, p=2, dim=1).double() # (N, d)\n",
    "#     cur_em_norm = F.normalize(cur_embedding, p=2, dim=1).double() # (1, d)\n",
    "#     cos_sim = F.cosine_similarity(weights_norm, cur_em_norm, dim=1)\n",
    "#     topk = torch.topk(cos_sim, k, largest = False if least else True)\n",
    "#     top_indices = topk.indices\n",
    "#     top_values = topk.values\n",
    "#     return top_indices, top_values"
   ]
  },
  {
   "cell_type": "code",
   "execution_count": 31,
   "id": "b64acb75-59e7-4646-bed5-b0566d426ae9",
   "metadata": {},
   "outputs": [],
   "source": [
    "def evaluate(recommended, actual, top_k):\n",
    "    recommended = np.asarray(recommended)[:top_k] if top_k else np.asarray(recommended)\n",
    "    actual = np.asarray(actual)\n",
    "    \n",
    "    if len(actual) == 0:\n",
    "        print('No actual references stored in the metadata')\n",
    "        return 0,0,0\n",
    "    \n",
    "    true_positives = np.intersect1d(recommended, actual)\n",
    "    false_positives = np.setdiff1d(recommended, actual)\n",
    "    false_negatives = np.setdiff1d(actual, recommended)\n",
    "    \n",
    "    assert(len(true_positives) + len(false_positives) == len(recommended))\n",
    "    assert(len(true_positives) + len(false_negatives) == len(actual))\n",
    "\n",
    "    precision = len(true_positives) / (len(true_positives) + len(false_positives))\n",
    "    recall = len(true_positives) / (len(true_positives) + len(false_negatives))\n",
    "    f1_score = 2 * (precision * recall) / (precision + recall) if (precision + recall) != 0 else 0\n",
    "    \n",
    "    return precision, recall, f1_score\n"
   ]
  },
  {
   "cell_type": "code",
   "execution_count": 36,
   "id": "f3b93ef8-49ed-44f0-a37b-a43e9066476f",
   "metadata": {
    "jupyter": {
     "source_hidden": true
    },
    "tags": []
   },
   "outputs": [],
   "source": [
    "# a3e4ceb42cbcd2c807d53aff90a8cb1f5ee3f031\n",
    "new_title = 'SPECTER: Document-level Representation Learning using Citation-informed Transformers'\n",
    "\n",
    "new_abstract = 'We propose SPECTER, a new method to generate document-level embedding of scientific documents based on pretraining a Transformer language model on a powerful signal of document-level relatedness: the citation graph. Unlike existing pretrained language models, SPECTER can be easily applied to downstream applications without task-specific fine-tuning. Additionally, to encourage further research on document-level models, we introduce SciDocs, a new evaluation benchmark consisting of seven document-level tasks ranging from citation prediction, to document classification and recommendation. We show that SPECTER outperforms a variety of competitive baselines on the benchmark.'"
   ]
  },
  {
   "cell_type": "code",
   "execution_count": 32,
   "id": "6aff73e4-3d7a-42d9-893a-d4fd2aca3be7",
   "metadata": {},
   "outputs": [],
   "source": [
    "# # 204e3073870fae3d05bcbc2f6a8e263d9b72e776\n",
    "# new_title = 'Attention Is All You Need'\n",
    "# new_abstract = 'The dominant sequence transduction models are based on complex recurrent or convolutional neural networks in an encoder-decoder configuration. The best performing models also connect the encoder and decoder through an attention mechanism. We propose a new simple network architecture, the Transformer, based solely on attention mechanisms, dispensing with recurrence and convolutions entirely. Experiments on two machine translation tasks show these models to be superior in quality while being more parallelizable and requiring significantly less time to train. Our model achieves 28.4 BLEU on the WMT 2014 English-to-German translation task, improving over the existing best results, including ensembles by over 2 BLEU. On the WMT 2014 English-to-French translation task, our model establishes a new single-model state-of-the-art BLEU score of 41.8 after training for 3.5 days on eight GPUs, a small fraction of the training costs of the best models from the literature. We show that the Transformer generalizes well to other tasks by applying it successfully to English constituency parsing both with large and limited training data.'"
   ]
  },
  {
   "cell_type": "code",
   "execution_count": 33,
   "id": "d86b5bc6-b76d-4b8e-942a-72af8694b652",
   "metadata": {},
   "outputs": [],
   "source": [
    "new_title = 'Refpred - A Research Paper Recommendation System based on SPECTER'\n",
    "new_abstract = 'The literature review is an essential part of the research process, as it helps researchers understand the current state of knowledge in their field and identify gaps that their own research can address. However, the current review process with manual paper searching, can be time-consuming and labour-intensive. This is particularly true for researchers working in fields with large and rapidly-growing bodies of literature such as Medicine or Machine Learning. To tackle this issue, we aim to build RefPred - a system that uses a citation-informed transformer with a recommendation engine to recommend relevant papers to assist researchers in review process. Specifically, given a new title/abstract, it should be able to predict the most relevant papers and sort them according to some metric (such as citation count or similarity score). For doing this, we create a dataset comprising of thousands of research paper metadata (sourced from Semantic Scholar) by crawling it asynchronously and storing locally on a MongoDB database. We then use citation-informed transformer model SPECTER to embed each paper, capturing it’s citation and semantic meaning simultaneously.  With paper embeddings, we can construct an embedding space of papers, which will be used to build a recommendation engine based on various algorithms (like KNN as a baseline) to give relevant recommendations for a new paper. Finally, we propose a novel approach to use neural network to rerank the initial KNN candidates, resulting in 27% better Precision and Recall @ 20 scores on the test set over the baseline KNN approach.'"
   ]
  },
  {
   "cell_type": "code",
   "execution_count": 34,
   "id": "1882a87f-357a-45dc-95bd-47bee40cde70",
   "metadata": {},
   "outputs": [],
   "source": [
    "def get_knn_new_paper(title, abstract, knn_tree, all_paper_ids, knn_k, return_scores=False):\n",
    "    '''\n",
    "    Given a new title and abstract, get the knn_k nearest neighbours from the knn_tree. The order of knn_tree and all_paper_ids must be the same.\n",
    "    '''\n",
    "    new_paper_obj = {'title':title, 'abstract': abstract}\n",
    "    print(new_paper_obj)\n",
    "    new_paper_embedding = get_embedding(new_paper_obj)\n",
    "    top_indices, scores = find_knn(new_paper_embedding, knn_tree, knn_k=knn_k)\n",
    "    recommended_paper_ids = [all_paper_ids[i] for i in top_indices]\n",
    "    if return_scores:\n",
    "        return recommended_paper_ids, scores\n",
    "    return recommended_paper_ids"
   ]
  },
  {
   "cell_type": "code",
   "execution_count": 35,
   "id": "eb682acd-fc36-4822-9234-16f600857882",
   "metadata": {},
   "outputs": [],
   "source": [
    "def print_papers(pids, metadata, break_at=20):\n",
    "    for i, pid in enumerate(pids):\n",
    "        title = metadata[pid]['title']\n",
    "        # abstract = metadata[paper_id]['abstract']\n",
    "        year = metadata[pid]['year']\n",
    "        if 'SPECTER' in title:\n",
    "            print(i)\n",
    "        print(f'Paper ID: {pid}\\nTitle: {title}\\nYear: {year}')\n",
    "        if i == break_at:\n",
    "            break"
   ]
  },
  {
   "cell_type": "code",
   "execution_count": 36,
   "id": "c01afc6e-0b55-4f42-af1b-4dfdc2dc57a7",
   "metadata": {},
   "outputs": [
    {
     "data": {
      "text/plain": [
       "(7455, 932, 932)"
      ]
     },
     "execution_count": 36,
     "metadata": {},
     "output_type": "execute_result"
    }
   ],
   "source": [
    "len(train_paper_ids), len(val_paper_ids), len(test_paper_ids)"
   ]
  },
  {
   "cell_type": "code",
   "execution_count": 37,
   "id": "47e82674-fdef-46f6-902c-cccf5758dd5e",
   "metadata": {},
   "outputs": [
    {
     "data": {
      "text/plain": [
       "107883"
      ]
     },
     "execution_count": 37,
     "metadata": {},
     "output_type": "execute_result"
    }
   ],
   "source": [
    "len(reference_embeddings)"
   ]
  },
  {
   "cell_type": "code",
   "execution_count": 38,
   "id": "8d9342bc-a8e2-4de0-ba47-1e05a6e1a777",
   "metadata": {},
   "outputs": [
    {
     "name": "stdout",
     "output_type": "stream",
     "text": [
      "{'title': 'Refpred - A Research Paper Recommendation System based on SPECTER', 'abstract': 'The literature review is an essential part of the research process, as it helps researchers understand the current state of knowledge in their field and identify gaps that their own research can address. However, the current review process with manual paper searching, can be time-consuming and labour-intensive. This is particularly true for researchers working in fields with large and rapidly-growing bodies of literature such as Medicine or Machine Learning. To tackle this issue, we aim to build RefPred - a system that uses a citation-informed transformer with a recommendation engine to recommend relevant papers to assist researchers in review process. Specifically, given a new title/abstract, it should be able to predict the most relevant papers and sort them according to some metric (such as citation count or similarity score). For doing this, we create a dataset comprising of thousands of research paper metadata (sourced from Semantic Scholar) by crawling it asynchronously and storing locally on a MongoDB database. We then use citation-informed transformer model SPECTER to embed each paper, capturing it’s citation and semantic meaning simultaneously.  With paper embeddings, we can construct an embedding space of papers, which will be used to build a recommendation engine based on various algorithms (like KNN as a baseline) to give relevant recommendations for a new paper. Finally, we propose a novel approach to use neural network to rerank the initial KNN candidates, resulting in 27% better Precision and Recall @ 20 scores on the test set over the baseline KNN approach.'}\n",
      "Paper ID: a09cf490b208b68bfba61fa1dfb387070a6fffa9\n",
      "Title: Exploiting potential citation papers in scholarly paper recommendation\n",
      "Year: 2013\n",
      "Paper ID: 72e3bb2ad47dfd19335749885f9440069ceb9931\n",
      "Title: Recommendation on Academic Networks using Direction Aware Citation Analysis\n",
      "Year: 2012\n",
      "Paper ID: bf96e171b48ad9561cd8790e17415c31f115d39f\n",
      "Title: Using citation-context to reduce topic drifting on pure citation-based recommendation\n",
      "Year: 2018\n",
      "Paper ID: 581acdeaafcae2c837cb90c44e6c1a088a3e007f\n",
      "Title: Publication Venue Recommendation Based on Paper Abstract\n",
      "Year: 2014\n",
      "Paper ID: 06d07b5908696fa4867b4957e59caf7da8cb4663\n",
      "Title: A source independent framework for research paper recommendation\n",
      "Year: 2011\n",
      "Paper ID: bb246e08bc6641672c2bb2b93d4214eccf3f84b6\n",
      "Title: A Scalable Hybrid Research Paper Recommender System for Microsoft Academic\n",
      "Year: 2019\n",
      "Paper ID: cc9c8d62986e3f3a1de8c5fd6ab74e94c418d114\n",
      "Title: Towards Finding Non-obvious Papers: An Analysis of Citation Recommender Systems\n",
      "Year: 2018\n",
      "Paper ID: 280c42ce59b38fd9ee52bfc2d6ff21fcb106ea8e\n",
      "Title: Scientific publication recommendations based on collaborative citation networks\n",
      "Year: 2012\n",
      "Paper ID: 1342e3f0fdd4b5c3f4dd9176d34c0205c8c770e8\n",
      "Title: HybridCite: A Hybrid Model for Context-Aware Citation Recommendation\n",
      "Year: 2020\n",
      "Paper ID: 0b8745bf65017575ae62fb2bd5fa9c9510531c86\n",
      "Title: Leveraging Content and Connections for Scientific Article Recommendation in Social Computing Contexts\n",
      "Year: 2014\n",
      "Paper ID: 0fb67f88fed7dc3592653a892eee2b8697806451\n",
      "Title: Context-Based Collaborative Filtering for Citation Recommendation\n",
      "Year: 2015\n",
      "Paper ID: d76f8a0b7f6b254ca902b3b4b620e2f6d17527d6\n",
      "Title: An Analysis of Citation Recommender Systems: Beyond the Obvious\n",
      "Year: 2017\n",
      "Paper ID: a191c41607ce88e731fe8fc08faf6677c1f47903\n",
      "Title: Neural Citation Network for Context-Aware Citation Recommendation\n",
      "Year: 2017\n",
      "Paper ID: d0a83386ac268a31c77b6ab2e3a9f8a33c40356f\n",
      "Title: Exploiting Citation Knowledge in Personalised Recommendation of Recent Scientific Publications\n",
      "Year: 2020\n",
      "Paper ID: 8a7e2c1feed00842a88609d9bf66fe44a43ec6fe\n",
      "Title: A personalized recommendation system on scholarly publications\n",
      "Year: 2011\n",
      "Paper ID: 572eb167a729c726311793ec428c0d3a0966464a\n",
      "Title: A Keyword-based Scholar Recommendation Framework for Biomedical Literature\n",
      "Year: 2018\n",
      "Paper ID: e887f35ae40b3388164de20ac85bd8494e701154\n",
      "Title: Recommending academic papers via users' reading purposes\n",
      "Year: 2012\n",
      "Paper ID: 59cbfd1ac1a7f4c56cff7580a1ac9e51d1fe2a57\n",
      "Title: Scientific Paper Recommendation: A Survey\n",
      "Year: 2020\n",
      "Paper ID: 921b2958cac4138d188fd5047aa12bbcf37ac867\n",
      "Title: Content-Based Citation Recommendation\n",
      "Year: 2018\n",
      "Paper ID: 7c72a2008f94078ce50ac251c6437038bbcf0185\n",
      "Title: Evaluating link-based recommendations for Wikipedia\n",
      "Year: 2016\n",
      "Paper ID: c98b74a5409d7764bada3549b9b0a60223965bc1\n",
      "Title: A unified graph model for personalized query-oriented reference paper recommendation\n",
      "Year: 2013\n",
      "Paper ID: bcc4e46f856e54948425dcfc41ece0cbd9bf932b\n",
      "Title: Specialized Document Embeddings for Aspect-based Similarity of Research Papers\n",
      "Year: 2022\n",
      "Paper ID: 6d16dc72dbf63d6e2f6a34154eb6c3b5f105d4e6\n",
      "Title: Scholarly paper recommendation via user's recent research interests\n",
      "Year: 2010\n",
      "Paper ID: 5e17e0a6ef8f79eb524bec9e4ba3be0910046447\n",
      "Title: RefSeer: A citation recommendation system\n",
      "Year: 2014\n",
      "Paper ID: 85b127fbf41e913dba7fdde93cc6e14d5c2e890a\n",
      "Title: Enhancing citation recommendation with various evidences\n",
      "Year: 2012\n",
      "Paper ID: 456e4e7bc6371a19c7e47ae35166756cbfbbaac6\n",
      "Title: Research Paper Recommender Systems: A Random-Walk Based Approach\n",
      "Year: 2006\n",
      "Paper ID: f30057b9060fe84cc9a947871e683853498dd0ac\n",
      "Title: A Recommendation System Based on Hierarchical Clustering of an Article-Level Citation Network\n",
      "Year: 2016\n",
      "Paper ID: 2c0270f89f9559239112e79d9fa1aee2d58adaf7\n",
      "Title: Recommending citations: translating papers into references\n",
      "Year: 2012\n",
      "Paper ID: ca8ce0aaa73d8c1247ed4d6843660fdd413e570a\n",
      "Title: Diversifying Citation Recommendations\n",
      "Year: 2012\n",
      "Paper ID: 6c1ef15daba3fbc9a0cf56761520d2618615d9f8\n",
      "Title: Extending a Research-Paper Recommendation System with Bibliometric Measures\n",
      "Year: 2017\n",
      "Paper ID: deab9886bd1f39bea5b85fa76ca8f705fec9a85c\n",
      "Title: Scienstein : A Research Paper Recommender System\n",
      "Year: 2009\n",
      "Paper ID: c49fe9ea7bc30c23c043544e79508b89d0a5f857\n",
      "Title: Claper: Recommend classical papers to beginners\n",
      "Year: 2010\n",
      "Paper ID: 49459ab54f424974abec8b34d2acc73b9615c309\n",
      "Title: Direction Awareness in Citation Recommendation\n",
      "Year: 2012\n",
      "33\n",
      "Paper ID: a3e4ceb42cbcd2c807d53aff90a8cb1f5ee3f031\n",
      "Title: SPECTER: Document-level Representation Learning using Citation-informed Transformers\n",
      "Year: 2020\n",
      "Paper ID: dc3ccdedf86df2e7f155e948e1053749e23951e6\n",
      "Title: Bibliometric-Enhanced arXiv: A Data Set for Paper-Based and Citation-Based Tasks\n",
      "Year: 2019\n",
      "Paper ID: 4d02f1a1b99a21665ef94bcdec733a3f8f4056b4\n",
      "Title: Bridger: Toward Bursting Scientific Filter Bubbles and Boosting Innovation via Novel Author Discovery\n",
      "Year: 2021\n",
      "Paper ID: eb913bf3dfbbc9cfa4df5f94a9ff57d7fe4fa1fd\n",
      "Title: Full-text based context-rich heterogeneous network mining approach for citation recommendation\n",
      "Year: 2014\n",
      "Paper ID: 20597bc8b195251ca2231036e4561926a260e75b\n",
      "Title: Learning Embeddings for Academic Papers\n",
      "Year: 2019\n",
      "Paper ID: a9a6edbec7d583965e8c6d274ec1a1802e3e13ee\n",
      "Title: TheAdvisor: a webservice for academic recommendation\n",
      "Year: 2013\n",
      "Paper ID: ef14bffd64d345baabfe3912328bf4e17dc8fb9a\n",
      "Title: TSSP: A Reinforcement Algorithm to Find Related Papers\n",
      "Year: 2004\n",
      "Paper ID: a59e586538e4b937d9f112e651a616cd50ffd6b2\n",
      "Title: Building recommender systems for scholarly information\n",
      "Year: 2017\n",
      "Paper ID: 191e78f50e9335778972e263487285cbe6f7ee86\n",
      "Title: Reviewer Recommendations Using Document Vector Embeddings and a Publisher Database: Implementation and Evaluation\n",
      "Year: 2021\n",
      "Paper ID: d8c0647f188ee31a6631d3528c34eb3b4eca9767\n",
      "Title: Towards an effective and unbiased ranking of scientific literature through mutual reinforcement\n",
      "Year: 2012\n",
      "Paper ID: 7ffa501be10c31bed69690d4b64042f37598ffbf\n",
      "Title: A collaborative approach for research paper recommender system\n",
      "Year: 2017\n",
      "Paper ID: 9093ec8ed5f0353a6f40b855afa613f9e72bd9d8\n",
      "Title: From a Scholarly Big Dataset to a Test Collection for Bibliographic Citation Recommendation\n",
      "Year: 2016\n",
      "Paper ID: 2b0cbc939b0f2ea3614462e5e601535ac59cd1c2\n",
      "Title: Research paper recommendation with topic analysis\n",
      "Year: 2010\n",
      "Paper ID: a9de6da6ed116b90fe3c396ce9493c0bd259c265\n",
      "Title: Recommending citations for academic papers\n",
      "Year: 2007\n",
      "Paper ID: e5aa3cf6d6521ca67a49cb7c7e13cbd914f83bf8\n",
      "Title: A Neural Probabilistic Model for Context Based Citation Recommendation\n",
      "Year: 2015\n",
      "Paper ID: a25755c8581106a4bd9c9ddc57019fba00c377cf\n",
      "Title: Virtual Citation Proximity (VCP): Learning a Hypothetical In-Text Citation-Proximity Metric For Uncited Documents\n",
      "Year: 2020\n",
      "Paper ID: 3c0312918ac9fea614abaa0732d83f3e76c16f7d\n",
      "Title: Context-aware citation recommendation\n",
      "Year: 2010\n",
      "Paper ID: 01eecac575549b4143457b9874f9d48bcdbb2aac\n",
      "Title: On the recommending of citations for research papers\n",
      "Year: 2002\n",
      "Paper ID: deff3dfea871ae5d948fe04aa482c953faf61c5d\n",
      "Title: VITALITY: Promoting Serendipitous Discovery of Academic Literature with Transformers & Visual Analytics\n",
      "Year: 2021\n",
      "Paper ID: c33ed55ca9e30efd0e91ee6966d88448a3150a75\n",
      "Title: Babel: A Platform for Facilitating Research in Scholarly Article Discovery\n",
      "Year: 2016\n",
      "Paper ID: b17dd87f423d721b29b7956ae1a739a87976661e\n",
      "Title: A Citation-Based Recommender System for Scholarly Paper Recommendation\n",
      "Year: 2018\n",
      "Paper ID: 9bb024b9fc79594f66877399fbd2c3c8aeb9e51d\n",
      "Title: A Query-oriented Approach for Relevance in Citation Networks\n",
      "Year: 2016\n",
      "Paper ID: 38c395a1241308e47e8902f051e2d20495c91fd0\n",
      "Title: A comprehensive evaluation of scholarly paper recommendation using potential citation papers\n",
      "Year: 2015\n",
      "Paper ID: 59628a3c8a960baddf412d05c1b0af8f4ffeb8fc\n",
      "Title: Result Diversification in Automatic Citation Recommendation\n",
      "Year: 2013\n",
      "Paper ID: 0de4ad868dec25a2c91a85e9d7bf64d4bca7f1fb\n",
      "Title: Can we do better than Co-Citations? - Bringing Citation Proximity Analysis from idea to practice in research article recommendation\n",
      "Year: 2017\n",
      "Paper ID: 0e6f0bf80df91f7a613b425dd8c0b73f85b44f3b\n",
      "Title: Learning multiple graphs for document recommendations\n",
      "Year: 2008\n",
      "Paper ID: c8ad34231cee70f1086fe5313a8ba5cac9886cb1\n",
      "Title: Recommending related papers based on digital library access records\n",
      "Year: 2007\n",
      "Paper ID: d4e30efda7d506c192d860afd4f6985ddb4df69f\n",
      "Title: A Framework for Tag-Based Research Paper Recommender System: An IR Approach\n",
      "Year: 2010\n",
      "Paper ID: ee9c76a40217bffb57e03edd115881163ffbd0a2\n",
      "Title: ClusCite: effective citation recommendation by information network-based clustering\n",
      "Year: 2014\n",
      "Paper ID: c24f20a9914db47a1b4f6045c0fdcab5edc0be8b\n",
      "Title: Applying Core Scientific Concepts to Context-Based Citation Recommendation\n",
      "Year: 2016\n",
      "Paper ID: 0ecfe92f4dd4d04c729a04dca6a63081e72ccbf9\n",
      "Title: Fast recommendation on bibliographic networks with sparse-matrix ordering and partitioning\n",
      "Year: 2013\n",
      "Paper ID: 169edf0ad0b5e3ab31df4481a9069cbfdb774423\n",
      "Title: AMiner: Mining Deep Knowledge from Big Scholar Data\n",
      "Year: 2016\n",
      "Paper ID: 5ae7bd6013615fe410b9436e312084da303c7f1f\n",
      "Title: WING-NUS at CL-SciSumm 2017: Learning from Syntactic and Semantic Similarity for Citation Contextualization\n",
      "Year: 2017\n",
      "Paper ID: 1954a67069a6744cc6c85f258c430431118a9916\n",
      "Title: Citation recommendation without author supervision\n",
      "Year: 2011\n",
      "Paper ID: 23aec531c9245b3fbc93567faecf0a7a63431d94\n",
      "Title: Can't see the forest for the trees?: a citation recommendation system\n",
      "Year: 2013\n",
      "Paper ID: a4fb7d874d58b520872bf7606d94b22e34083bb7\n",
      "Title: Large expert-curated database for benchmarking document similarity detection in biomedical literature search\n",
      "Year: 2019\n",
      "Paper ID: 28dd515fe25a5842002d43c9b8e26bf9093620fd\n",
      "Title: An Efficient and Simple Graph Model for Scientific Article Cold Start Recommendation\n",
      "Year: 2016\n",
      "Paper ID: 9700e0e062e8306078d9befddeddf334ed4418c7\n",
      "Title: Can we do better than co-citations? Bringing Citation Proximity Analysis from idea to practice in research articles recommendation\n",
      "Year: 2017\n",
      "Paper ID: 34d1174daea6d67624ba8213e4bda0606ee1b4c3\n",
      "Title: Citation recommendation: approaches and datasets\n",
      "Year: 2020\n",
      "Paper ID: d63d86e884c8cd58dcaaf6824c99e39a4c23e3da\n",
      "Title: Yet another paper ranking algorithm advocating recent publications\n",
      "Year: 2010\n",
      "Paper ID: 5fcec4f14e2df22d1c0b2e3ca0f2240520026036\n",
      "Title: Evaluation of kernel-based link analysis measures on research paper recommendation\n",
      "Year: 2007\n",
      "Paper ID: 72d5bd1095f9719742212f81a2a3790583e95796\n",
      "Title: Neighborhood Contrastive Learning for Scientific Document Representations with Citation Embeddings\n",
      "Year: 2022\n",
      "Paper ID: 22b519fcf4b623bef5cd702f2e1c995640d4c833\n",
      "Title: Citation Proximity Analysis (CPA) : A New Approach for Identifying Related Work Based on Co-Citation Analysis\n",
      "Year: 2009\n",
      "Paper ID: 07aac83dbd27f5906df4676fed746a9e05bd9e1b\n",
      "Title: Venue Recommendation: Submitting Your Paper with Style\n",
      "Year: 2012\n",
      "Paper ID: 9c3c76a0f0c289fa814038ce44fee39a7fba7be7\n",
      "Title: Effective distributed representations for academic expert search\n",
      "Year: 2020\n",
      "Paper ID: 96848d00757e79e875e6a0376ec84ef4a616db13\n",
      "Title: A comparison between usage-based and citation-based methods for recommending scholarly research articles\n",
      "Year: 2010\n",
      "Paper ID: bf1a4c8d3fbc352e4ad81f0491b7b58712db79fb\n",
      "Title: Document Embeddings vs. Keyphrases vs. Terms: An Online Evaluation in Digital Library Recommender Systems\n",
      "Year: 2019\n",
      "Paper ID: 26092619b8be8f0048172bb52bc07b36129b579e\n",
      "Title: Extracting Keyphrases from Research Papers Using Citation Networks\n",
      "Year: 2014\n",
      "Paper ID: 7b5c6a1d888b1e334c8d0a09a8fc5caff8b673ed\n",
      "Title: Conceptual recommender system for CiteSeerX\n",
      "Year: 2009\n",
      "Paper ID: 851332942f7cfbd74e3f2799309c1383fa547fb6\n",
      "Title: Cross-language context-aware citation recommendation in scientific articles\n",
      "Year: 2014\n",
      "Paper ID: 8ae52721b94ec4747395c401e9ba66977f044909\n",
      "Title: Meta-Path-Based Ranking with Pseudo Relevance Feedback on Heterogeneous Graph for Citation Recommendation\n",
      "Year: 2014\n",
      "Paper ID: ccefbfea8303fd4a5b79d0b7f3dfd467d321a2d8\n",
      "Title: To better stand on the shoulder of giants\n",
      "Year: 2012\n",
      "Paper ID: 0494e428541cdf744d4770a1d2aec3e2c3f967bd\n",
      "Title: Recommending scientific articles using citeulike\n",
      "Year: 2008\n",
      "Paper ID: 4259cd1eea95ac9fc81fb3c311ee8d1c5afd6ff2\n",
      "Title: Fast Recommendation on Bibliographic Networks\n",
      "Year: 2012\n",
      "Paper ID: 040c91447fce469417a3639ffb9a71c76868a0b8\n",
      "Title: Don't look stupid: avoiding pitfalls when recommending research papers\n",
      "Year: 2006\n",
      "Paper ID: 306e20852c7e38a12ebb5ec754d973006d0835d4\n",
      "Title: News Citation Recommendation with Implicit and Explicit Semantics\n",
      "Year: 2016\n",
      "Paper ID: af1cba5a1a3756c1fdac99252160a41a8e16157c\n",
      "Title: Contextual Document Similarity for Content-based Literature Recommender Systems\n",
      "Year: 2020\n",
      "Paper ID: 6c9c55e896127a4c7469a95abfb12bab47ea902a\n",
      "Title: Automatically building research reading lists\n",
      "Year: 2010\n",
      "Paper ID: c7f948eaf0665fba5a34337fb3004698920c4a49\n",
      "Title: Are we really making much progress? A worrying analysis of recent neural recommendation approaches\n",
      "Year: 2019\n",
      "Paper ID: 5a0c9bbf0432dac8bd357a4aabf82b83a6c95524\n",
      "Title: Aspect-based Document Similarity for Research Papers\n",
      "Year: 2020\n",
      "Paper ID: 7315c899c084cae147c1190101598ce510e15f44\n",
      "Title: Document recommendation in social tagging services\n",
      "Year: 2010\n",
      "Paper ID: a12f61119dd48aaa8ee416301fff25f56a1a343c\n",
      "Title: SciReader: A Cloud-based Recommender System for Biomedical Literature\n",
      "Year: 2018\n",
      "Paper ID: f74e301a5915a274cdc7048a638f40099a59480f\n",
      "Title: Towards a personalized, scalable, and exploratory academic recommendation service\n",
      "Year: 2013\n",
      "Paper ID: 35fd508ea5aa6abe34403cd47be095fd6124d612\n",
      "Title: Echo Chambers in Science?\n",
      "Year: 2017\n",
      "Paper ID: 068c327ba6aa386e554f40b105d25add2dad2242\n",
      "Title: Scientific Article Recommendation by using Distributed Representations of Text and Graph\n",
      "Year: 2017\n",
      "Paper ID: 164275911fecf53b4c780ae3848c3376a7168f6c\n",
      "Title: Research paper recommender system evaluation: a quantitative literature survey\n",
      "Year: 2013\n",
      "Paper ID: dbaad5c603cf73996668815fa75011128c52307c\n",
      "Title: Full-text citation analysis: A new method to enhance scholarly networks\n",
      "Year: 2013\n",
      "Paper ID: 355e67aef5923e2dcab8c40fc0b19d7047d59f4d\n",
      "Title: Citation Resolution: A method for evaluating context-based citation recommendation systems\n",
      "Year: 2014\n"
     ]
    }
   ],
   "source": [
    "new_knn_paper_ids = get_knn_new_paper(new_title, new_abstract, knn_tree, all_pids, knn_k=1000)\n",
    "# for i, pid in enumerate(new_knn_paper_ids):\n",
    "#     title = metadata[pid]['title']\n",
    "#     # abstract = metadata[paper_id]['abstract']\n",
    "#     year = metadata[pid]['year']\n",
    "#     if 'SPECTER' in title:\n",
    "#         print(i)\n",
    "#     print(f'Paper ID: {pid}\\nTitle: {title}\\nYear: {year}')# \\nCosine similarity: {cos_sim}\\n')\n",
    "#     if i == 100:\n",
    "#         break\n",
    "print_papers(new_knn_paper_ids, metadata, break_at=100)"
   ]
  },
  {
   "cell_type": "code",
   "execution_count": 102,
   "id": "de0b5b8a-3f02-41f5-a828-96d96177499b",
   "metadata": {
    "jupyter": {
     "source_hidden": true
    },
    "tags": []
   },
   "outputs": [],
   "source": [
    "### MUCH MUCH FASTER ALGORITHM PRESENT BELOW\n",
    "# # new_paper = {'title': new_title, 'abstract': new_abstract or ''}\n",
    "# # assert new_paper['title'] is not None\n",
    "# # paper_id = '204e3073870fae3d05bcbc2f6a8e263d9b72e776'\n",
    "# k = 20\n",
    "# test_paper_id = '204e3073870fae3d05bcbc2f6a8e263d9b72e776'\n",
    "# paper_embedding = get_embedding(metadata[test_paper_id])\n",
    "# top_indices, top_values = find_similar_knn(paper_embedding, weights, k=50, least=False)\n",
    "# recommended_paper_ids = [all_paper_ids[i] for i in top_indices]\n",
    "\n",
    "\n",
    "# cnt = 0\n",
    "# for paper_id, cos_sim in zip(recommended_paper_ids, top_values):\n",
    "#     title = metadata[paper_id]['title']\n",
    "#     # abstract = metadata[paper_id]['abstract']\n",
    "#     year = metadata[paper_id]['year']\n",
    "#     print(f'Paper ID: {paper_id}\\nTitle: {title}\\nYear: {year}')# \\nCosine similarity: {cos_sim}\\n')\n",
    "#     cnt += 1 \n",
    "#     if cnt == 10:\n",
    "#         break\n",
    "        \n",
    "# actual_references = ast.literal_eval(metadata[test_paper_id].get('references'))\n",
    "\n",
    "# print('-'*100)\n",
    "\n",
    "# precision, recall, f1_score = evaluate(recommended_paper_ids[1:], actual_references, k=k)\n",
    "# print(f'For the Paper - {metadata[test_paper_id][\"title\"]}')\n",
    "# print(f\"Precision @ {k}: {precision}\")\n",
    "# print(f\"Recall @ {k}: {recall}\")\n",
    "# print(f\"F1 Score: {f1_score}\")"
   ]
  },
  {
   "cell_type": "code",
   "execution_count": 52,
   "id": "7813c1b8-aa95-45bb-9793-fa9a88f15433",
   "metadata": {
    "collapsed": true,
    "jupyter": {
     "outputs_hidden": true,
     "source_hidden": true
    },
    "tags": []
   },
   "outputs": [
    {
     "data": {
      "text/plain": [
       "{'title': 'Attention is All you Need',\n",
       " 'abstract': 'The dominant sequence transduction models are based on complex recurrent or convolutional neural networks in an encoder-decoder configuration. The best performing models also connect the encoder and decoder through an attention mechanism. We propose a new simple network architecture, the Transformer, based solely on attention mechanisms, dispensing with recurrence and convolutions entirely. Experiments on two machine translation tasks show these models to be superior in quality while being more parallelizable and requiring significantly less time to train. Our model achieves 28.4 BLEU on the WMT 2014 English-to-German translation task, improving over the existing best results, including ensembles by over 2 BLEU. On the WMT 2014 English-to-French translation task, our model establishes a new single-model state-of-the-art BLEU score of 41.8 after training for 3.5 days on eight GPUs, a small fraction of the training costs of the best models from the literature. We show that the Transformer generalizes well to other tasks by applying it successfully to English constituency parsing both with large and limited training data.',\n",
       " 'year': 2017,\n",
       " 'referenceCount': 39,\n",
       " 'citationCount': 51796,\n",
       " 'influentialCitationCount': 11400,\n",
       " 'references': ['2c03df8b48bf3fa39054345bafabfeff15bfd11d',\n",
       "  'a6cb366736791bcccc5c8639de5a8f9636bf87e8',\n",
       "  '44d2abe2175df8153f465f6c39b68b76a0d40ab9',\n",
       "  '34f25a8704614163c4095b3ee2fc969b60de4698',\n",
       "  'fa72afa9b2cbc8f0d7b05d52548906610ffbb9c5',\n",
       "  '23ffaa0fe06eae05817f527a47ac3291077f9e58',\n",
       "  '0b544dfe355a5070b60986319a3f51fb45d1348e',\n",
       "  'cea967b59209c6be22829699f05b8b1ac4dc092d',\n",
       "  'adfcf065e15fd3bc9badf6145034c84dfb08f204',\n",
       "  '5b6ec746d309b165f9f9def873a2375b6fb40f3d',\n",
       "  '0b44fcbeea9415d400c5f5789d6b892b6f98daff',\n",
       "  '1af68821518f03568f913ab03fc02080247a27ff',\n",
       "  'dbde7dfa6cae81df8ac19ef500c42db96c3d1edd',\n",
       "  '89b1f4740ae37fd04f6ac007577bdd34621f0861',\n",
       "  '43428880d75b3a14257c3ee9bda054e61eb869c0',\n",
       "  '4f10b9f47c5bb6b54dd4f5ca8d9fa2c0bbd7ec5e',\n",
       "  '204a4a70428f3938d2c538a4d74c7ae0416306d8',\n",
       "  'aed054834e2c696807cc8b227ac7a4197196e211',\n",
       "  '032274e57f7d8b456bd255fe76b909b2c1d7458e',\n",
       "  '510e26733aaff585d65701b9f1be7ca9d5afc586',\n",
       "  '2f2d8f8072e5cc9b296fad551f65f183bdbff7aa',\n",
       "  'f52de7242e574b70410ca6fb70b79c811919fc00',\n",
       "  '47570e7f63e296f224a0e7f9a0d08b0de3cbaf40',\n",
       "  '13fe71da009484f240c46f14d9330e932f8de210',\n",
       "  'd76c07211479e233f7c6a6f32d5346c983c5598f',\n",
       "  '78a9513e70f596077179101f6cb6eadc51602039',\n",
       "  '63e39cdf1ad884da6bc69096bb3413b5b1100559',\n",
       "  '98445f4172659ec5e891e031d8202c102135c644',\n",
       "  '7345843e87c81e24e42264859b214d26042f8d51',\n",
       "  '4550a4c714920ef57d19878e31c9ebae37b049b2',\n",
       "  '13d9323a8716131911bfda048a40e2cde1a76a46',\n",
       "  '5e4eb58d5b47ac1c73f4cf189497170e75ae6237',\n",
       "  'b60abe57bc195616063be10638c6437358c81d1e',\n",
       "  '174bbdb96252454cbb40a9c4e53335996235a008',\n",
       "  '5bfd8d40bc071fffaf93685a46974b122ee4239d',\n",
       "  '79baf48bd560060549998d7b61751286de062e2a',\n",
       "  '735d547fc75e0772d2a78c46a1cc5fad7da1474c'],\n",
       " 'paper_id': '204e3073870fae3d05bcbc2f6a8e263d9b72e776'}"
      ]
     },
     "execution_count": 52,
     "metadata": {},
     "output_type": "execute_result"
    }
   ],
   "source": [
    "metadata['204e3073870fae3d05bcbc2f6a8e263d9b72e776']"
   ]
  },
  {
   "cell_type": "code",
   "execution_count": 39,
   "id": "f01918a8-dde2-4ab0-8626-a71afa423123",
   "metadata": {},
   "outputs": [
    {
     "name": "stdout",
     "output_type": "stream",
     "text": [
      "Paper ID: 204e3073870fae3d05bcbc2f6a8e263d9b72e776\n",
      "Title: Attention is All you Need\n",
      "Year: 2017\n",
      "Paper ID: c2f62a32b11f1906f5a3508b22134631cbfaa268\n",
      "Title: Sockeye: A Toolkit for Neural Machine Translation\n",
      "Year: 2017\n",
      "Paper ID: 9ae0a24f0928cab1554a6ac880f6b350f85be698\n",
      "Title: One Model To Learn Them All\n",
      "Year: 2017\n",
      "Paper ID: b60abe57bc195616063be10638c6437358c81d1e\n",
      "Title: Deep Recurrent Models with Fast-Forward Connections for Neural Machine Translation\n",
      "Year: 2016\n",
      "Paper ID: cf0545d9f171c8e2d88aed13cd7ad60ff2ab8fb5\n",
      "Title: How Much Attention Do You Need? A Granular Analysis of Neural Machine Translation Architectures\n",
      "Year: 2018\n",
      "Paper ID: dbde7dfa6cae81df8ac19ef500c42db96c3d1edd\n",
      "Title: Google's Neural Machine Translation System: Bridging the Gap between Human and Machine Translation\n",
      "Year: 2016\n",
      "Paper ID: 43428880d75b3a14257c3ee9bda054e61eb869c0\n",
      "Title: Convolutional Sequence to Sequence Learning\n",
      "Year: 2017\n",
      "Paper ID: 93499a7c7f699b6630a86fad964536f9423bb6d0\n",
      "Title: Effective Approaches to Attention-based Neural Machine Translation\n",
      "Year: 2015\n",
      "Paper ID: 3861ae2a6bdd2a759c2d901a6583e63a216bc2fc\n",
      "Title: Weighted Transformer Network for Machine Translation\n",
      "Year: 2017\n",
      "Paper ID: 17d3066c9a47c6c30bc84a217ce78ecce1ff08b2\n",
      "Title: ReZero is All You Need: Fast Convergence at Large Depth\n",
      "Year: 2020\n",
      "Paper ID: 4550a4c714920ef57d19878e31c9ebae37b049b2\n",
      "Title: Massive Exploration of Neural Machine Translation Architectures\n",
      "Year: 2017\n",
      "Paper ID: 80122d5674d3f89828507286a46001d649e65418\n",
      "Title: The University of Cambridge’s Machine Translation Systems for WMT18\n",
      "Year: 2018\n",
      "Paper ID: 0267e8dab6669a6c10be2e29bea44ea32c41e990\n",
      "Title: Neural Monkey: An Open-source Tool for Sequence Learning\n",
      "Year: 2017\n",
      "Paper ID: 8b3b5d1138fa9ff20e9b12c0f53c22838039efff\n",
      "Title: Adding Interpretable Attention to Neural Translation Models Improves Word Alignment\n",
      "Year: 2019\n",
      "Paper ID: ef523bb9437178c50d1b1e3e3ca5fb230ab37e3f\n",
      "Title: Pay Less Attention with Lightweight and Dynamic Convolutions\n",
      "Year: 2019\n",
      "Paper ID: 2f2d8f8072e5cc9b296fad551f65f183bdbff7aa\n",
      "Title: Exploring the Limits of Language Modeling\n",
      "Year: 2016\n",
      "Paper ID: bb669de2fce407df2f5cb2f8c51dedee3f467e04\n",
      "Title: The Best of Both Worlds: Combining Recent Advances in Neural Machine Translation\n",
      "Year: 2018\n",
      "Paper ID: 25eb839f39507fe6983ad3e692b2f8d93a5cb0cc\n",
      "Title: Montreal Neural Machine Translation Systems for WMT’15\n",
      "Year: 2015\n",
      "Paper ID: 1f133158a8973fb33fea188f20517cd7e69bfe7f\n",
      "Title: FNet: Mixing Tokens with Fourier Transforms\n",
      "Year: 2021\n",
      "Paper ID: 6c82727731955a2332a0cc38ec56b35a971061eb\n",
      "Title: XNMT: The eXtensible Neural Machine Translation Toolkit\n",
      "Year: 2018\n",
      "----------------------------------------------------------------------------------------------------\n",
      "For the Paper - Attention is All you Need\n",
      "Precision @ 20: 0.2631578947368421\n",
      "Recall @ 20: 0.13513513513513514\n",
      "F1 Score: 0.17857142857142858\n"
     ]
    }
   ],
   "source": [
    "# Cosine scores not available because BallTree doesn't have a cosine similarity metric however similar ranking is providied by normalized L2\n",
    "test_paper_id = '204e3073870fae3d05bcbc2f6a8e263d9b72e776'\n",
    "# test_paper_id = '09ebd9ad4fa21c0d56433ac57a4cd69e94c72281'\n",
    "# test_paper = metadata[test_paper_id]\n",
    "# print(test_paper)\n",
    "knn_paper_ids = find_knn_pid(test_paper_id, knn_tree, embedding_map, metadata, all_pids, knn_k=20)\n",
    "\n",
    "\n",
    "# for i, pid in enumerate(knn_paper_ids):\n",
    "#     title = metadata[pid]['title']\n",
    "#     # abstract = metadata[paper_id]['abstract']\n",
    "#     year = metadata[pid]['year']\n",
    "#     print(f'Paper ID: {pid}\\nTitle: {title}\\nYear: {year}')# \\nCosine similarity: {cos_sim}\\n')\n",
    "\n",
    "print_papers(knn_paper_ids, metadata)\n",
    "\n",
    "# NOT NEEDED as this is already done during metadata init\n",
    "# actual_references = ast.literal_eval(metadata[test_paper_id].get('references'))\n",
    "actual_references = metadata[test_paper_id].get('references')\n",
    "\n",
    "print('-'*100)\n",
    "\n",
    "precision, recall, f1_score = evaluate(knn_paper_ids[1:], actual_references, top_k=20)\n",
    "print(f'For the Paper - {metadata[test_paper_id][\"title\"]}')\n",
    "print(f\"Precision @ 20: {precision}\")\n",
    "print(f\"Recall @ 20: {recall}\")\n",
    "print(f\"F1 Score: {f1_score}\")"
   ]
  },
  {
   "cell_type": "code",
   "execution_count": 54,
   "id": "8c4113d7-8516-4b84-8a85-60c40eecc7b7",
   "metadata": {
    "jupyter": {
     "source_hidden": true
    },
    "tags": []
   },
   "outputs": [],
   "source": [
    "# Paper ID: 204e3073870fae3d05bcbc2f6a8e263d9b72e776\n",
    "# Title: Attention is All you Need\n",
    "# Year: 2017\n",
    "# Paper ID: 9ae0a24f0928cab1554a6ac880f6b350f85be698\n",
    "# Title: One Model To Learn Them All\n",
    "# Year: 2017\n",
    "# Paper ID: b60abe57bc195616063be10638c6437358c81d1e\n",
    "# Title: Deep Recurrent Models with Fast-Forward Connections for Neural Machine Translation\n",
    "# Year: 2016\n",
    "# Paper ID: dbde7dfa6cae81df8ac19ef500c42db96c3d1edd\n",
    "# Title: Google's Neural Machine Translation System: Bridging the Gap between Human and Machine Translation\n",
    "# Year: 2016\n",
    "# Paper ID: 43428880d75b3a14257c3ee9bda054e61eb869c0\n",
    "# Title: Convolutional Sequence to Sequence Learning\n",
    "# Year: 2017\n",
    "# Paper ID: 93499a7c7f699b6630a86fad964536f9423bb6d0\n",
    "# Title: Effective Approaches to Attention-based Neural Machine Translation\n",
    "# Year: 2015\n",
    "# Paper ID: 4550a4c714920ef57d19878e31c9ebae37b049b2\n",
    "# Title: Massive Exploration of Neural Machine Translation Architectures\n",
    "# Year: 2017\n",
    "# Paper ID: 2f2d8f8072e5cc9b296fad551f65f183bdbff7aa\n",
    "# Title: Exploring the Limits of Language Modeling\n",
    "# Year: 2016\n",
    "# Paper ID: bb669de2fce407df2f5cb2f8c51dedee3f467e04\n",
    "# Title: The Best of Both Worlds: Combining Recent Advances in Neural Machine Translation\n",
    "# Year: 2018\n",
    "# Paper ID: 25eb839f39507fe6983ad3e692b2f8d93a5cb0cc\n",
    "# Title: Montreal Neural Machine Translation Systems for WMT’15\n",
    "# Year: 2015\n",
    "# Paper ID: 247328a082d86199ed5a98e1d726aa205c1da9df\n",
    "# Title: Neural Machine Translation\n",
    "# Year: 2017\n",
    "# ----------------------------------------------------------------------------------------------------\n",
    "# For the Paper - Attention is All you Need\n",
    "# Precision @ 20: 0.3684210526315789\n",
    "# Recall @ 20: 0.1891891891891892\n",
    "# F1 Score: 0.25\n"
   ]
  },
  {
   "cell_type": "markdown",
   "id": "00992c16-605c-4d72-9198-247efa5fe3ec",
   "metadata": {
    "jupyter": {
     "source_hidden": true
    },
    "tags": []
   },
   "source": [
    "For the Paper - Attention is All you Need\\\n",
    "Precision @ 20: 0.3684210526315789\\\n",
    "Recall @ 20: 0.1891891891891892\\\n",
    "F1 Score: 0.25\\\n"
   ]
  },
  {
   "cell_type": "code",
   "execution_count": 40,
   "id": "2fcfd916-57e0-4fe0-a4d3-d6080378c942",
   "metadata": {},
   "outputs": [],
   "source": [
    "def evaluate_knn(test_paper_ids, knn_tree, embedding_map, metadata, reference_map, all_paper_ids, knn_k):\n",
    "    precisions = []\n",
    "    recalls = []\n",
    "    for paper_id in tqdm(test_paper_ids):\n",
    "        # paper_embedding = embedding_map[paper_id]\n",
    "        # # Query the KD-tree to find k nearest neighbors\n",
    "        # top_indices = knn_tree.query(paper_embedding.reshape(1,-1), k=k, return_distance=False)[0]\n",
    "        # recommendations = set([all_paper_ids[i] for i in top_indices])\n",
    "        recommendations = set(find_knn_pid(paper_id, knn_tree, embedding_map, metadata, all_paper_ids, knn_k=knn_k))\n",
    "        true_references = set(reference_map.get(paper_id, []))\n",
    "        if not true_references:\n",
    "            continue\n",
    "        intersect = recommendations.intersection(true_references)\n",
    "        precision = len(intersect) / len(recommendations)\n",
    "        recall = len(intersect) / len(true_references)\n",
    "        precisions.append(precision)\n",
    "        recalls.append(recall)\n",
    "    mean_precision = sum(precisions) / len(precisions)\n",
    "    mean_recall = sum(recalls) / len(recalls)\n",
    "    return mean_precision, mean_recall"
   ]
  },
  {
   "cell_type": "code",
   "execution_count": 51,
   "id": "6f0e0530-57f7-4f45-b698-cc3a07ba5ea6",
   "metadata": {
    "jupyter": {
     "source_hidden": true
    },
    "tags": []
   },
   "outputs": [],
   "source": [
    "# def evaluate_knn(test_paper_ids, embedding_map, reference_map, k=20):\n",
    "#     precisions = []\n",
    "#     recalls = []\n",
    "#     for paper_id in tqdm(test_paper_ids):\n",
    "#         paper_embedding = embedding_map[paper_id]\n",
    "#         top_indices, top_values = find_similar_knn(paper_embedding.view(1,-1), weights, k=k, least=False)\n",
    "#         recommendations = set([all_paper_ids[i] for i in top_indices])\n",
    "#         # recommendations = set(get_recommendations(model, paper_id, embedding_map, k=k))\n",
    "#         true_references = set(reference_map.get(paper_id, []))\n",
    "#         if not true_references:\n",
    "#             continue\n",
    "\n",
    "#         intersect = recommendations.intersection(true_references)\n",
    "#         precision = len(intersect) / len(recommendations)\n",
    "#         recall = len(intersect) / len(true_references)\n",
    "\n",
    "#         # precision, recall, f1_score = evaluate(list(recommendations), list(true_references), k=k)\n",
    "#         # print(f'({len(recommendations)},{len(true_references)}){precision=}    {recall=}')\n",
    "\n",
    "#         precisions.append(precision)\n",
    "#         recalls.append(recall)\n",
    "\n",
    "#     mean_precision = sum(precisions) / len(precisions)\n",
    "#     mean_recall = sum(recalls) / len(recalls)\n",
    "#     return mean_precision, mean_recall"
   ]
  },
  {
   "cell_type": "code",
   "execution_count": 41,
   "id": "7bdc1602-7859-46cd-9cb3-49729e7a1c27",
   "metadata": {},
   "outputs": [
    {
     "data": {
      "application/vnd.jupyter.widget-view+json": {
       "model_id": "62645d14d8fb4776a966adff5ccd4dc8",
       "version_major": 2,
       "version_minor": 0
      },
      "text/plain": [
       "  0%|          | 0/100 [00:00<?, ?it/s]"
      ]
     },
     "metadata": {},
     "output_type": "display_data"
    },
    {
     "name": "stdout",
     "output_type": "stream",
     "text": [
      "Precision @ 20: 0.11999999999999998\n",
      "Recall @ 20: 0.09522413442092616\n"
     ]
    }
   ],
   "source": [
    "precision, recall = evaluate_knn(train_paper_ids[:100], knn_tree, embedding_map, metadata, reference_map, all_pids, knn_k=20)\n",
    "print(f\"Precision @ 20: {precision}\")\n",
    "print(f\"Recall @ 20: {recall}\")"
   ]
  },
  {
   "cell_type": "code",
   "execution_count": 40,
   "id": "ea4093ad-87f3-4924-b08e-b072ab9a126b",
   "metadata": {},
   "outputs": [
    {
     "data": {
      "application/vnd.jupyter.widget-view+json": {
       "model_id": "f705e6fc47714c2eb5474da8499b2bdf",
       "version_major": 2,
       "version_minor": 0
      },
      "text/plain": [
       "  0%|          | 0/932 [00:00<?, ?it/s]"
      ]
     },
     "metadata": {},
     "output_type": "display_data"
    },
    {
     "name": "stdout",
     "output_type": "stream",
     "text": [
      "Precision @ 20: 0.119849785407725\n",
      "Recall @ 20: 0.09335762395515744\n"
     ]
    }
   ],
   "source": [
    "precision, recall = evaluate_knn(test_paper_ids, knn_tree, embedding_map, metadata, reference_map, all_pids, knn_k=20)\n",
    "print(f\"Precision @ 20: {precision}\")\n",
    "print(f\"Recall @ 20: {recall}\")"
   ]
  },
  {
   "cell_type": "code",
   "execution_count": 50,
   "id": "0ccc28c6-731b-41a7-8365-cb838ab03acf",
   "metadata": {},
   "outputs": [
    {
     "data": {
      "application/vnd.jupyter.widget-view+json": {
       "model_id": "ee9d95d6aaf1469086229fb47b01d5cb",
       "version_major": 2,
       "version_minor": 0
      },
      "text/plain": [
       "  0%|          | 0/7455 [00:00<?, ?it/s]"
      ]
     },
     "metadata": {},
     "output_type": "display_data"
    },
    {
     "name": "stdout",
     "output_type": "stream",
     "text": [
      "Precision @ 20: 0.11829644533869745\n",
      "Recall @ 20: 0.09614186570698526\n"
     ]
    }
   ],
   "source": [
    "precision, recall = evaluate_knn(train_paper_ids, knn_tree, embedding_map, metadata, reference_map, all_pids, knn_k=20)\n",
    "print(f\"Precision @ 20: {precision}\")\n",
    "print(f\"Recall @ 20: {recall}\")"
   ]
  },
  {
   "cell_type": "code",
   "execution_count": 49,
   "id": "2b76bee8-0333-4a29-a0ec-3138ba09e936",
   "metadata": {},
   "outputs": [
    {
     "data": {
      "application/vnd.jupyter.widget-view+json": {
       "model_id": "2369acccc9424f4f9d46875f3364b88a",
       "version_major": 2,
       "version_minor": 0
      },
      "text/plain": [
       "  0%|          | 0/932 [00:00<?, ?it/s]"
      ]
     },
     "metadata": {},
     "output_type": "display_data"
    },
    {
     "name": "stdout",
     "output_type": "stream",
     "text": [
      "Precision @ 20: 0.11786480686695257\n",
      "Recall @ 20: 0.09928292552876614\n"
     ]
    }
   ],
   "source": [
    "precision, recall = evaluate_knn(val_paper_ids, knn_tree, embedding_map, metadata, reference_map, all_pids, knn_k=20)\n",
    "print(f\"Precision @ 20: {precision}\")\n",
    "print(f\"Recall @ 20: {recall}\")"
   ]
  },
  {
   "cell_type": "markdown",
   "id": "30305815-877a-4abf-b904-abea2abaad14",
   "metadata": {},
   "source": [
    "### For test.txt IDs\n",
    "Precision @ P20: 0.08703108252947454\n",
    "Recall @ 20: 0.07151955632733407"
   ]
  },
  {
   "cell_type": "markdown",
   "id": "6a8ac7ad-d67e-4aa3-928a-e59a9350fb28",
   "metadata": {},
   "source": [
    "## NN Based Re-ranking from the KNN candidates"
   ]
  },
  {
   "cell_type": "code",
   "execution_count": 58,
   "id": "2432c6ee-69dd-42f6-a179-530406f84293",
   "metadata": {},
   "outputs": [],
   "source": [
    "## Spliting the Ids based on years\n",
    "# paper_years = {paper_id: metadata[paper_id]['year'] for paper_id in all_paper_ids}\n",
    "\n",
    "# sorted_paper_ids = sorted(all_paper_ids, key=lambda x: paper_years[x])\n",
    "\n",
    "# split_1 = int(len(sorted_paper_ids) * 0.7)\n",
    "# split_2 = int(len(sorted_paper_ids) * 0.9)\n",
    "\n",
    "# train_paper_ids = sorted_paper_ids[:split_1]\n",
    "# val_paper_ids = sorted_paper_ids[split_1:split_2]\n",
    "# test_paper_ids = sorted_paper_ids[split_2:]\n",
    "\n",
    "# len(train_paper_ids) +  len(val_paper_ids) + len(test_paper_ids)"
   ]
  },
  {
   "cell_type": "code",
   "execution_count": 41,
   "id": "b46ea388-21b1-4652-9791-ea23cd0fb4dc",
   "metadata": {},
   "outputs": [
    {
     "data": {
      "text/plain": [
       "'cuda'"
      ]
     },
     "execution_count": 41,
     "metadata": {},
     "output_type": "execute_result"
    }
   ],
   "source": [
    "DEVICE = 'cuda' if torch.cuda.is_available() else 'cpu'\n",
    "DEVICE"
   ]
  },
  {
   "cell_type": "code",
   "execution_count": 34,
   "id": "0a7d9a75-cfcf-4db6-a18b-9eb2f225e936",
   "metadata": {
    "jupyter": {
     "source_hidden": true
    },
    "tags": []
   },
   "outputs": [],
   "source": [
    "# 26th April Latest Working\n",
    "# This work but I forgot how ;(\n",
    "class PaperPairDatasetOriginal(Dataset):\n",
    "    def __init__(self, paper_ids, embedding_map, reference_map, metadata, all_paper_ids, knn_k, use_knn=True, knn_tree = None, check_year=True, data_file = None):#, num_positives=5, num_negatives=5):\n",
    "        self.paper_ids = paper_ids\n",
    "        self.embedding_map = embedding_map\n",
    "        self.reference_map = reference_map\n",
    "        self.metadata = metadata\n",
    "        self.all_paper_ids = all_paper_ids\n",
    "        # self.num_positives = num_positives\n",
    "        # self.num_negatives = num_negatives\n",
    "        self.use_knn = use_knn\n",
    "        self.knn_k = knn_k\n",
    "        self.knn_tree = knn_tree\n",
    "        self.check_year = check_year\n",
    "        # self.paper_ids = list(embedding_map.keys())\n",
    "        # if self.use_knn:\n",
    "        #     self.prepare_data_knn(knn_k=self.knn_k)\n",
    "        # else:\n",
    "        #     self.prepare_data_random()\n",
    "        \n",
    "        if data_file and os.path.exists(data_file):\n",
    "            with open(data_file, 'rb') as f:\n",
    "                self.data = pickle.load(f)\n",
    "        elif self.use_knn:\n",
    "            self.prepare_data_knn(knn_k=self.knn_k)\n",
    "            if data_file:\n",
    "                with open(data_file, 'wb') as f:\n",
    "                    pickle.dump(self.data, f)\n",
    "        else:\n",
    "            self.prepare_data_random()\n",
    "            \n",
    "    def prepare_data_knn(self, knn_k):\n",
    "        self.data = []\n",
    "        total_pos = 0\n",
    "        total_neg = 0\n",
    "        # self.max_recalls = []\n",
    "        # self.max_precisions = []\n",
    "        \n",
    "        self.max_refs_present = []\n",
    "        self.total_refs = []\n",
    "        zero_ref_papers = 0\n",
    "        for i, paper_id in enumerate(tqdm(self.paper_ids)):\n",
    "            pos_count = 0\n",
    "            neg_count = 0\n",
    "            # paper_embedding = embedding_map[paper_id]\n",
    "            original_year = self.metadata[paper_id]['year']\n",
    "            assert type(original_year) == int\n",
    "            # top_indices, top_values = find_similar_knn(paper_embedding.view(1,-1), weights, k=k, least=False)\n",
    "            # recommendations = [self.all_paper_ids[i] for i in top_indices]\n",
    "            \n",
    "            recommendations = set(find_knn_pid(paper_id, self.knn_tree, self.embedding_map, self.metadata, self.all_paper_ids, knn_k=self.knn_k))\n",
    "            # print(len(recommendations))\n",
    "            actual_references = self.reference_map[paper_id]\n",
    "            \n",
    "            num_positives = len(set(actual_references) & recommendations)\n",
    "            num_negatives = num_positives\n",
    "            \n",
    "            # self.max_recalls.append(num_positives/len(actual_references))\n",
    "            # self.max_precisions.append(num_positives)\n",
    "            \n",
    "            self.max_refs_present.append(num_positives)\n",
    "            self.total_refs.append(len(actual_references))\n",
    "            \n",
    "            if len(actual_references) == 0:\n",
    "                zero_ref_papers += 1\n",
    "                \n",
    "            for ref_id in recommendations:\n",
    "                reference_year = self.metadata[ref_id]['year']\n",
    "                assert type(reference_year) == int\n",
    "                \n",
    "                if pos_count >= num_positives and neg_count >= num_negatives:          \n",
    "                    break\n",
    "                    \n",
    "                if ref_id in actual_references and pos_count < num_positives:\n",
    "                    # a positive example\n",
    "                    self.data.append((paper_id, ref_id, 1))\n",
    "                    pos_count += 1           \n",
    "                elif self.check_year and reference_year >= original_year and neg_count < num_negatives:\n",
    "                    # skip KNN receommendations that were not present at the time of the paper\n",
    "                    self.data.append((paper_id, ref_id, 0))\n",
    "                    neg_count += 1\n",
    "                    # print(f'Skipping {ref_id} because it was published after {paper_id} ({reference_year} > {original_year})')\n",
    "                elif ref_id not in actual_references and neg_count < num_negatives:\n",
    "                    # a negative example\n",
    "                    self.data.append((paper_id, ref_id, 0))\n",
    "                    neg_count += 1\n",
    "                else:\n",
    "                    continue\n",
    "                    \n",
    "            # if i % 1000 == 0:\n",
    "            #     print(f'{i} papers processed')\n",
    "            total_pos += pos_count\n",
    "            total_neg += neg_count\n",
    "        \n",
    "        self.pos_neg_ratio = round(total_pos/total_neg, 2)\n",
    "        print(f'{len(self.data)} pairs added with {total_pos} positive pairs and {total_neg} negative pairs | +/- ratio = {self.pos_neg_ratio} | {zero_ref_papers} papers did have references stored in metadata dict.')\n",
    "\n",
    "    def is_published_after(self, year1, year2):\n",
    "        return int(year1 <= year2)\n",
    "\n",
    "    def __len__(self):\n",
    "        return len(self.data)\n",
    "\n",
    "    def __getitem__(self, idx):\n",
    "        paper_id1, paper_id2, score = self.data[idx]\n",
    "        embedding1 = self.embedding_map[paper_id1]\n",
    "        embedding2 = self.embedding_map[paper_id2]\n",
    "        year1 = self.metadata[paper_id1]['year']\n",
    "        year2 = self.metadata[paper_id2]['year']\n",
    "        is_after = self.is_published_after(year1, year2)\n",
    "        # return torch.tensor(embedding1), torch.tensor(embedding2), torch.tensor(score, dtype=torch.float32)\n",
    "        return embedding1, embedding2, torch.tensor(score, dtype=torch.float32), torch.tensor(is_after, dtype=torch.float32)\n",
    "    "
   ]
  },
  {
   "cell_type": "code",
   "execution_count": 89,
   "id": "434be407-44e8-41a5-9c13-3af012ec63ca",
   "metadata": {
    "jupyter": {
     "source_hidden": true
    },
    "tags": []
   },
   "outputs": [],
   "source": [
    "class PaperPairDataset(Dataset):\n",
    "    def __init__(self, paper_ids, knn_tree, embedding_map, reference_map, metadata, all_paper_ids):\n",
    "        self.paper_ids = paper_ids\n",
    "        self.knn_tree = knn_tree\n",
    "        self.embedding_map = embedding_map\n",
    "        self.reference_map = reference_map\n",
    "        self.metadata = metadata\n",
    "        self.all_paper_ids = all_paper_ids\n",
    "        self.data = self.prepare_data()\n",
    "    \n",
    "    def prepare_data(self):\n",
    "        data = []\n",
    "        for query_paper_id in tqdm(self.paper_ids):\n",
    "            query_year = self.metadata[query_paper_id]['year']\n",
    "            # Get the KNN recommendations\n",
    "            knn_indices = self.knn_tree.query(self.embedding_map[query_paper_id].reshape(1, -1), k=1000)[1][0]\n",
    "            knn_paper_ids = [self.all_paper_ids[i] for i in knn_indices]\n",
    "            \n",
    "            # Filter out future papers\n",
    "            knn_paper_ids = [paper_id for paper_id in knn_paper_ids if self.metadata[paper_id]['year'] <= query_year]\n",
    "\n",
    "            for candidate_paper_id in knn_paper_ids:\n",
    "                label = 1 if candidate_paper_id in self.reference_map[query_paper_id] else 0\n",
    "                data.append((query_paper_id, candidate_paper_id, label))\n",
    "        return data\n",
    "    \n",
    "    def __len__(self):\n",
    "        return len(self.data)\n",
    "    \n",
    "    def __getitem__(self, idx):\n",
    "        query_paper_id, candidate_paper_id, label = self.data[idx]\n",
    "        query_embedding = torch.tensor(self.embedding_map[query_paper_id], dtype=torch.float32)\n",
    "        candidate_embedding = torch.tensor(self.embedding_map[candidate_paper_id], dtype=torch.float32)\n",
    "        label = torch.tensor(label, dtype=torch.float32)\n",
    "        return query_embedding, candidate_embedding, label\n"
   ]
  },
  {
   "cell_type": "code",
   "execution_count": 42,
   "id": "0332849b-566c-45a4-b4e7-b46fd496e96a",
   "metadata": {
    "tags": []
   },
   "outputs": [],
   "source": [
    "class PaperPairDataset(Dataset):\n",
    "    def __init__(self, paper_ids, embedding_map, reference_map, metadata, all_paper_ids, knn_k, knn_tree = None, check_year=True, data_file = None):\n",
    "        self.paper_ids = paper_ids\n",
    "        self.embedding_map = embedding_map\n",
    "        self.reference_map = reference_map\n",
    "        self.metadata = metadata\n",
    "        self.all_paper_ids = all_paper_ids\n",
    "        self.knn_k = knn_k\n",
    "        self.knn_tree = knn_tree\n",
    "        self.check_year = check_year\n",
    "        \n",
    "        # if data_file and os.path.exists(data_file):\n",
    "        #     with open(data_file, 'rb') as f:\n",
    "        #         self.data = pickle.load(f)\n",
    "        # else:\n",
    "        #     self.prepare_data_knn(knn_k=self.knn_k)\n",
    "        #     if data_file:\n",
    "        #         with open(data_file, 'wb') as f:\n",
    "        #             pickle.dump(self.data, f)\n",
    "        \n",
    "        if data_file and os.path.exists(data_file):\n",
    "            with open(data_file, 'rb') as f:\n",
    "                saved_data = pickle.load(f)\n",
    "                self.data = saved_data['data']\n",
    "                self.max_refs_present = saved_data['max_refs_present']\n",
    "                self.total_refs = saved_data['total_refs']\n",
    "                self.pos_neg_ratio = saved_data['pos_neg_ratio']\n",
    "        else:\n",
    "            self.prepare_data_knn(knn_k=self.knn_k)\n",
    "            if data_file:\n",
    "                with open(data_file, 'wb') as f:\n",
    "                    saved_data = {\n",
    "                        'data': self.data,\n",
    "                        'max_refs_present': self.max_refs_present,\n",
    "                        'total_refs': self.total_refs,\n",
    "                        'pos_neg_ratio': self.pos_neg_ratio\n",
    "                    }\n",
    "                    pickle.dump(saved_data, f)\n",
    "\n",
    "            \n",
    "    def prepare_data_knn(self, knn_k):\n",
    "        self.data = []\n",
    "        total_pos = 0\n",
    "        total_neg = 0\n",
    "        \n",
    "        self.max_refs_present = []\n",
    "        self.total_refs = []\n",
    "        zero_ref_papers = 0\n",
    "        for i, paper_id in enumerate(tqdm(self.paper_ids)):\n",
    "            pos_count = 0\n",
    "            neg_count = 0\n",
    "            original_year = self.metadata[paper_id]['year']\n",
    "            assert type(original_year) == int\n",
    "            \n",
    "            recommendations = set(find_knn_pid(paper_id, self.knn_tree, self.embedding_map, self.metadata, self.all_paper_ids, knn_k=self.knn_k))\n",
    "            actual_references = self.reference_map[paper_id]\n",
    "            \n",
    "            num_positives = len(set(actual_references) & recommendations)\n",
    "            num_negatives = num_positives\n",
    "            \n",
    "            self.max_refs_present.append(num_positives)\n",
    "            self.total_refs.append(len(actual_references))\n",
    "            \n",
    "            if not actual_references:\n",
    "                zero_ref_papers += 1\n",
    "                \n",
    "            for ref_id in recommendations:\n",
    "                reference_year = self.metadata[ref_id]['year']\n",
    "                assert type(reference_year) == int\n",
    "                \n",
    "                if pos_count >= num_positives and neg_count >= num_negatives:          \n",
    "                    break\n",
    "                    \n",
    "                if ref_id in actual_references and pos_count < num_positives:\n",
    "                    # a positive example\n",
    "                    self.data.append((paper_id, ref_id, 1))\n",
    "                    pos_count += 1           \n",
    "                elif self.check_year and reference_year >= original_year and neg_count < num_negatives:\n",
    "                    # skip KNN receommendations that were not present at the time of the paper\n",
    "                    self.data.append((paper_id, ref_id, 0))\n",
    "                    neg_count += 1\n",
    "                    # print(f'Skipping {ref_id} because it was published after {paper_id} ({reference_year} > {original_year})')\n",
    "                elif ref_id not in actual_references and neg_count < num_negatives:\n",
    "                    # a negative example\n",
    "                    self.data.append((paper_id, ref_id, 0))\n",
    "                    neg_count += 1\n",
    "                else:\n",
    "                    continue\n",
    "\n",
    "            total_pos += pos_count\n",
    "            total_neg += neg_count\n",
    "        \n",
    "        self.pos_neg_ratio = round(total_pos/total_neg, 2)\n",
    "        print(f'{len(self.data)} pairs added with {total_pos} positive pairs and {total_neg} negative pairs | +/- ratio = {self.pos_neg_ratio} | {zero_ref_papers} papers did have references stored in metadata dict.')\n",
    "\n",
    "    def is_published_after(self, year1, year2):\n",
    "        return int(year1 <= year2)\n",
    "\n",
    "    def __len__(self):\n",
    "        return len(self.data)\n",
    "\n",
    "    def __getitem__(self, idx):\n",
    "        paper_id1, paper_id2, score = self.data[idx]\n",
    "        embedding1 = self.embedding_map[paper_id1]\n",
    "        embedding2 = self.embedding_map[paper_id2]\n",
    "        year1 = self.metadata[paper_id1]['year']\n",
    "        year2 = self.metadata[paper_id2]['year']\n",
    "        is_after = self.is_published_after(year1, year2)\n",
    "        return embedding1, embedding2, torch.tensor(score, dtype=torch.float32), torch.tensor(is_after, dtype=torch.float32)\n",
    "    "
   ]
  },
  {
   "cell_type": "code",
   "execution_count": 162,
   "id": "5292c9f1-3b3f-43e6-bf93-008bd8228395",
   "metadata": {
    "jupyter": {
     "source_hidden": true
    },
    "tags": []
   },
   "outputs": [],
   "source": [
    "class PaperPairDatasetCoC(Dataset):\n",
    "    def __init__(self, paper_ids, embedding_map, reference_map, metadata, all_paper_ids, knn_k, knn_tree = None, check_year=True, data_file = None):\n",
    "        self.paper_ids = paper_ids\n",
    "        self.embedding_map = embedding_map\n",
    "        self.reference_map = reference_map\n",
    "        self.metadata = metadata\n",
    "        self.all_paper_ids = all_paper_ids\n",
    "        self.knn_k = knn_k\n",
    "        self.knn_tree = knn_tree\n",
    "        self.check_year = check_year\n",
    "        \n",
    "        # if data_file and os.path.exists(data_file):\n",
    "        #     with open(data_file, 'rb') as f:\n",
    "        #         self.data = pickle.load(f)\n",
    "        # else:\n",
    "        #     self.prepare_data_knn(knn_k=self.knn_k)\n",
    "        #     if data_file:\n",
    "        #         with open(data_file, 'wb') as f:\n",
    "        #             pickle.dump(self.data, f)\n",
    "        \n",
    "        if data_file and os.path.exists(data_file):\n",
    "            with open(data_file, 'rb') as f:\n",
    "                saved_data = pickle.load(f)\n",
    "                self.data = saved_data['data']\n",
    "                self.max_refs_present = saved_data['max_refs_present']\n",
    "                self.total_refs = saved_data['total_refs']\n",
    "                self.pos_neg_ratio = saved_data['pos_neg_ratio']\n",
    "        else:\n",
    "            self.prepare_data_knn(knn_k=self.knn_k)\n",
    "            if data_file:\n",
    "                with open(data_file, 'wb') as f:\n",
    "                    saved_data = {\n",
    "                        'data': self.data,\n",
    "                        'max_refs_present': self.max_refs_present,\n",
    "                        'total_refs': self.total_refs,\n",
    "                        'pos_neg_ratio': self.pos_neg_ratio\n",
    "                    }\n",
    "                    pickle.dump(saved_data, f)\n",
    "                    \n",
    "    def get_citations_of_citations(self, actual_references, reference_map, recommendations):\n",
    "        citations_of_citations = set()\n",
    "        for ref in actual_references:\n",
    "            if ref in reference_map:\n",
    "                citations = set(reference_map[ref])\n",
    "                citations_of_citations.update(citations & recommendations)\n",
    "        return list(citations_of_citations)\n",
    "\n",
    "\n",
    "            \n",
    "    def prepare_data_knn(self, knn_k):\n",
    "        self.data = []\n",
    "        total_pos = 0\n",
    "        total_neg = 0\n",
    "        \n",
    "        self.max_refs_present = []\n",
    "        self.total_refs = []\n",
    "        zero_ref_papers = 0\n",
    "        for i, paper_id in enumerate(tqdm(self.paper_ids)):\n",
    "            pos_count = 0\n",
    "            neg_count = 0\n",
    "            original_year = self.metadata[paper_id]['year']\n",
    "            assert type(original_year) == int\n",
    "            \n",
    "            recommendations = set(find_knn_pid(paper_id, self.knn_tree, self.embedding_map, self.metadata, self.all_paper_ids, knn_k=self.knn_k))\n",
    "            actual_references = self.reference_map[paper_id]\n",
    "            \n",
    "            citations_of_citations = self.get_citations_of_citations(actual_references, self.reference_map, recommendations)\n",
    "            random_negatives = list(recommendations - set(citations_of_citations))\n",
    "\n",
    "            \n",
    "            num_positives = len(set(actual_references) & recommendations)\n",
    "            num_negatives = num_positives\n",
    "            \n",
    "            num_citation_negatives = num_negatives // 2\n",
    "            num_random_negatives = num_negatives - num_citation_negatives\n",
    "            \n",
    "            self.max_refs_present.append(num_positives)\n",
    "            self.total_refs.append(len(actual_references))\n",
    "            \n",
    "            if not actual_references:\n",
    "                zero_ref_papers += 1\n",
    "                \n",
    "            for ref_id in recommendations:\n",
    "                reference_year = self.metadata[ref_id]['year']\n",
    "                assert type(reference_year) == int\n",
    "                \n",
    "                if pos_count >= num_positives and neg_count >= num_negatives:          \n",
    "                    break\n",
    "                    \n",
    "                if ref_id in actual_references and pos_count < num_positives:\n",
    "                    # a positive example\n",
    "                    self.data.append((paper_id, ref_id, 1))\n",
    "                    pos_count += 1           \n",
    "                # elif self.check_year and reference_year >= original_year and neg_count < num_negatives:\n",
    "                #     # skip KNN receommendations that were not present at the time of the paper\n",
    "                #     self.data.append((paper_id, ref_id, 0))\n",
    "                #     neg_count += 1\n",
    "                    # print(f'Skipping {ref_id} because it was published after {paper_id} ({reference_year} > {original_year})')\n",
    "                elif ref_id not in actual_references and neg_count < num_negatives:\n",
    "                    # a negative example\n",
    "                    \n",
    "                    # Choose whether to use a random negative or a citation of a citation\n",
    "                    if neg_count < num_citation_negatives and citations_of_citations:\n",
    "                        ref_id = random.choice(citations_of_citations)\n",
    "                        citations_of_citations.remove(ref_id)\n",
    "                    elif neg_count < num_negatives and random_negatives:\n",
    "                        ref_id = random.choice(random_negatives)\n",
    "                        random_negatives.remove(ref_id)\n",
    "                    else:\n",
    "                        continue\n",
    "\n",
    "\n",
    "                    self.data.append((paper_id, ref_id, 0))\n",
    "                    neg_count += 1\n",
    "                else:\n",
    "                    continue\n",
    "\n",
    "            total_pos += pos_count\n",
    "            total_neg += neg_count\n",
    "        \n",
    "        self.pos_neg_ratio = round(total_pos/total_neg, 2)\n",
    "        print(f'{len(self.data)} pairs added with {total_pos} positive pairs and {total_neg} negative pairs | +/- ratio = {self.pos_neg_ratio} | {zero_ref_papers} papers did have references stored in metadata dict.')\n",
    "\n",
    "    def is_published_after(self, year1, year2):\n",
    "        return int(year1 <= year2)\n",
    "\n",
    "    def __len__(self):\n",
    "        return len(self.data)\n",
    "\n",
    "    def __getitem__(self, idx):\n",
    "        paper_id1, paper_id2, score = self.data[idx]\n",
    "        embedding1 = self.embedding_map[paper_id1]\n",
    "        embedding2 = self.embedding_map[paper_id2]\n",
    "        year1 = self.metadata[paper_id1]['year']\n",
    "        year2 = self.metadata[paper_id2]['year']\n",
    "        is_after = self.is_published_after(year1, year2)\n",
    "        return embedding1, embedding2, torch.tensor(score, dtype=torch.float32), torch.tensor(is_after, dtype=torch.float32)\n",
    "    "
   ]
  },
  {
   "cell_type": "code",
   "execution_count": 116,
   "id": "73e5b595-e868-4533-a184-278db2d0b496",
   "metadata": {
    "jupyter": {
     "source_hidden": true
    },
    "tags": []
   },
   "outputs": [],
   "source": [
    "class PaperPairDatasetOrdered(Dataset):\n",
    "    def __init__(self, paper_ids, embedding_map, reference_map, metadata, all_paper_ids, knn_k, knn_tree = None, check_year=True, data_file = None):\n",
    "        self.paper_ids = paper_ids\n",
    "        self.embedding_map = embedding_map\n",
    "        self.reference_map = reference_map\n",
    "        self.metadata = metadata\n",
    "        self.all_paper_ids = all_paper_ids\n",
    "        self.knn_k = knn_k\n",
    "        self.knn_tree = knn_tree\n",
    "        self.check_year = check_year\n",
    "        \n",
    "        # if data_file and os.path.exists(data_file):\n",
    "        #     with open(data_file, 'rb') as f:\n",
    "        #         self.data = pickle.load(f)\n",
    "        # else:\n",
    "        #     self.prepare_data_knn(knn_k=self.knn_k)\n",
    "        #     if data_file:\n",
    "        #         with open(data_file, 'wb') as f:\n",
    "        #             pickle.dump(self.data, f)\n",
    "        \n",
    "        if data_file and os.path.exists(data_file):\n",
    "            with open(data_file, 'rb') as f:\n",
    "                saved_data = pickle.load(f)\n",
    "                self.data = saved_data['data']\n",
    "                self.max_refs_present = saved_data['max_refs_present']\n",
    "                self.total_refs = saved_data['total_refs']\n",
    "                self.pos_neg_ratio = saved_data['pos_neg_ratio']\n",
    "        else:\n",
    "            self.prepare_data_knn(knn_k=self.knn_k)\n",
    "            if data_file:\n",
    "                with open(data_file, 'wb') as f:\n",
    "                    saved_data = {\n",
    "                        'data': self.data,\n",
    "                        'max_refs_present': self.max_refs_present,\n",
    "                        'total_refs': self.total_refs,\n",
    "                        'pos_neg_ratio': self.pos_neg_ratio\n",
    "                    }\n",
    "                    pickle.dump(saved_data, f)\n",
    "\n",
    "            \n",
    "    def prepare_data_knn(self, knn_k):\n",
    "        self.data = []\n",
    "        total_pos = 0\n",
    "        total_neg = 0\n",
    "        \n",
    "        self.max_refs_present = []\n",
    "        self.total_refs = []\n",
    "        zero_ref_papers = 0\n",
    "        for i, paper_id in enumerate(tqdm(self.paper_ids)):\n",
    "            pos_count = 0\n",
    "            neg_count = 0\n",
    "            original_year = self.metadata[paper_id]['year']\n",
    "            assert type(original_year) == int\n",
    "            \n",
    "            recommendations = find_knn_pid(paper_id, self.knn_tree, self.embedding_map, self.metadata, self.all_paper_ids, knn_k=self.knn_k)\n",
    "            actual_references = set(self.reference_map[paper_id])\n",
    "            \n",
    "            num_positives = len(actual_references & set(recommendations))\n",
    "            num_negatives = num_positives\n",
    "            \n",
    "            self.max_refs_present.append(num_positives)\n",
    "            self.total_refs.append(len(actual_references))\n",
    "            \n",
    "            if not actual_references:\n",
    "                zero_ref_papers += 1\n",
    "                \n",
    "            for ref_id in recommendations:\n",
    "                reference_year = self.metadata[ref_id]['year']\n",
    "                assert type(reference_year) == int\n",
    "                \n",
    "                if pos_count >= num_positives and neg_count >= num_negatives:          \n",
    "                    break\n",
    "                    \n",
    "                if ref_id in actual_references and pos_count < num_positives:\n",
    "                    # a positive example\n",
    "                    self.data.append((paper_id, ref_id, 1))\n",
    "                    pos_count += 1           \n",
    "                elif self.check_year and reference_year >= original_year and neg_count < num_negatives:\n",
    "                    # skip KNN receommendations that were not present at the time of the paper\n",
    "                    self.data.append((paper_id, ref_id, 0))\n",
    "                    neg_count += 1\n",
    "                    # print(f'Skipping {ref_id} because it was published after {paper_id} ({reference_year} > {original_year})')\n",
    "                elif ref_id not in actual_references and neg_count < num_negatives:\n",
    "                    # a negative example\n",
    "                    self.data.append((paper_id, ref_id, 0))\n",
    "                    neg_count += 1\n",
    "                else:\n",
    "                    continue\n",
    "\n",
    "            total_pos += pos_count\n",
    "            total_neg += neg_count\n",
    "        \n",
    "        self.pos_neg_ratio = round(total_pos/total_neg, 2)\n",
    "        print(f'{len(self.data)} pairs added with {total_pos} positive pairs and {total_neg} negative pairs | +/- ratio = {self.pos_neg_ratio} | {zero_ref_papers} papers did have references stored in metadata dict.')\n",
    "\n",
    "    def is_published_after(self, year1, year2):\n",
    "        return int(year1 <= year2)\n",
    "\n",
    "    def __len__(self):\n",
    "        return len(self.data)\n",
    "\n",
    "    def __getitem__(self, idx):\n",
    "        paper_id1, paper_id2, score = self.data[idx]\n",
    "        embedding1 = self.embedding_map[paper_id1]\n",
    "        embedding2 = self.embedding_map[paper_id2]\n",
    "        year1 = self.metadata[paper_id1]['year']\n",
    "        year2 = self.metadata[paper_id2]['year']\n",
    "        is_after = self.is_published_after(year1, year2)\n",
    "        return embedding1, embedding2, torch.tensor(score, dtype=torch.float32), torch.tensor(is_after, dtype=torch.float32)\n",
    "    "
   ]
  },
  {
   "cell_type": "code",
   "execution_count": 117,
   "id": "50c104af-efdc-47d3-a735-fd32cd1a6c11",
   "metadata": {
    "jupyter": {
     "source_hidden": true
    },
    "tags": []
   },
   "outputs": [],
   "source": [
    "class PaperPairDatasetSkip(Dataset):\n",
    "    def __init__(self, paper_ids, embedding_map, reference_map, metadata, all_paper_ids, knn_k, knn_tree = None, check_year=True, data_file = None):\n",
    "        self.paper_ids = paper_ids\n",
    "        self.embedding_map = embedding_map\n",
    "        self.reference_map = reference_map\n",
    "        self.metadata = metadata\n",
    "        self.all_paper_ids = all_paper_ids\n",
    "        self.knn_k = knn_k\n",
    "        self.knn_tree = knn_tree\n",
    "        self.check_year = check_year\n",
    "        \n",
    "        # if data_file and os.path.exists(data_file):\n",
    "        #     with open(data_file, 'rb') as f:\n",
    "        #         self.data = pickle.load(f)\n",
    "        # else:\n",
    "        #     self.prepare_data_knn(knn_k=self.knn_k)\n",
    "        #     if data_file:\n",
    "        #         with open(data_file, 'wb') as f:\n",
    "        #             pickle.dump(self.data, f)\n",
    "        \n",
    "        if data_file and os.path.exists(data_file):\n",
    "            with open(data_file, 'rb') as f:\n",
    "                saved_data = pickle.load(f)\n",
    "                self.data = saved_data['data']\n",
    "                self.max_refs_present = saved_data['max_refs_present']\n",
    "                self.total_refs = saved_data['total_refs']\n",
    "                self.pos_neg_ratio = saved_data['pos_neg_ratio']\n",
    "        else:\n",
    "            self.prepare_data_knn(knn_k=self.knn_k)\n",
    "            if data_file:\n",
    "                with open(data_file, 'wb') as f:\n",
    "                    saved_data = {\n",
    "                        'data': self.data,\n",
    "                        'max_refs_present': self.max_refs_present,\n",
    "                        'total_refs': self.total_refs,\n",
    "                        'pos_neg_ratio': self.pos_neg_ratio\n",
    "                    }\n",
    "                    pickle.dump(saved_data, f)\n",
    "\n",
    "            \n",
    "    def prepare_data_knn(self, knn_k):\n",
    "        self.data = []\n",
    "        total_pos = 0\n",
    "        total_neg = 0\n",
    "        \n",
    "        self.max_refs_present = []\n",
    "        self.total_refs = []\n",
    "        zero_ref_papers = 0\n",
    "        for i, paper_id in enumerate(tqdm(self.paper_ids)):\n",
    "            pos_count = 0\n",
    "            neg_count = 0\n",
    "            original_year = self.metadata[paper_id]['year']\n",
    "            assert type(original_year) == int\n",
    "            \n",
    "            recommendations = set(find_knn_pid(paper_id, self.knn_tree, self.embedding_map, self.metadata, self.all_paper_ids, knn_k=self.knn_k))\n",
    "            actual_references = self.reference_map[paper_id]\n",
    "            \n",
    "            num_positives = len(set(actual_references) & recommendations)\n",
    "            num_negatives = num_positives\n",
    "            \n",
    "            self.max_refs_present.append(num_positives)\n",
    "            self.total_refs.append(len(actual_references))\n",
    "            \n",
    "            if not actual_references:\n",
    "                zero_ref_papers += 1\n",
    "                \n",
    "            for ref_id in recommendations:\n",
    "                reference_year = self.metadata[ref_id]['year']\n",
    "                assert type(reference_year) == int\n",
    "                \n",
    "                if pos_count >= num_positives and neg_count >= num_negatives:          \n",
    "                    break\n",
    "                    \n",
    "                if ref_id in actual_references and pos_count < num_positives:\n",
    "                    # a positive example\n",
    "                    self.data.append((paper_id, ref_id, 1))\n",
    "                    pos_count += 1           \n",
    "                elif self.check_year and reference_year >= original_year and neg_count < num_negatives:\n",
    "                    # skip KNN receommendations that were not present at the time of the paper\n",
    "                    # self.data.append((paper_id, ref_id, 0))\n",
    "                    # neg_count += 1\n",
    "                    # print(f'Skipping {ref_id} because it was published after {paper_id} ({reference_year} > {original_year})')\n",
    "                    continue\n",
    "                elif ref_id not in actual_references and neg_count < num_negatives:\n",
    "                    # a negative example\n",
    "                    self.data.append((paper_id, ref_id, 0))\n",
    "                    neg_count += 1\n",
    "                else:\n",
    "                    continue\n",
    "\n",
    "            total_pos += pos_count\n",
    "            total_neg += neg_count\n",
    "        \n",
    "        self.pos_neg_ratio = round(total_pos/total_neg, 2)\n",
    "        print(f'{len(self.data)} pairs added with {total_pos} positive pairs and {total_neg} negative pairs | +/- ratio = {self.pos_neg_ratio} | {zero_ref_papers} papers did have references stored in metadata dict.')\n",
    "\n",
    "    def is_published_after(self, year1, year2):\n",
    "        return int(year1 <= year2)\n",
    "\n",
    "    def __len__(self):\n",
    "        return len(self.data)\n",
    "\n",
    "    def __getitem__(self, idx):\n",
    "        paper_id1, paper_id2, score = self.data[idx]\n",
    "        embedding1 = self.embedding_map[paper_id1]\n",
    "        embedding2 = self.embedding_map[paper_id2]\n",
    "        year1 = self.metadata[paper_id1]['year']\n",
    "        year2 = self.metadata[paper_id2]['year']\n",
    "        is_after = self.is_published_after(year1, year2)\n",
    "        return embedding1, embedding2, torch.tensor(score, dtype=torch.float32), torch.tensor(is_after, dtype=torch.float32)\n",
    "    "
   ]
  },
  {
   "cell_type": "code",
   "execution_count": 118,
   "id": "0521a6d9-b2cb-4e05-8cff-75d51e923365",
   "metadata": {
    "jupyter": {
     "source_hidden": true
    },
    "tags": []
   },
   "outputs": [],
   "source": [
    "class PaperPairDatasetCustom(Dataset):\n",
    "    def __init__(self, paper_ids, embedding_map, reference_map, metadata, all_paper_ids, knn_k, knn_tree = None, check_year=True, data_file = None):\n",
    "        self.paper_ids = paper_ids\n",
    "        self.embedding_map = embedding_map\n",
    "        self.reference_map = reference_map\n",
    "        self.metadata = metadata\n",
    "        self.all_paper_ids = all_paper_ids\n",
    "        self.knn_k = knn_k\n",
    "        self.knn_tree = knn_tree\n",
    "        self.check_year = check_year\n",
    "        \n",
    "        # if data_file and os.path.exists(data_file):\n",
    "        #     with open(data_file, 'rb') as f:\n",
    "        #         self.data = pickle.load(f)\n",
    "        # else:\n",
    "        #     self.prepare_data_knn(knn_k=self.knn_k)\n",
    "        #     if data_file:\n",
    "        #         with open(data_file, 'wb') as f:\n",
    "        #             pickle.dump(self.data, f)\n",
    "        \n",
    "        if data_file and os.path.exists(data_file):\n",
    "            with open(data_file, 'rb') as f:\n",
    "                saved_data = pickle.load(f)\n",
    "                self.data = saved_data['data']\n",
    "                self.max_refs_present = saved_data['max_refs_present']\n",
    "                self.total_refs = saved_data['total_refs']\n",
    "                self.pos_neg_ratio = saved_data['pos_neg_ratio']\n",
    "        else:\n",
    "            self.prepare_data_knn(knn_k=self.knn_k)\n",
    "            if data_file:\n",
    "                with open(data_file, 'wb') as f:\n",
    "                    saved_data = {\n",
    "                        'data': self.data,\n",
    "                        'max_refs_present': self.max_refs_present,\n",
    "                        'total_refs': self.total_refs,\n",
    "                        'pos_neg_ratio': self.pos_neg_ratio\n",
    "                    }\n",
    "                    pickle.dump(saved_data, f)\n",
    "\n",
    "            \n",
    "    def prepare_data_knn(self, knn_k):\n",
    "        self.data = []\n",
    "        total_pos = 0\n",
    "        total_neg = 0\n",
    "        \n",
    "        self.max_refs_present = []\n",
    "        self.total_refs = []\n",
    "        zero_ref_papers = 0\n",
    "        for i, paper_id in enumerate(tqdm(self.paper_ids)):\n",
    "            pos_count = 0\n",
    "            neg_count = 0\n",
    "            original_year = self.metadata[paper_id]['year']\n",
    "            assert type(original_year) == int\n",
    "            \n",
    "            recommendations = find_knn_pid(paper_id, self.knn_tree, self.embedding_map, self.metadata, self.all_paper_ids, knn_k=self.knn_k)\n",
    "            actual_references = set(self.reference_map[paper_id])\n",
    "            \n",
    "            num_positives = len(actual_references & set(recommendations))\n",
    "            num_negatives = num_positives * 3\n",
    "            \n",
    "            self.max_refs_present.append(num_positives)\n",
    "            self.total_refs.append(len(actual_references))\n",
    "            if not actual_references:\n",
    "                zero_ref_papers += 1\n",
    "                \n",
    "            for ref_id in reversed(recommendations):\n",
    "                reference_year = self.metadata[ref_id]['year']\n",
    "                assert type(reference_year) == int\n",
    "                \n",
    "                if pos_count >= num_positives and neg_count >= num_negatives:          \n",
    "                    break\n",
    "                    \n",
    "                if ref_id in actual_references and pos_count < num_positives:\n",
    "                    # a positive example\n",
    "                    self.data.append((paper_id, ref_id, 1))\n",
    "                    pos_count += 1           \n",
    "                elif self.check_year and reference_year >= original_year and neg_count < num_negatives:\n",
    "                    # skip KNN receommendations that were not present at the time of the paper\n",
    "                    self.data.append((paper_id, ref_id, 0))\n",
    "                    neg_count += 1\n",
    "                    # print(f'Skipping {ref_id} because it was published after {paper_id} ({reference_year} > {original_year})')\n",
    "                elif ref_id not in actual_references and neg_count < num_negatives:\n",
    "                    # a negative example\n",
    "                    self.data.append((paper_id, ref_id, 0))\n",
    "                    neg_count += 1\n",
    "                else:\n",
    "                    continue\n",
    "\n",
    "            total_pos += pos_count\n",
    "            total_neg += neg_count\n",
    "        \n",
    "        self.pos_neg_ratio = round(total_pos/total_neg, 2)\n",
    "        print(f'{len(self.data)} pairs added with {total_pos} positive pairs and {total_neg} negative pairs | +/- ratio = {self.pos_neg_ratio} | {zero_ref_papers} papers did have references stored in metadata dict.')\n",
    "\n",
    "    def is_published_after(self, year1, year2):\n",
    "        return int(year1 <= year2)\n",
    "\n",
    "    def __len__(self):\n",
    "        return len(self.data)\n",
    "\n",
    "    def __getitem__(self, idx):\n",
    "        paper_id1, paper_id2, score = self.data[idx]\n",
    "        embedding1 = self.embedding_map[paper_id1]\n",
    "        embedding2 = self.embedding_map[paper_id2]\n",
    "        year1 = self.metadata[paper_id1]['year']\n",
    "        year2 = self.metadata[paper_id2]['year']\n",
    "        is_after = self.is_published_after(year1, year2)\n",
    "        return embedding1, embedding2, torch.tensor(score, dtype=torch.float32), torch.tensor(is_after, dtype=torch.float32)\n",
    "    "
   ]
  },
  {
   "cell_type": "code",
   "execution_count": 158,
   "id": "c87545f6-a0c9-4a22-9be8-d4ae8090baed",
   "metadata": {},
   "outputs": [],
   "source": [
    "# def get_citations_of_citations(actual_references, reference_map, recommendations):\n",
    "#         citations_of_citations = set()\n",
    "#         for ref in actual_references:\n",
    "#             if ref in reference_map:\n",
    "#                 citations = set(reference_map[ref])\n",
    "#                 citations_of_citations.update(citations & recommendations)\n",
    "#         return list(citations_of_citations)"
   ]
  },
  {
   "cell_type": "code",
   "execution_count": 159,
   "id": "080912d7-8e25-4642-a083-7340aa764665",
   "metadata": {},
   "outputs": [],
   "source": [
    "# aiayn_ar = metadata[test_paper_id]['references']\n",
    "# aiayn_knn_1k = find_knn_pid(test_paper_id, knn_tree, embedding_map, metadata, all_pids, knn_k=1000)\n",
    "# aiayn_coc = get_citations_of_citations(aiayn_ar, reference_map, set(aiayn_knn_1k))"
   ]
  },
  {
   "cell_type": "code",
   "execution_count": 160,
   "id": "8d49c6ed-f5c0-4148-a23a-5a78cfc3f745",
   "metadata": {},
   "outputs": [],
   "source": [
    "# x = 0\n",
    "# for tup in PaperPairDatasetCoC([test_paper_id],embedding_map, reference_map, metadata, all_pids,\n",
    "#                                  knn_k=hparams['knn_k'], knn_tree=knn_tree).data:\n",
    "#     if tup[2] == 0:\n",
    "#         print(tup)\n",
    "#         ref_id = tup[1]\n",
    "#         if ref_id in aiayn_coc:\n",
    "#             x +=1 \n",
    "# print(x)"
   ]
  },
  {
   "cell_type": "code",
   "execution_count": 161,
   "id": "700e5466-a72f-4a33-bf04-4c2701131f00",
   "metadata": {},
   "outputs": [],
   "source": [
    "# aiayn_ar = metadata[test_paper_id]['references']\n",
    "# aiayn_knn_1k = find_knn_pid(test_paper_id, knn_tree, embedding_map, metadata, all_pids, knn_k=1000)\n",
    "# len(aiayn_ar)"
   ]
  },
  {
   "cell_type": "code",
   "execution_count": null,
   "id": "e52e5d31-7453-40ab-bb97-5ef2a2c5b40e",
   "metadata": {},
   "outputs": [],
   "source": [
    "# metadata['56fcf886de43d431590c5617546f75c4c16f3ad4']"
   ]
  },
  {
   "cell_type": "code",
   "execution_count": null,
   "id": "f0ce261d-72f5-472d-9ea8-ec1002646fcf",
   "metadata": {},
   "outputs": [],
   "source": [
    "# val_correct_ids = []\n",
    "# for (qpid, rpid, lbl) in PaperPairDataset(train_paper_ids, embedding_map, reference_map, metadata, all_pids, knn_k=hparams['knn_k'], \n",
    "#                                knn_tree=knn_tree, data_file='train_1k_base2').data:\n",
    "#     if qpid == test_paper_id:\n",
    "#         if lbl == 1:\n",
    "#             assert rpid in aiayn_ar\n",
    "#         else:\n",
    "#             aiayn_working.append(rpid)\n",
    "#     if qpid not in val_correct_ids:\n",
    "#         val_correct_ids.append(qpid)"
   ]
  },
  {
   "cell_type": "code",
   "execution_count": null,
   "id": "7979c667-97f7-49ff-8c33-f6e64264b18a",
   "metadata": {},
   "outputs": [],
   "source": [
    "# aiayn_working"
   ]
  },
  {
   "cell_type": "code",
   "execution_count": null,
   "id": "6ad97ad5-af6c-460f-932c-831a1884ebe5",
   "metadata": {},
   "outputs": [],
   "source": [
    "# [i for i,pid in enumerate(aiayn_knn_1k) if pid in aiayn_working]"
   ]
  },
  {
   "cell_type": "code",
   "execution_count": null,
   "id": "7fdd4bb9-5a8d-4c3a-a88f-192af93516cd",
   "metadata": {},
   "outputs": [],
   "source": [
    "# [i for i,pid in enumerate(aiayn_knn_1k) if pid in aiayn_current]"
   ]
  },
  {
   "cell_type": "code",
   "execution_count": null,
   "id": "c00abb1a-e663-4ebd-8522-9cd3cbcea6bb",
   "metadata": {},
   "outputs": [],
   "source": [
    "# [i for i,pid in enumerate(aiayn_knn_1k) if pid in aiayn_3]"
   ]
  },
  {
   "cell_type": "code",
   "execution_count": null,
   "id": "037c2847-294c-44eb-927c-fb6da6745afa",
   "metadata": {},
   "outputs": [],
   "source": [
    "# aiayn_current = []\n",
    "# for qid, rpid, lbl in PaperPairDataset2([test_paper_id], embedding_map, reference_map, metadata, all_pids,\n",
    "#                                  knn_k=hparams['knn_k'], knn_tree=knn_tree).data:\n",
    "#     if lbl == 1:\n",
    "#         assert rpid in aiayn_ar\n",
    "#     else:\n",
    "#         aiayn_current.append(rpid)\n",
    "#         print(qid, rpid, lbl)"
   ]
  },
  {
   "cell_type": "code",
   "execution_count": null,
   "id": "dff0b6d2-a6a9-470f-b4cc-0ebb4a2eafbe",
   "metadata": {},
   "outputs": [],
   "source": [
    "# aiayn_3 = []\n",
    "# for qid, rpid, lbl in PaperPairDataset3([test_paper_id], embedding_map, reference_map, metadata, all_pids,\n",
    "#                                  knn_k=hparams['knn_k'], knn_tree=knn_tree).data:\n",
    "#     if lbl == 1:\n",
    "#         assert rpid in aiayn_ar\n",
    "#     else:\n",
    "#         aiayn_3.append(rpid)\n",
    "#         print(qid, rpid, lbl)"
   ]
  },
  {
   "cell_type": "code",
   "execution_count": 64,
   "id": "8a8fa9bc-d60e-4299-b034-893f1e3f3b00",
   "metadata": {
    "jupyter": {
     "source_hidden": true
    },
    "tags": []
   },
   "outputs": [],
   "source": [
    "class PaperPairDataset(Dataset):\n",
    "    def __init__(self, paper_ids, embedding_map, reference_map, metadata, all_paper_ids, knn_k, use_knn=True, knn_tree = None, check_year=True, data_file=None):#, num_positives=5, num_negatives=5):\n",
    "        self.paper_ids = paper_ids\n",
    "        self.embedding_map = embedding_map\n",
    "        self.reference_map = reference_map\n",
    "        self.metadata = metadata\n",
    "        self.all_paper_ids = all_paper_ids\n",
    "        # self.num_positives = num_positives\n",
    "        # self.num_negatives = num_negatives\n",
    "        self.use_knn = use_knn\n",
    "        self.knn_k = knn_k\n",
    "        self.knn_tree = knn_tree\n",
    "        self.check_year = check_year\n",
    "        # self.paper_ids = list(embedding_map.keys())\n",
    "        # if self.use_knn:\n",
    "        #     self.prepare_data_knn(knn_k=self.knn_k)\n",
    "        # else:\n",
    "        #     self.prepare_data_random()\n",
    "        \n",
    "        if data_file and os.path.exists(data_file):\n",
    "            with open(data_file, 'rb') as f:\n",
    "                self.data = pickle.load(f)\n",
    "        elif self.use_knn:\n",
    "            self.prepare_data_knn(knn_k=self.knn_k)\n",
    "            if data_file:\n",
    "                with open(data_file, 'wb') as f:\n",
    "                    pickle.dump(self.data, f)\n",
    "        else:\n",
    "            self.prepare_data_random()\n",
    "\n",
    "            \n",
    "    def prepare_data_knn(self, knn_k):\n",
    "        self.data = []\n",
    "        total_pos = 0\n",
    "        total_neg = 0\n",
    "        # self.max_recalls = []\n",
    "        # self.max_precisions = []\n",
    "        \n",
    "        self.max_refs_present = []\n",
    "        self.total_refs = []\n",
    "        zero_ref_papers = 0\n",
    "        for i, paper_id in enumerate(tqdm(self.paper_ids)):\n",
    "            pos_count = 0\n",
    "            neg_count = 0\n",
    "            original_year = self.metadata[paper_id]['year']\n",
    "            assert type(original_year) == int      \n",
    "            # get K nearest neighbours\n",
    "            recommendations = find_knn_pid(paper_id, self.knn_tree, self.embedding_map, self.metadata, self.all_paper_ids, knn_k=self.knn_k)\n",
    "            # get actual references\n",
    "            actual_references = set(self.reference_map[paper_id])\n",
    "            \n",
    "            # how many actual references are present in the KNN recommendations. We form that many + & - pairs to keep it balanced\n",
    "            num_positives = len(actual_references & set(recommendations))\n",
    "            num_negatives = num_positives\n",
    "        \n",
    "            # for logging\n",
    "            self.max_refs_present.append(num_positives)\n",
    "            self.total_refs.append(len(actual_references))\n",
    "            if len(actual_references) == 0:\n",
    "                zero_ref_papers += 1\n",
    "                \n",
    "            # iterating over all recommendations    \n",
    "            for ref_id in recommendations:\n",
    "                reference_year = self.metadata[ref_id]['year']\n",
    "                assert type(reference_year) == int\n",
    "                \n",
    "                # if we've already max number of possible pairs, break\n",
    "                if pos_count >= num_positives and neg_count >= num_negatives:          \n",
    "                    break\n",
    "                    \n",
    "                # if a recommendation is published after, just continue meaning skipping it\n",
    "                if self.check_year and reference_year > original_year:\n",
    "                    # skip KNN receommendations that were not present at the time of the paper\n",
    "                    # print(f'Skipping {ref_id} because it was published after {paper_id} ({reference_year} > {original_year})')\n",
    "                    continue\n",
    "                   \n",
    "                # any paper here is published in the same year or before the query\n",
    "                # so form pairs depending on whether it's a reference or not\n",
    "                if ref_id in actual_references and pos_count < num_positives:\n",
    "                    # a positive example\n",
    "                    self.data.append((paper_id, ref_id, 1))\n",
    "                    pos_count += 1   \n",
    "                elif ref_id not in actual_references and neg_count < num_negatives:\n",
    "                    # a negative example\n",
    "                    self.data.append((paper_id, ref_id, 0))\n",
    "                    neg_count += 1\n",
    "                else:\n",
    "                    continue\n",
    "                    \n",
    "            # if i % 1000 == 0:\n",
    "            #     print(f'{i} papers processed')\n",
    "            # assert (pos_count == neg_count)\n",
    "            total_pos += pos_count\n",
    "            total_neg += neg_count\n",
    "        \n",
    "        self.pos_neg_ratio = round(total_pos/total_neg, 2)\n",
    "        print(f'{len(self.data)} pairs added with {total_pos} positive pairs and {total_neg} negative pairs | +/- ratio = {self.pos_neg_ratio} | {zero_ref_papers} papers did have references stored in metadata dict.')\n",
    "\n",
    "    # def is_published_after(self, year1, year2):\n",
    "    #     return int(year1 < year2)\n",
    "\n",
    "    def __len__(self):\n",
    "        return len(self.data)\n",
    "\n",
    "    def __getitem__(self, idx):\n",
    "        paper_id1, paper_id2, score = self.data[idx]\n",
    "        embedding1 = self.embedding_map[paper_id1]\n",
    "        embedding2 = self.embedding_map[paper_id2]\n",
    "        # year1 = self.metadata[paper_id1]['year']\n",
    "        # year2 = self.metadata[paper_id2]['year']\n",
    "        # is_after = self.is_published_after(year1, year2)\n",
    "        return torch.tensor(embedding1), torch.tensor(embedding2), torch.tensor(score, dtype=torch.float32)\n",
    "        # return embedding1, embedding2, torch.tensor(score, dtype=torch.float32), torch.tensor(is_after, dtype=torch.float32)\n",
    "    "
   ]
  },
  {
   "cell_type": "code",
   "execution_count": 415,
   "id": "34980a3b-5e91-4f1d-ab5f-929961c8eb79",
   "metadata": {
    "jupyter": {
     "source_hidden": true
    },
    "tags": []
   },
   "outputs": [],
   "source": [
    "# class PaperPairDataset(Dataset):\n",
    "#     def __init__(self, paper_ids, embedding_map, reference_map, metadata, all_paper_ids, knn_k, use_knn=False, knn_tree = None, check_year=True):#, num_positives=5, num_negatives=5):\n",
    "#         self.paper_ids = paper_ids\n",
    "#         self.embedding_map = embedding_map\n",
    "#         self.reference_map = reference_map\n",
    "#         self.metadata = metadata\n",
    "#         self.all_paper_ids = all_paper_ids\n",
    "#         # self.num_positives = num_positives\n",
    "#         # self.num_negatives = num_negatives\n",
    "#         self.use_knn = use_knn\n",
    "#         self.knn_k = knn_k\n",
    "#         self.knn_tree = knn_tree\n",
    "#         self.check_year = check_year\n",
    "#         # self.paper_ids = list(embedding_map.keys())\n",
    "#         if self.use_knn:\n",
    "#             self.prepare_data_knn(knn_k=self.knn_k)\n",
    "#         else:\n",
    "#             self.prepare_data_random()\n",
    "\n",
    "\n",
    "                    \n",
    "# #     def prepare_data_knn(self, knn_k):\n",
    "# #         self.data = []\n",
    "# #         total_pos = 0\n",
    "# #         total_neg = 0\n",
    "# #         zero_ref_papers = 0\n",
    "# #         for i, paper_id in enumerate(tqdm(self.paper_ids)):\n",
    "# #             pos_count = 0\n",
    "# #             neg_count = 0\n",
    "# #             # paper_embedding = embedding_map[paper_id]\n",
    "# #             original_year = self.metadata[paper_id]['year']\n",
    "# #             assert type(original_year) == int\n",
    "# #             # top_indices, top_values = find_similar_knn(paper_embedding.view(1,-1), weights, k=k, least=False)\n",
    "# #             # recommendations = [self.all_paper_ids[i] for i in top_indices]\n",
    "            \n",
    "# #             recommendations = set(find_knn_pid(paper_id, self.knn_tree, self.embedding_map, self.metadata, self.all_paper_ids, knn_k=self.knn_k))\n",
    "# #             # print(len(recommendations))\n",
    "# #             actual_references = self.reference_map[paper_id]\n",
    "            \n",
    "# #             num_positives = len(set(actual_references) & recommendations)\n",
    "# #             num_negatives = num_positives\n",
    "# #             if len(actual_references) == 0:\n",
    "# #                 zero_ref_papers += 1\n",
    "                \n",
    "# #             for ref_id in recommendations:\n",
    "# #                 reference_year = self.metadata[ref_id]['year']\n",
    "# #                 assert type(reference_year) == int\n",
    "                \n",
    "# #                 if pos_count >= num_positives and neg_count >= num_negatives:          \n",
    "# #                     break\n",
    "                    \n",
    "# #                 if ref_id in actual_references and pos_count < num_positives:\n",
    "# #                     # a positive example\n",
    "# #                     self.data.append((paper_id, ref_id, 1))\n",
    "# #                     pos_count += 1           \n",
    "# #                 elif self.check_year and reference_year > original_year and neg_count < num_negatives:\n",
    "# #                     # skip KNN receommendations that were not present at the time of the paper\n",
    "# #                     self.data.append((paper_id, ref_id, 0))\n",
    "# #                     neg_count += 1\n",
    "# #                     # print(f'Skipping {ref_id} because it was published after {paper_id} ({reference_year} > {original_year})')\n",
    "# #                 elif ref_id not in actual_references and neg_count < num_negatives:\n",
    "# #                     # a negative example\n",
    "# #                     self.data.append((paper_id, ref_id, 0))\n",
    "# #                     neg_count += 1\n",
    "# #                 else:\n",
    "# #                     continue\n",
    "                    \n",
    "# #             # if i % 1000 == 0:\n",
    "# #             #     print(f'{i} papers processed')\n",
    "# #             total_pos += pos_count\n",
    "# #             total_neg += neg_count\n",
    "        \n",
    "# #         self.pos_neg_ratio = round(total_pos/total_neg, 2)\n",
    "# #         print(f'{len(self.data)} pairs added with {total_pos} positive pairs and {total_neg} negative pairs | +/- ratio = {self.pos_neg_ratio} | {zero_ref_papers} papers did have references stored in metadata dict.')\n",
    "\n",
    "#     def prepare_data_knn(self, knn_k):\n",
    "#         with ProcessPoolExecutor() as executor:\n",
    "#             paper_data = list(tqdm(executor.map(self.get_paper_data, self.paper_ids), total=len(self.paper_ids)))\n",
    "\n",
    "#         self.data = [pair for pairs in paper_data for pair in pairs]\n",
    "#         total_pos = sum(1 for _, _, score in self.data if score == 1)\n",
    "#         total_neg = sum(1 for _, _, score in self.data if score == 0)\n",
    "\n",
    "#         self.pos_neg_ratio = round(total_pos / total_neg, 2)\n",
    "#         print(f'{len(self.data)} pairs added with {total_pos} positive pairs and {total_neg} negative pairs | +/- ratio = {self.pos_neg_ratio}')\n",
    "\n",
    "#     def get_paper_data(self, paper_id):\n",
    "#         pos_count = 0\n",
    "#         neg_count = 0\n",
    "#         paper_data = []\n",
    "\n",
    "#         original_year = self.metadata[paper_id]['year']\n",
    "#         assert type(original_year) == int\n",
    "\n",
    "#         recommendations = set(find_knn_pid(paper_id, self.knn_tree, self.embedding_map, self.metadata, self.all_paper_ids, knn_k=self.knn_k))\n",
    "#         actual_references = self.reference_map[paper_id]\n",
    "\n",
    "#         num_positives = len(set(actual_references) & recommendations)\n",
    "#         num_negatives = num_positives\n",
    "\n",
    "#         for ref_id in recommendations:\n",
    "#             reference_year = self.metadata[ref_id]['year']\n",
    "#             assert type(reference_year) == int\n",
    "\n",
    "#             if pos_count >= num_positives and neg_count >= num_negatives:\n",
    "#                 break\n",
    "\n",
    "#             if ref_id in actual_references and pos_count < num_positives:\n",
    "#                 paper_data.append((paper_id, ref_id, 1))\n",
    "#                 pos_count += 1\n",
    "#             elif self.check_year and reference_year > original_year and neg_count < num_negatives:\n",
    "#                 paper_data.append((paper_id, ref_id, 0))\n",
    "#                 neg_count += 1\n",
    "#             elif ref_id not in actual_references and neg_count < num_negatives:\n",
    "#                 paper_data.append((paper_id, ref_id, 0))\n",
    "#                 neg_count += 1\n",
    "#             else:\n",
    "#                 continue\n",
    "\n",
    "#         return paper_data\n",
    "\n",
    "\n",
    "#     def is_published_after(self, year1, year2):\n",
    "#         return int(year1 < year2)\n",
    "\n",
    "#     def __len__(self):\n",
    "#         return len(self.data)\n",
    "\n",
    "#     def __getitem__(self, idx):\n",
    "#         paper_id1, paper_id2, score = self.data[idx]\n",
    "#         embedding1 = self.embedding_map[paper_id1]\n",
    "#         embedding2 = self.embedding_map[paper_id2]\n",
    "#         year1 = self.metadata[paper_id1]['year']\n",
    "#         year2 = self.metadata[paper_id2]['year']\n",
    "#         is_after = self.is_published_after(year1, year2)\n",
    "#         # return torch.tensor(embedding1), torch.tensor(embedding2), torch.tensor(score, dtype=torch.float32)\n",
    "#         return embedding1, embedding2, torch.tensor(score, dtype=torch.float32), torch.tensor(is_after, dtype=torch.float32)\n",
    "    "
   ]
  },
  {
   "cell_type": "code",
   "execution_count": 118,
   "id": "a0c63aca-3f88-46b1-a549-5ac0aad562b2",
   "metadata": {
    "jupyter": {
     "source_hidden": true
    },
    "tags": []
   },
   "outputs": [],
   "source": [
    "# V1\n",
    "# class PaperPairModel(nn.Module):\n",
    "#     def __init__(self, embedding_dim=768, hidden_dim=2048, num_hidden_layers=2, dropout_prob=0.3, weight_decay=0.01, use_bn=True):\n",
    "#         super(PaperPairModel, self).__init__()\n",
    "#         # self.pos_weight = pos_weight\n",
    "#         # self.loss_function = nn.BCEWithLogitsLoss(pos_weight=torch.tensor([self.pos_weight]))\n",
    "#         layers = []\n",
    "        \n",
    "#         layers.append(nn.Linear(embedding_dim * 2, hidden_dim))\n",
    "#         if use_bn:\n",
    "#             layers.append(nn.BatchNorm1d(hidden_dim))\n",
    "#         layers.append(nn.ReLU())\n",
    "#         layers.append(nn.Dropout(dropout_prob))\n",
    "        \n",
    "\n",
    "        \n",
    "#         for i in range(num_hidden_layers - 1):\n",
    "#             layers.append(nn.Linear(hidden_dim, hidden_dim))\n",
    "#             if use_bn:\n",
    "#                 layers.append(nn.BatchNorm1d(hidden_dim))\n",
    "#             layers.append(nn.ReLU())\n",
    "#             layers.append(nn.Dropout(dropout_prob))\n",
    "        \n",
    "#         layers.append(nn.Linear(hidden_dim, 1))\n",
    "#         # removing sigmoid as nn.BCEWithLogitsLoss already has a sigmoid layer\n",
    "#         layers.append(nn.Sigmoid())\n",
    "        \n",
    "#         self.fc_layers = nn.Sequential(*layers)\n",
    "        \n",
    "#         self.weight_decay = weight_decay\n",
    "\n",
    "#     def forward(self, x1, x2):\n",
    "#         x = torch.cat((x1, x2), dim=1)\n",
    "#         x = self.fc_layers(x)\n",
    "#         return x.squeeze()\n",
    "    \n",
    "    \n",
    "#     # might need these next  if decoupling weight_decay from Adam\n",
    "#     # https://arxiv.org/pdf/1711.05101.pdf]\n",
    "\n",
    "#     # def l2_regularization_loss(self):\n",
    "#     #     l2_loss = 0.0\n",
    "#     #     for param in self.parameters():\n",
    "#     #         l2_loss += torch.norm(param, p=2)**2\n",
    "#     #     return self.weight_decay * l2_loss\n",
    "\n",
    "# #     def loss(self, outputs, targets):\n",
    "# #         # custom weighed loss function\n",
    "# #         # bce_loss = F.binary_cross_entropy(outputs, targets)\n",
    "# #         # l2_loss = self.l2_regularization_loss()\n",
    "# #         # return bce_loss + l2_loss\n",
    "        \n",
    "# #         return self.loss_function(outputs, targets)\n",
    "\n",
    "## V2\n",
    "\n",
    "# class PaperPairModel(nn.Module):\n",
    "#     def __init__(self, embedding_dim=768, hidden_dim=2048, num_hidden_layers=2, dropout_prob=0.3, weight_decay=0.01, use_bn=True):\n",
    "#         super(PaperPairModel, self).__init__()\n",
    "\n",
    "#         layers = [nn.Linear(embedding_dim * 2 + 2, hidden_dim)]\n",
    "#         if use_bn:\n",
    "#             layers.append(nn.BatchNorm1d(hidden_dim))\n",
    "#         layers.extend([nn.ReLU(), nn.Dropout(dropout_prob)])\n",
    "\n",
    "#         for i in range(num_hidden_layers - 1):\n",
    "#             layers.append(nn.Linear(hidden_dim, hidden_dim))\n",
    "#             if use_bn:\n",
    "#                 layers.append(nn.BatchNorm1d(hidden_dim))\n",
    "#             layers.extend([nn.ReLU(), nn.Dropout(dropout_prob)])\n",
    "\n",
    "#         layers.extend([nn.Linear(hidden_dim, 1), nn.Sigmoid()])\n",
    "#         self.fc_layers = nn.Sequential(*layers)\n",
    "\n",
    "#     def forward(self, x1, x2, is_after):\n",
    "#         cosine_sim = F.cosine_similarity(x1, x2, dim=1, eps=1e-8).unsqueeze(1)\n",
    "#         x_diff = torch.abs(x1 - x2)\n",
    "#         x_mul = x1 * x2\n",
    "#         x = torch.cat((x_diff, x_mul, is_after.unsqueeze(1), cosine_sim), dim=1)\n",
    "#         x = self.fc_layers(x)\n",
    "#         return x.squeeze()\n",
    "\n",
    "# # class ResidualBlock(nn.Module):\n",
    "# #     def __init__(self, hidden_dim, use_bn=True):\n",
    "# #         super(ResidualBlock, self).__init__()\n",
    "\n",
    "# #         layers = [nn.Linear(hidden_dim, hidden_dim)]\n",
    "# #         if use_bn:\n",
    "# #             layers.append(nn.BatchNorm1d(hidden_dim))\n",
    "# #         layers.extend([nn.ReLU(), nn.Linear(hidden_dim, hidden_dim)])\n",
    "# #         if use_bn:\n",
    "# #             layers.append(nn.BatchNorm1d(hidden_dim))\n",
    "# #         self.block = nn.Sequential(*layers)\n",
    "\n",
    "# #     def forward(self, x):\n",
    "# #         return x + self.block(x)\n",
    "\n",
    "# class PaperPairModel(nn.Module):\n",
    "#     def __init__(self, embedding_dim=768, hidden_dims=[2048, 1024], dropout_prob=0.3, weight_decay=0.01, use_bn=True):\n",
    "#         super(PaperPairModel, self).__init__()\n",
    "\n",
    "#         input_dim = embedding_dim * 2 + 2\n",
    "#         layers = [nn.Linear(input_dim, hidden_dims[0])]\n",
    "#         if use_bn:\n",
    "#             layers.append(nn.BatchNorm1d(hidden_dims[0]))\n",
    "#         layers.extend([nn.ReLU(), nn.Dropout(dropout_prob)])\n",
    "\n",
    "#         for i in range(len(hidden_dims) - 1):\n",
    "#             layers.append(nn.Linear(hidden_dims[i], hidden_dims[i + 1]))\n",
    "#             if use_bn:\n",
    "#                 layers.append(nn.BatchNorm1d(hidden_dims[i + 1]))\n",
    "#             layers.extend([nn.ReLU(), nn.Dropout(dropout_prob)])\n",
    "#             # layers.append(ResidualBlock(hidden_dims[i + 1], use_bn=use_bn))\n",
    "\n",
    "#         layers.extend([nn.Linear(hidden_dims[-1], 1), nn.Sigmoid()])\n",
    "#         self.fc_layers = nn.Sequential(*layers)\n",
    "\n",
    "#     def forward(self, x1, x2, is_after):\n",
    "#         cosine_sim = F.cosine_similarity(x1, x2, dim=1, eps=1e-8).unsqueeze(1)\n",
    "#         x_diff = torch.abs(x1 - x2)\n",
    "#         x_mul = x1 * x2\n",
    "#         x = torch.cat((x_diff, x_mul, is_after.unsqueeze(1), cosine_sim), dim=1)\n",
    "#         x = self.fc_layers(x)\n",
    "#         return x.squeeze()\n",
    "\n"
   ]
  },
  {
   "cell_type": "code",
   "execution_count": 65,
   "id": "c3f78731-3c7c-4008-98aa-84162cbdb92a",
   "metadata": {
    "jupyter": {
     "source_hidden": true
    },
    "tags": []
   },
   "outputs": [],
   "source": [
    "# class PaperPairModel(nn.Module):\n",
    "#     def __init__(self, embedding_dim=768, hidden_dim=2048, num_hidden_layers=2, dropout_prob=0.3, weight_decay=0.01, use_bn=True, bn_momentum=0.9):\n",
    "#         super(PaperPairModel, self).__init__()\n",
    "\n",
    "#         layers = [nn.Linear(embedding_dim * 2 + 2, hidden_dim)]\n",
    "#         if use_bn:\n",
    "#             layers.append(nn.BatchNorm1d(hidden_dim, momentum=bn_momentum))\n",
    "#         layers.extend([nn.LeakyReLU(), nn.Dropout(dropout_prob)])\n",
    "\n",
    "#         for i in range(num_hidden_layers - 1):\n",
    "#             layers.append(nn.Linear(hidden_dim, hidden_dim))\n",
    "#             if use_bn:\n",
    "#                 layers.append(nn.BatchNorm1d(hidden_dim, momentum=bn_momentum))\n",
    "#             layers.extend([nn.LeakyReLU(), nn.Dropout(dropout_prob)])\n",
    "\n",
    "#         layers.extend([nn.Linear(hidden_dim, 1), nn.Sigmoid()])\n",
    "#         self.fc_layers = nn.Sequential(*layers)\n",
    "\n",
    "#     def forward(self, x1, x2, is_after):\n",
    "#         cosine_sim = F.cosine_similarity(x1, x2, dim=1, eps=1e-8).unsqueeze(1)\n",
    "#         x_diff = torch.abs(x1 - x2)\n",
    "#         x_mul = x1 * x2\n",
    "#         x = torch.cat((x_diff, x_mul, is_after.unsqueeze(1), cosine_sim), dim=1)\n",
    "#         x = self.fc_layers(x)\n",
    "#         return x.squeeze()\n"
   ]
  },
  {
   "cell_type": "code",
   "execution_count": 146,
   "id": "21a7f745-fddf-43e9-8766-88db26427af2",
   "metadata": {
    "jupyter": {
     "source_hidden": true
    },
    "tags": []
   },
   "outputs": [],
   "source": [
    "# class PaperPairModel(nn.Module):\n",
    "#     def __init__(self, embedding_dim=768, hidden_dim=2048, num_hidden_layers=2, dropout_prob=0.3, weight_decay=0.01, use_bn=True):\n",
    "#         super(PaperPairModel, self).__init__()\n",
    "\n",
    "#         self.W = nn.Parameter(torch.rand(embedding_dim, requires_grad=True))\n",
    "#         self.g = nn.Parameter(torch.rand(embedding_dim, requires_grad=True))\n",
    "\n",
    "#         input_dim = embedding_dim * 6 + 4  # updated to account for the extra features\n",
    "#         layers = [nn.Linear(input_dim, hidden_dim)]\n",
    "#         if use_bn:\n",
    "#             layers.append(nn.BatchNorm1d(hidden_dim))\n",
    "#         layers.extend([nn.ReLU(), nn.Dropout(dropout_prob)])\n",
    "\n",
    "#         for i in range(num_hidden_layers - 1):\n",
    "#             layers.append(nn.Linear(hidden_dim, hidden_dim))\n",
    "#             if use_bn:\n",
    "#                 layers.append(nn.BatchNorm1d(hidden_dim))\n",
    "#             layers.extend([nn.ReLU(), nn.Dropout(dropout_prob)])\n",
    "\n",
    "#         layers.extend([nn.Linear(hidden_dim, 1), nn.Sigmoid()])\n",
    "#         self.fc_layers = nn.Sequential(*layers)\n",
    "\n",
    "#     def forward(self, x1, x2, is_after):\n",
    "#         cosine_sim = F.cosine_similarity(x1, x2, dim=1, eps=1e-8).unsqueeze(1)\n",
    "#         x_diff = torch.abs(x1 - x2)\n",
    "#         x_mul = x1 * x2\n",
    "#         x_div = x1 / (x2 + 1e-8)\n",
    "#         x_weighted = x1 * self.W + x2 * (1 - self.W)\n",
    "#         x_gate = torch.sigmoid(self.g) * x1 + (1 - torch.sigmoid(self.g)) * x2\n",
    "#         x_concat = torch.cat((x1, x2), dim=1)\n",
    "\n",
    "#         x = torch.cat((x_diff, x_mul, x_div, x_weighted, x_gate, x_concat, is_after.unsqueeze(1), cosine_sim), dim=1)\n",
    "#         x = self.fc_layers(x)\n",
    "#         return x.squeeze()"
   ]
  },
  {
   "cell_type": "code",
   "execution_count": 45,
   "id": "fbf192f4-5a65-4024-b2c4-f662984fa3de",
   "metadata": {},
   "outputs": [],
   "source": [
    "# hparams = {\n",
    "#     'batch_size': 2048,\n",
    "#     'hidden_dim': 768,\n",
    "#     'num_hidden_layers': 4,\n",
    "#     'lr': 1e-4,\n",
    "#     'patience': 3,\n",
    "#     'factor': 0.1,\n",
    "#     'num_epochs': 250,\n",
    "#     'weight_decay': 1,\n",
    "#     'dropout_prob': 0.1,\n",
    "#     'stop_after': 5,\n",
    "#     'knn_k': 1000, # for getting nearest neighbours\n",
    "#     'top_k': 20, # for evaluation\n",
    "#     'use_bn': True,\n",
    "#     'bn_momentum': 0.9\n",
    "# }"
   ]
  },
  {
   "cell_type": "code",
   "execution_count": 43,
   "id": "0ff7e08c-f341-4cf4-bfef-d6f9a21068e1",
   "metadata": {},
   "outputs": [],
   "source": [
    "hparams = {\n",
    "    'batch_size': 2048,\n",
    "    # 'hidden_dim': 768,\n",
    "    # 'num_hidden_layers': 3,\n",
    "    'hidden_dims': [1024, 2048],\n",
    "    'lr': 1e-2,\n",
    "    'min_lr': 1e-7,\n",
    "    'patience': 3,\n",
    "    'factor': 0.1,\n",
    "    'weight_decay': 1e-3,\n",
    "    'dropout_prob': 0.5,\n",
    "    'stop_after': 5, # does NOT work, need to fix\n",
    "    'knn_k': 1000, # for getting nearest neighbours\n",
    "    'top_k': 20, # for evaluation\n",
    "    'use_bn': True,\n",
    "    'bn_momentum': 0.9,\n",
    "    'num_epochs': 30\n",
    "}"
   ]
  },
  {
   "cell_type": "code",
   "execution_count": 44,
   "id": "61662505-e2c8-4f90-a69d-8539df44ef31",
   "metadata": {},
   "outputs": [],
   "source": [
    "def plot_precision_recall(dataset, top_k, name, bins_list):\n",
    "    max_precision = [min(val, top_k) / top_k for val in dataset.max_refs_present]\n",
    "    max_recall = [min(a, top_k) / b for a, b in zip(dataset.max_refs_present, dataset.total_refs)]\n",
    "\n",
    "    fig, axs = plt.subplots(1, 2, figsize=(12, 4))\n",
    "\n",
    "    for data, xlabel, ax, bin_size in zip([max_precision, max_recall],\n",
    "                                [f'{name} Max Precision @ {top_k}', f'{name} Max Recall @ {top_k}'],\n",
    "                                axs, bins_list):\n",
    "        ax.hist(data, bins=bin_size)\n",
    "        ax.set_xlabel(xlabel)\n",
    "        ax.set_ylabel('Frequency')\n",
    "\n",
    "        np_arr = np.array(data)\n",
    "\n",
    "        mean_val = np.mean(np_arr)\n",
    "        ax.axvline(mean_val, color='orange', linestyle='dashed', linewidth=1)\n",
    "        ax.text(mean_val, ax.get_ylim()[1] * 0.5, f'Mean: {mean_val:.2f}', rotation=45, color='orange')\n",
    "\n",
    "        median_val = np.median(np_arr)\n",
    "        ax.axvline(median_val, color='red', linestyle='dashed', linewidth=1)\n",
    "        ax.text(median_val, ax.get_ylim()[1] * 0.25, f'Median: {median_val:.2f}', rotation=45, color='red')\n",
    "    \n",
    "    fig.suptitle(f'Max Precision and Recall for {name} Set', fontsize=16, y=1.05)\n",
    "    plt.tight_layout()\n",
    "    plt.show()"
   ]
  },
  {
   "cell_type": "code",
   "execution_count": 213,
   "id": "eb1eb048-763d-49f7-8246-e9baac367b65",
   "metadata": {
    "jupyter": {
     "source_hidden": true
    },
    "tags": []
   },
   "outputs": [],
   "source": [
    "# hparams = {\n",
    "#     'batch_size': 4096,\n",
    "#     'hidden_dim': 2048,\n",
    "#     'num_hidden_layers': 3,\n",
    "#     'lr': 1e-4,\n",
    "#     'patience': 3,\n",
    "#     'factor': 0.01,\n",
    "#     'num_epochs': 250,\n",
    "#     'weight_decay': 0.1,\n",
    "#     'dropout_prob': 0.3,\n",
    "#     'stop_after': 5,\n",
    "#     'knn_k': 100,\n",
    "#     'top_k': 20,\n",
    "# }"
   ]
  },
  {
   "cell_type": "code",
   "execution_count": 54,
   "id": "8e72052a-d71d-4c9a-b5bb-7a81aec5472f",
   "metadata": {},
   "outputs": [],
   "source": [
    "# for a,b,c in PaperPairDataset(['204e3073870fae3d05bcbc2f6a8e263d9b72e776'], embedding_map, reference_map, metadata, all_pids, \n",
    "# use_knn=True, knn_k=1000, knn_tree=knn_tree).data:\n",
    "#     print(a,b,c)"
   ]
  },
  {
   "cell_type": "code",
   "execution_count": null,
   "id": "f010f9db-cfc1-4921-8190-06bbe12ddf6e",
   "metadata": {},
   "outputs": [],
   "source": []
  },
  {
   "cell_type": "code",
   "execution_count": 45,
   "id": "4cab31e2-6808-44bd-a07b-e11eb0ed56a7",
   "metadata": {},
   "outputs": [],
   "source": [
    "# Instantiate the dataset, model, loss function, and optimizer\n",
    "train_dataset = PaperPairDataset(train_paper_ids, embedding_map, reference_map, metadata, all_pids,\n",
    "                                 knn_k=hparams['knn_k'], knn_tree=knn_tree, data_file='final_train_report')"
   ]
  },
  {
   "cell_type": "code",
   "execution_count": 46,
   "id": "84d2d98b-1839-4d96-8796-e7f0fa2c6e54",
   "metadata": {},
   "outputs": [
    {
     "data": {
      "text/plain": [
       "13.973574782025485"
      ]
     },
     "execution_count": 46,
     "metadata": {},
     "output_type": "execute_result"
    }
   ],
   "source": [
    "np.mean(train_dataset.max_refs_present)"
   ]
  },
  {
   "cell_type": "code",
   "execution_count": 119,
   "id": "6ea5abb1-9094-4ec1-849a-8d8ce058f217",
   "metadata": {},
   "outputs": [],
   "source": [
    "# Instantiate the dataset, model, loss function, and optimizer\n",
    "train_dataset = PaperPairDatasetSkip(train_paper_ids, embedding_map, reference_map, metadata, all_pids,\n",
    "                                 knn_k=hparams['knn_k'], knn_tree=knn_tree, data_file='final_train_skip')"
   ]
  },
  {
   "cell_type": "code",
   "execution_count": 126,
   "id": "98eeebf3-fbba-4821-84ff-0df7eb34d7ef",
   "metadata": {},
   "outputs": [],
   "source": [
    "# Instantiate the dataset, model, loss function, and optimizer\n",
    "train_dataset = PaperPairDatasetOrdered(train_paper_ids, embedding_map, reference_map, metadata, all_pids,\n",
    "                                 knn_k=hparams['knn_k'], knn_tree=knn_tree, data_file='final_train_ordered')"
   ]
  },
  {
   "cell_type": "code",
   "execution_count": 130,
   "id": "31a241cc-8e71-4eac-995f-29b137b07c12",
   "metadata": {},
   "outputs": [],
   "source": [
    "# Instantiate the dataset, model, loss function, and optimizer\n",
    "train_dataset = PaperPairDatasetCustom(train_paper_ids, embedding_map, reference_map, metadata, all_pids,\n",
    "                                 knn_k=hparams['knn_k'], knn_tree=knn_tree, data_file='final_train_custom')"
   ]
  },
  {
   "cell_type": "code",
   "execution_count": 163,
   "id": "7d3e6c3a-b44a-4ff3-a813-909d5b12d0ec",
   "metadata": {},
   "outputs": [
    {
     "data": {
      "application/vnd.jupyter.widget-view+json": {
       "model_id": "aa346f98a7f040d5b22278cc032ae746",
       "version_major": 2,
       "version_minor": 0
      },
      "text/plain": [
       "  0%|          | 0/7455 [00:00<?, ?it/s]"
      ]
     },
     "metadata": {},
     "output_type": "display_data"
    },
    {
     "name": "stdout",
     "output_type": "stream",
     "text": [
      "205788 pairs added with 102894 positive pairs and 102894 negative pairs | +/- ratio = 1.0 | 0 papers did have references stored in metadata dict.\n"
     ]
    }
   ],
   "source": [
    "# Instantiate the dataset, model, loss function, and optimizer\n",
    "train_dataset = PaperPairDatasetCoC(train_paper_ids, embedding_map, reference_map, metadata, all_pids,\n",
    "                                 knn_k=hparams['knn_k'], knn_tree=knn_tree, data_file='final_train_coc')"
   ]
  },
  {
   "cell_type": "markdown",
   "id": "1287f70f-e97b-4d57-a4b0-964a1ed42184",
   "metadata": {},
   "source": [
    "Previous: 204639 pairs added with 101264 positive pairs and 103375 negative pairs | +/- ratio = 0.98 | 0 papers did have references stored in metadata dict.\n"
   ]
  },
  {
   "cell_type": "code",
   "execution_count": 93,
   "id": "638a3cdd-5389-40fe-b8af-e96e413da246",
   "metadata": {
    "jupyter": {
     "source_hidden": true
    },
    "tags": []
   },
   "outputs": [],
   "source": [
    "# train_max_precision = [min(val, hparams['top_k']) / hparams['top_k'] for val in train_dataset_1k.max_refs_present]\n",
    "# train_max_recall = [min(a, hparams['top_k'])/b for a,b in zip(train_dataset_1k.max_refs_present, train_dataset_1k.total_refs)]"
   ]
  },
  {
   "cell_type": "code",
   "execution_count": 91,
   "id": "26f07716-b09b-43cb-acd5-8394ad76b41d",
   "metadata": {
    "jupyter": {
     "source_hidden": true
    },
    "tags": []
   },
   "outputs": [],
   "source": [
    "# plot_stats(train_max_precision, xlabel=f'Train Max Precision @ {hparams[\"top_k\"]} ', bins=10)"
   ]
  },
  {
   "cell_type": "code",
   "execution_count": 92,
   "id": "2aee57f7-96af-49cc-b1fa-47fc8cf85b8a",
   "metadata": {
    "jupyter": {
     "source_hidden": true
    },
    "tags": []
   },
   "outputs": [],
   "source": [
    "# plot_stats(train_max_recall, xlabel=f'Train Max Recall @ {hparams[\"top_k\"]}')"
   ]
  },
  {
   "cell_type": "code",
   "execution_count": 48,
   "id": "4b25c368-4a70-4845-b36c-b786452bdce9",
   "metadata": {},
   "outputs": [
    {
     "data": {
      "image/png": "[encoded data removed]",
      "text/plain": [
       "<Figure size 1200x400 with 2 Axes>"
      ]
     },
     "metadata": {},
     "output_type": "display_data"
    }
   ],
   "source": [
    "plot_precision_recall(dataset=train_dataset, top_k=20, name='Train', bins_list=[10, 50])"
   ]
  },
  {
   "cell_type": "markdown",
   "id": "45d6510b-5946-4a9c-922a-940f3bf9825d",
   "metadata": {},
   "source": [
    "140296 pairs added with 28471 positive pairs and 111825 negative pairs | +/- ratio = 0.25 | 0 papers did have references stored in metadata dict.\n"
   ]
  },
  {
   "cell_type": "markdown",
   "id": "ebfdc2a8-c3bf-4c03-8d92-f59b3a3932c7",
   "metadata": {},
   "source": [
    "140594 pairs added with 28769 positive pairs and 111825 negative pairs | +/- ratio = 0.26 | 0 papers did have references stored in metadata dict."
   ]
  },
  {
   "cell_type": "markdown",
   "id": "be2a47fe-b13c-4aec-9e74-44c0d23935a4",
   "metadata": {},
   "source": [
    "46832 pairs added with 12691 positive pairs and 34141 negative pairs | +/- ratio = 0.37 | 0 papers did have references stored in metadata dict.\n"
   ]
  },
  {
   "cell_type": "markdown",
   "id": "c0f38d1a-dadb-4489-9fcc-f42301f6794c",
   "metadata": {},
   "source": [
    "check_year = False: 50173 pairs added with 12902 positive pairs and 37271 negative pairs | +/- ratio = 0.35 | 0 papers did have references stored in metadata dict.\\\n",
    "check_year = True: 46875 pairs added with 12678 positive pairs and 34197 negative pairs | +/- ratio = 0.37 | 0 papers did have references stored in metadata dict.\n",
    "\n",
    "\n",
    "This probably means that KNN neighbours don't have that many relevant references around them (perhaps because most references are not stored)"
   ]
  },
  {
   "cell_type": "code",
   "execution_count": 59,
   "id": "9c96a8c6-07a7-459a-9fae-b11901799a55",
   "metadata": {
    "jupyter": {
     "source_hidden": true
    },
    "tags": []
   },
   "outputs": [],
   "source": [
    "# aiayn_refs = metadata['7b54a851675cc73367cd28c296d393564ebe55f5']['references']\n",
    "# aiayn_knn_1k = find_knn_pid('7b54a851675cc73367cd28c296d393564ebe55f5', knn_tree, embedding_map, metadata, all_pids, knn_k=5000)\n",
    "# len(aiayn_refs), len(set(aiayn_refs) & set(aiayn_knn_1k))"
   ]
  },
  {
   "cell_type": "code",
   "execution_count": 60,
   "id": "1f283782-d4e5-412d-b5a3-def2b12fb96d",
   "metadata": {
    "jupyter": {
     "source_hidden": true
    },
    "tags": []
   },
   "outputs": [],
   "source": [
    "# metadata['7b54a851675cc73367cd28c296d393564ebe55f5'], 9b61735315618a8c2dfafc41eb3c774371adacd3"
   ]
  },
  {
   "cell_type": "code",
   "execution_count": 49,
   "id": "169626a8-9503-44b8-a260-dda2617b2336",
   "metadata": {},
   "outputs": [],
   "source": [
    "val_dataset = PaperPairDataset(val_paper_ids, embedding_map, reference_map, metadata, all_pids, knn_k=hparams['knn_k'], \n",
    "                               knn_tree=knn_tree, data_file='final_val_report')"
   ]
  },
  {
   "cell_type": "code",
   "execution_count": 120,
   "id": "382bf070-99db-4972-be44-d92ea6ae643f",
   "metadata": {},
   "outputs": [],
   "source": [
    "val_dataset = PaperPairDatasetSkip(val_paper_ids, embedding_map, reference_map, metadata, all_pids, knn_k=hparams['knn_k'], \n",
    "                               knn_tree=knn_tree, data_file='final_val_skip')"
   ]
  },
  {
   "cell_type": "code",
   "execution_count": 127,
   "id": "730c8a97-34f9-463d-aa37-98c7f64ec1da",
   "metadata": {},
   "outputs": [],
   "source": [
    "val_dataset = PaperPairDatasetOrdered(val_paper_ids, embedding_map, reference_map, metadata, all_pids, knn_k=hparams['knn_k'], \n",
    "                               knn_tree=knn_tree, data_file='final_val_ordered')"
   ]
  },
  {
   "cell_type": "code",
   "execution_count": 131,
   "id": "85d9b4c7-bb21-42a4-818b-94b6c5d75b5c",
   "metadata": {},
   "outputs": [],
   "source": [
    "val_dataset = PaperPairDatasetCustom(val_paper_ids, embedding_map, reference_map, metadata, all_pids, knn_k=hparams['knn_k'], \n",
    "                               knn_tree=knn_tree, data_file='final_val_custom')"
   ]
  },
  {
   "cell_type": "code",
   "execution_count": 164,
   "id": "64b5b3e5-08d8-4c02-b5dc-6776ebfe5a8b",
   "metadata": {},
   "outputs": [
    {
     "data": {
      "application/vnd.jupyter.widget-view+json": {
       "model_id": "ff398637ed46429390f37810ac059d28",
       "version_major": 2,
       "version_minor": 0
      },
      "text/plain": [
       "  0%|          | 0/932 [00:00<?, ?it/s]"
      ]
     },
     "metadata": {},
     "output_type": "display_data"
    },
    {
     "name": "stdout",
     "output_type": "stream",
     "text": [
      "26582 pairs added with 13291 positive pairs and 13291 negative pairs | +/- ratio = 1.0 | 0 papers did have references stored in metadata dict.\n"
     ]
    }
   ],
   "source": [
    "val_dataset = PaperPairDatasetCoC(val_paper_ids, embedding_map, reference_map, metadata, all_pids, knn_k=hparams['knn_k'], \n",
    "                               knn_tree=knn_tree, data_file='final_val_coc')"
   ]
  },
  {
   "cell_type": "code",
   "execution_count": null,
   "id": "e906fcdc-a121-4ccc-8d18-2770dd1030a5",
   "metadata": {},
   "outputs": [],
   "source": [
    "25592 pairs added with 12796 positive pairs and 12796 negative pairs | +/- ratio = 1.0 | 0 papers did have references stored in metadata dict.\n"
   ]
  },
  {
   "cell_type": "code",
   "execution_count": 51,
   "id": "85816fcb-af93-42ec-9cdc-bf98bb438715",
   "metadata": {},
   "outputs": [
    {
     "ename": "TypeError",
     "evalue": "list indices must be integers or slices, not str",
     "output_type": "error",
     "traceback": [
      "\u001b[0;31m---------------------------------------------------------------------------\u001b[0m",
      "\u001b[0;31mTypeError\u001b[0m                                 Traceback (most recent call last)",
      "Cell \u001b[0;32mIn [51], line 1\u001b[0m\n\u001b[0;32m----> 1\u001b[0m \u001b[38;5;28mlen\u001b[39m(\u001b[43mPaperPairDataset\u001b[49m\u001b[43m(\u001b[49m\u001b[43mval_paper_ids\u001b[49m\u001b[43m,\u001b[49m\u001b[43m \u001b[49m\u001b[43membedding_map\u001b[49m\u001b[43m,\u001b[49m\u001b[43m \u001b[49m\u001b[43mreference_map\u001b[49m\u001b[43m,\u001b[49m\u001b[43m \u001b[49m\u001b[43mmetadata\u001b[49m\u001b[43m,\u001b[49m\u001b[43m \u001b[49m\u001b[43mall_pids\u001b[49m\u001b[43m,\u001b[49m\u001b[43m \u001b[49m\u001b[43mknn_k\u001b[49m\u001b[38;5;241;43m=\u001b[39;49m\u001b[43mhparams\u001b[49m\u001b[43m[\u001b[49m\u001b[38;5;124;43m'\u001b[39;49m\u001b[38;5;124;43mknn_k\u001b[39;49m\u001b[38;5;124;43m'\u001b[39;49m\u001b[43m]\u001b[49m\u001b[43m,\u001b[49m\u001b[43m \u001b[49m\n\u001b[1;32m      2\u001b[0m \u001b[43m                               \u001b[49m\u001b[43mknn_tree\u001b[49m\u001b[38;5;241;43m=\u001b[39;49m\u001b[43mknn_tree\u001b[49m\u001b[43m,\u001b[49m\u001b[43m \u001b[49m\u001b[43mdata_file\u001b[49m\u001b[38;5;241;43m=\u001b[39;49m\u001b[38;5;124;43m'\u001b[39;49m\u001b[38;5;124;43mval_1k_base2\u001b[39;49m\u001b[38;5;124;43m'\u001b[39;49m\u001b[43m)\u001b[49m\u001b[38;5;241m.\u001b[39mdata)\n",
      "Cell \u001b[0;32mIn [42], line 24\u001b[0m, in \u001b[0;36mPaperPairDataset.__init__\u001b[0;34m(self, paper_ids, embedding_map, reference_map, metadata, all_paper_ids, knn_k, knn_tree, check_year, data_file)\u001b[0m\n\u001b[1;32m     22\u001b[0m \u001b[38;5;28;01mwith\u001b[39;00m \u001b[38;5;28mopen\u001b[39m(data_file, \u001b[38;5;124m'\u001b[39m\u001b[38;5;124mrb\u001b[39m\u001b[38;5;124m'\u001b[39m) \u001b[38;5;28;01mas\u001b[39;00m f:\n\u001b[1;32m     23\u001b[0m     saved_data \u001b[38;5;241m=\u001b[39m pickle\u001b[38;5;241m.\u001b[39mload(f)\n\u001b[0;32m---> 24\u001b[0m     \u001b[38;5;28mself\u001b[39m\u001b[38;5;241m.\u001b[39mdata \u001b[38;5;241m=\u001b[39m \u001b[43msaved_data\u001b[49m\u001b[43m[\u001b[49m\u001b[38;5;124;43m'\u001b[39;49m\u001b[38;5;124;43mdata\u001b[39;49m\u001b[38;5;124;43m'\u001b[39;49m\u001b[43m]\u001b[49m\n\u001b[1;32m     25\u001b[0m     \u001b[38;5;28mself\u001b[39m\u001b[38;5;241m.\u001b[39mmax_refs_present \u001b[38;5;241m=\u001b[39m saved_data[\u001b[38;5;124m'\u001b[39m\u001b[38;5;124mmax_refs_present\u001b[39m\u001b[38;5;124m'\u001b[39m]\n\u001b[1;32m     26\u001b[0m     \u001b[38;5;28mself\u001b[39m\u001b[38;5;241m.\u001b[39mtotal_refs \u001b[38;5;241m=\u001b[39m saved_data[\u001b[38;5;124m'\u001b[39m\u001b[38;5;124mtotal_refs\u001b[39m\u001b[38;5;124m'\u001b[39m]\n",
      "\u001b[0;31mTypeError\u001b[0m: list indices must be integers or slices, not str"
     ]
    }
   ],
   "source": [
    "len(PaperPairDataset(val_paper_ids, embedding_map, reference_map, metadata, all_pids, knn_k=hparams['knn_k'], \n",
    "                               knn_tree=knn_tree, data_file='val_1k_base2').data)"
   ]
  },
  {
   "cell_type": "code",
   "execution_count": 50,
   "id": "be5b126b-5147-4095-b461-dea17463d908",
   "metadata": {},
   "outputs": [
    {
     "data": {
      "text/plain": [
       "208346"
      ]
     },
     "execution_count": 50,
     "metadata": {},
     "output_type": "execute_result"
    }
   ],
   "source": [
    "len(train_dataset)"
   ]
  },
  {
   "cell_type": "code",
   "execution_count": 102,
   "id": "b508382e-ce2a-4e07-a123-897f9863a182",
   "metadata": {},
   "outputs": [
    {
     "data": {
      "image/png": "[encoded data removed]",
      "text/plain": [
       "<Figure size 1200x400 with 2 Axes>"
      ]
     },
     "metadata": {},
     "output_type": "display_data"
    }
   ],
   "source": [
    "plot_precision_recall(dataset=val_dataset, top_k=20, name='Val', bins_list=[10, 50])"
   ]
  },
  {
   "cell_type": "code",
   "execution_count": 52,
   "id": "d9d740c3-f336-4f69-b3bf-9f6286e668ae",
   "metadata": {},
   "outputs": [],
   "source": [
    "test_dataset = PaperPairDataset(test_paper_ids, embedding_map, reference_map, metadata, all_pids, knn_k=hparams['knn_k'], \n",
    "                               knn_tree=knn_tree, data_file='final_test_report')"
   ]
  },
  {
   "cell_type": "code",
   "execution_count": 53,
   "id": "011b5ca4-e5db-4edc-9682-ad5cfbc8f4de",
   "metadata": {},
   "outputs": [
    {
     "data": {
      "image/png": "[encoded data removed]",
      "text/plain": [
       "<Figure size 1200x400 with 2 Axes>"
      ]
     },
     "metadata": {},
     "output_type": "display_data"
    }
   ],
   "source": [
    "plot_precision_recall(dataset=test_dataset, top_k=20, name='Test', bins_list=[10, 50])"
   ]
  },
  {
   "cell_type": "code",
   "execution_count": 83,
   "id": "1174a4c2-4b36-4c01-b27d-b170b98cb862",
   "metadata": {
    "jupyter": {
     "source_hidden": true
    },
    "tags": []
   },
   "outputs": [],
   "source": [
    "# test_max_precision = [min(val, hparams['top_k']) / hparams['top_k'] for val in test_dataset.max_refs_present]\n",
    "# test_max_recall = [min(a, hparams['top_k'])/b for a,b in zip(test_dataset.max_refs_present, test_dataset.total_refs)]"
   ]
  },
  {
   "cell_type": "code",
   "execution_count": 84,
   "id": "e8d38485-8802-4d22-8897-3af9820cf80c",
   "metadata": {
    "jupyter": {
     "source_hidden": true
    },
    "tags": []
   },
   "outputs": [],
   "source": [
    "# plot_stats(test_max_precision, xlabel=f'Train Max Precision @ {hparams[\"top_k\"]} ', bins=10)"
   ]
  },
  {
   "cell_type": "code",
   "execution_count": 85,
   "id": "dbcb2fcd-ff48-4b1d-8e93-23c1830935ee",
   "metadata": {
    "jupyter": {
     "source_hidden": true
    },
    "tags": []
   },
   "outputs": [],
   "source": [
    "# plot_stats(test_max_recall, xlabel='Test Max Recall')"
   ]
  },
  {
   "cell_type": "code",
   "execution_count": 54,
   "id": "4daa857e-9e3d-4bd6-a836-bd2b32f2ba5f",
   "metadata": {},
   "outputs": [],
   "source": [
    "# %debug\n",
    "# Verify data pairs are correctly labelled\n",
    "\n",
    "def sanity_check(dataset):\n",
    "    for qid, rid, label in dataset.data:\n",
    "        qid_refs = set(metadata[qid]['references'])\n",
    "        if label == 1: \n",
    "            assert(rid in qid_refs)\n",
    "            continue\n",
    "        assert(rid not in qid_refs)\n",
    "    print('All Good')"
   ]
  },
  {
   "cell_type": "code",
   "execution_count": 55,
   "id": "a8b5adb3-fd49-425e-9d0a-7b33ff1795dd",
   "metadata": {},
   "outputs": [
    {
     "name": "stdout",
     "output_type": "stream",
     "text": [
      "All Good\n",
      "All Good\n",
      "All Good\n"
     ]
    }
   ],
   "source": [
    "sanity_check(train_dataset)\n",
    "sanity_check(val_dataset)\n",
    "sanity_check(test_dataset)"
   ]
  },
  {
   "cell_type": "code",
   "execution_count": 56,
   "id": "5b624eb5-12b2-499a-8857-d60fc10627aa",
   "metadata": {},
   "outputs": [
    {
     "data": {
      "text/plain": [
       "(208346, 25540)"
      ]
     },
     "execution_count": 56,
     "metadata": {},
     "output_type": "execute_result"
    }
   ],
   "source": [
    "len(train_dataset), len(val_dataset)"
   ]
  },
  {
   "cell_type": "code",
   "execution_count": 98,
   "id": "de58be93-fc98-45f1-9b45-d9be53efc0ee",
   "metadata": {
    "jupyter": {
     "source_hidden": true
    },
    "tags": []
   },
   "outputs": [],
   "source": [
    "val_max_precision = [a/ hparams['top_k'] for a in val_dataset.max_refs_present]\n",
    "val_max_recall = [min(a, hparams['top_k'])/b for a,b in zip(val_dataset.max_refs_present, val_dataset.total_refs)]"
   ]
  },
  {
   "cell_type": "code",
   "execution_count": 102,
   "id": "e1a4be83-8142-499c-91ce-b83921bf2bba",
   "metadata": {
    "jupyter": {
     "source_hidden": true
    },
    "tags": []
   },
   "outputs": [],
   "source": [
    "# plot_stats(val_max_precision, xlabel='Val Max Precision')"
   ]
  },
  {
   "cell_type": "code",
   "execution_count": 217,
   "id": "301a72ac-6562-4c35-a5be-bb64e1ad6f21",
   "metadata": {
    "jupyter": {
     "source_hidden": true
    },
    "tags": []
   },
   "outputs": [],
   "source": [
    "# # Storing the data in order to not have to recompute KNN pairs again\n",
    "# with open(f'prepared_train_dataset_k{hparams['knn_k']}.pkl', 'wb') as f:\n",
    "#     dill.dump(train_dataset, f)"
   ]
  },
  {
   "cell_type": "code",
   "execution_count": 196,
   "id": "215238c9-09fc-4c1a-a22e-ac25b69a9a7b",
   "metadata": {
    "jupyter": {
     "source_hidden": true
    },
    "tags": []
   },
   "outputs": [],
   "source": [
    "# # Storing the data in order to not have to recompute KNN pairs again\n",
    "# with open(f'prepared_val_dataset_k{hparams[\"knn_k\"]}.pkl', 'wb') as f:\n",
    "#     pickle.dump(val_dataset, f)"
   ]
  },
  {
   "cell_type": "code",
   "execution_count": 218,
   "id": "1deccb02-6420-4d5b-bd08-6365cbf3c7aa",
   "metadata": {
    "jupyter": {
     "source_hidden": true
    },
    "tags": []
   },
   "outputs": [],
   "source": [
    "# # If I need to load dataset\n",
    "# with open('prepared_dataset_k100.pkl', 'rb') as f:\n",
    "#     temp_dataset = dill.load(f)"
   ]
  },
  {
   "cell_type": "code",
   "execution_count": null,
   "id": "6d02abac-3655-48a3-979a-a132343e8ece",
   "metadata": {
    "jupyter": {
     "source_hidden": true
    },
    "tags": []
   },
   "outputs": [],
   "source": [
    "## 22nd April\n",
    "# class PaperPairModel(nn.Module):\n",
    "#     def __init__(self, embedding_dim=768, hidden_dim=2048, num_hidden_layers=2, dropout_prob=0.3, weight_decay=0.01):\n",
    "        \n",
    "#         super(PaperPairModel, self).__init__()\n",
    "#         self.fc_layers = nn.ModuleList()\n",
    "#         self.fc_layers.append(nn.Linear(embedding_dim * 2, hidden_dim))\n",
    "#         for i in range(num_hidden_layers - 1):\n",
    "#             self.fc_layers.append(nn.Linear(hidden_dim, hidden_dim))\n",
    "#         self.relu = nn.ReLU()\n",
    "#         self.dropout = nn.Dropout(dropout_prob)\n",
    "#         self.fc_out = nn.Linear(hidden_dim, 1)\n",
    "#         self.sigmoid = nn.Sigmoid()\n",
    "#         self.weight_decay = weight_decay\n",
    "\n",
    "#     def forward(self, x1, x2):\n",
    "#         x = torch.cat((x1, x2), dim=1)\n",
    "#         for layer in self.fc_layers:\n",
    "#             x = layer(x)\n",
    "#             x = self.relu(x)\n",
    "#             x = self.dropout(x)\n",
    "#         x = self.fc_out(x)\n",
    "#         x = self.sigmoid(x)\n",
    "#         return x.squeeze()\n",
    "\n",
    "#     def l2_regularization_loss(self):\n",
    "#         l2_loss = 0.0\n",
    "#         for param in self.parameters():\n",
    "#             l2_loss += torch.norm(param, p=2)**2\n",
    "#         return self.weight_decay * l2_loss\n",
    "\n",
    "#     def loss(self, outputs, targets):\n",
    "#         bce_loss = nn.BCELoss()(outputs, targets)\n",
    "#         l2_loss = self.l2_regularization_loss()\n",
    "#         return bce_loss + l2_loss"
   ]
  },
  {
   "cell_type": "code",
   "execution_count": null,
   "id": "10b1dffb-b54b-4780-a76f-3725b5819499",
   "metadata": {
    "jupyter": {
     "source_hidden": true
    },
    "tags": []
   },
   "outputs": [],
   "source": [
    "# class PaperPairModel(nn.Module):\n",
    "#     def __init__(self, embedding_dim=768, hidden_dim=2048, num_hidden_layers=2):\n",
    "        \n",
    "#         super(PaperPairModel, self).__init__()\n",
    "#         self.fc_layers = nn.ModuleList()\n",
    "#         self.fc_layers.append(nn.Linear(embedding_dim * 2, hidden_dim))\n",
    "#         for i in range(num_hidden_layers - 1):\n",
    "#             self.fc_layers.append(nn.Linear(hidden_dim, hidden_dim))\n",
    "#         self.relu = nn.ReLU()\n",
    "#         self.fc_out = nn.Linear(hidden_dim, 1)\n",
    "#         self.sigmoid = nn.Sigmoid()\n",
    "\n",
    "#     def forward(self, x1, x2):\n",
    "#         # print(x1.shape, x2. shape)\n",
    "#         x = torch.cat((x1, x2), dim=1)\n",
    "#         for layer in self.fc_layers:\n",
    "#             x = layer(x)\n",
    "#             x = self.relu(x)\n",
    "#         x = self.fc_out(x)\n",
    "#         x = self.sigmoid(x)\n",
    "#         return x.squeeze()\n"
   ]
  },
  {
   "cell_type": "code",
   "execution_count": null,
   "id": "1c45ad5d-292d-45b5-bb9a-72dc2c7e6fda",
   "metadata": {
    "jupyter": {
     "source_hidden": true
    },
    "tags": []
   },
   "outputs": [],
   "source": [
    "# class PaperPairModel(nn.Module):\n",
    "#     def __init__(self, embedding_dim=768, hidden_dim=256):\n",
    "        \n",
    "#         super(PaperPairModel, self).__init__()\n",
    "#         self.fc1 = nn.Linear(embedding_dim * 2, hidden_dim)\n",
    "#         self.relu = nn.ReLU()\n",
    "#         self.fc2 = nn.Linear(hidden_dim, 1)\n",
    "#         self.sigmoid = nn.Sigmoid()\n",
    "\n",
    "#     def forward(self, x1, x2):\n",
    "#         # print(x1.shape, x2. shape)\n",
    "#         x = torch.cat((x1, x2), dim=1)\n",
    "#         x = self.fc1(x)\n",
    "#         x = self.relu(x)\n",
    "#         x = self.fc2(x)\n",
    "#         x = self.sigmoid(x)\n",
    "#         return x.squeeze()"
   ]
  },
  {
   "cell_type": "code",
   "execution_count": 45,
   "id": "615e695e-1bc7-40eb-90c7-46eba6facfc1",
   "metadata": {},
   "outputs": [],
   "source": [
    "# # %debug\n",
    "# train_dataset = PaperPairDataset(train_paper_ids, knn_tree, embedding_map, reference_map, metadata, all_pids)\n",
    "# val_dataset = PaperPairDataset(val_paper_ids, knn_tree, embedding_map, reference_map, metadata, all_pids)\n",
    "# test_dataset = PaperPairDataset(test_paper_ids, knn_tree, embedding_map, reference_map, metadata, all_pids)"
   ]
  },
  {
   "cell_type": "code",
   "execution_count": 349,
   "id": "7e590a76-9f12-4956-8fb1-a3295c46abdd",
   "metadata": {},
   "outputs": [],
   "source": [
    "# 1/train_dataset.pos_neg_ratio, # pos_weight = 1/train_dataset.pos_neg_ratio"
   ]
  },
  {
   "cell_type": "code",
   "execution_count": 53,
   "id": "d923b9ee-dd60-4480-ab1f-230edfab60f9",
   "metadata": {},
   "outputs": [
    {
     "ename": "NameError",
     "evalue": "name 'study' is not defined",
     "output_type": "error",
     "traceback": [
      "\u001b[0;31m---------------------------------------------------------------------------\u001b[0m",
      "\u001b[0;31mNameError\u001b[0m                                 Traceback (most recent call last)",
      "Cell \u001b[0;32mIn [53], line 1\u001b[0m\n\u001b[0;32m----> 1\u001b[0m \u001b[43mstudy\u001b[49m\u001b[38;5;241m.\u001b[39mbest_params\n",
      "\u001b[0;31mNameError\u001b[0m: name 'study' is not defined"
     ]
    }
   ],
   "source": [
    "study.best_params"
   ]
  },
  {
   "cell_type": "code",
   "execution_count": 57,
   "id": "1548243d-5379-4fdb-8d2e-4dd1b1a6e10b",
   "metadata": {},
   "outputs": [],
   "source": [
    "hparams = {\n",
    "    'batch_size': 2048,\n",
    "    # 'hidden_dim': 768,\n",
    "    # 'num_hidden_layers': 3,\n",
    "    'hidden_dims': [1024, 2048],\n",
    "    'lr': 1e-2,\n",
    "    'min_lr': 1e-7,\n",
    "    'patience': 3,\n",
    "    'factor': 0.1,\n",
    "    'num_epochs': 250,\n",
    "    'weight_decay': 1e-3,\n",
    "    'dropout_prob': 0.5,\n",
    "    'stop_after': 5, # does NOT work, need to fix\n",
    "    'knn_k': 1000, # for getting nearest neighbours\n",
    "    'top_k': 20, # for evaluation\n",
    "    'use_bn': True,\n",
    "    'bn_momentum': 0.9\n",
    "}"
   ]
  },
  {
   "cell_type": "markdown",
   "id": "ab9bfdc5-b3a5-4eec-820d-a9de2b038530",
   "metadata": {},
   "source": [
    "During experimentation lr=1e-2 seems like the best place to start. 0.1 is too bad\n",
    "\n",
    "TanH seems to be better than RELU, LeakyRELU\n",
    "\n",
    "Weight Decay 1e-3 seems best. WD >=1 just kills training as weights appoach 0\n",
    "\n",
    "More than 4 layers seems bad. Need to verify\n",
    "\n",
    "Dropout seems to be required as it overfits quite a bit otherwise. 0.5 seems good\n",
    "\n"
   ]
  },
  {
   "cell_type": "code",
   "execution_count": 59,
   "id": "33d2bdfb-5fbb-4c60-a532-daf46603ee71",
   "metadata": {},
   "outputs": [],
   "source": [
    "class PaperPairModel(nn.Module):\n",
    "    def __init__(self, embedding_dim=768, hidden_dims=None, dropout_prob=0.3, weight_decay=0.01, use_bn=True, bn_momentum=0.9):\n",
    "        super(PaperPairModel, self).__init__()\n",
    "        input_dim = embedding_dim * 2 + 2\n",
    "        layers = [nn.Linear(input_dim, hidden_dims[0])]\n",
    "        if use_bn:\n",
    "            layers.append(nn.BatchNorm1d(hidden_dims[0], momentum=bn_momentum))\n",
    "        layers.extend([nn.Tanh(), nn.Dropout(dropout_prob)])\n",
    "\n",
    "        for i in range(1, len(hidden_dims)):\n",
    "            layers.append(nn.Linear(hidden_dims[i - 1], hidden_dims[i]))\n",
    "            if use_bn:\n",
    "                layers.append(nn.BatchNorm1d(hidden_dims[i], momentum=bn_momentum))\n",
    "            layers.extend([nn.Tanh(), nn.Dropout(dropout_prob)])\n",
    "\n",
    "        layers.extend([nn.Linear(hidden_dims[-1], 1)])#, nn.Sigmoid()])\n",
    "        self.fc_layers = nn.Sequential(*layers)\n",
    "\n",
    "    def forward(self, x1, x2, is_after):\n",
    "        cosine_sim = F.cosine_similarity(x1, x2, dim=1, eps=1e-8).unsqueeze(1)\n",
    "        x_diff = torch.abs(x1 - x2)\n",
    "        x_mul = x1 * x2\n",
    "        x = torch.cat((x_diff, x_mul, is_after.unsqueeze(1), cosine_sim), dim=1)\n",
    "        \n",
    "        x = self.fc_layers(x)\n",
    "        return x.squeeze()\n"
   ]
  },
  {
   "cell_type": "code",
   "execution_count": 61,
   "id": "94a296fd-fbf1-4600-894f-f15fa3160298",
   "metadata": {},
   "outputs": [],
   "source": [
    "# hparams = {\n",
    "#     'batch_size': 2048,\n",
    "#     'hidden_dims': [1024, 2048],\n",
    "#     'lr': 1e-2,\n",
    "#     'min_lr': 1e-7,\n",
    "#     'patience': 3,\n",
    "#     'factor': 0.1,\n",
    "#     'num_epochs': 250,\n",
    "#     'weight_decay': 1e-3,\n",
    "#     'dropout_prob': 0.5,\n",
    "#     'stop_after': 5, \n",
    "#     'knn_k': 1000, # for getting nearest neighbours\n",
    "#     'top_k': 20, # for evaluation\n",
    "#     'use_bn': True,\n",
    "#     'bn_momentum': 0.9,\n",
    "#     'num_epochs': 50\n",
    "# }"
   ]
  },
  {
   "cell_type": "code",
   "execution_count": 60,
   "id": "366fcad7-d7a9-40d9-97fd-9b04568f5f3f",
   "metadata": {},
   "outputs": [],
   "source": [
    "hparams = {\n",
    "    'batch_size': 2048,\n",
    "    'hidden_dims': [1024, 2048],\n",
    "    'lr': 1e-2,\n",
    "    'min_lr': 1e-7,\n",
    "    'patience': 3,\n",
    "    'factor': 0.1,\n",
    "    'weight_decay': 1e-3,\n",
    "    'dropout_prob': 0.5,\n",
    "    'stop_after': 5, \n",
    "    'knn_k': 1000, # for getting nearest neighbours\n",
    "    'top_k': 20, # for evaluation\n",
    "    'use_bn': True,\n",
    "    'bn_momentum': 0.9,\n",
    "    'num_epochs': 30\n",
    "}"
   ]
  },
  {
   "cell_type": "code",
   "execution_count": 61,
   "id": "7973a7ae-3419-4e49-acec-5b0fbe4f83e3",
   "metadata": {},
   "outputs": [
    {
     "name": "stdout",
     "output_type": "stream",
     "text": [
      "PaperPairModel(\n",
      "  (fc_layers): Sequential(\n",
      "    (0): Linear(in_features=1538, out_features=1024, bias=True)\n",
      "    (1): BatchNorm1d(1024, eps=1e-05, momentum=0.9, affine=True, track_running_stats=True)\n",
      "    (2): Tanh()\n",
      "    (3): Dropout(p=0.5, inplace=False)\n",
      "    (4): Linear(in_features=1024, out_features=2048, bias=True)\n",
      "    (5): BatchNorm1d(2048, eps=1e-05, momentum=0.9, affine=True, track_running_stats=True)\n",
      "    (6): Tanh()\n",
      "    (7): Dropout(p=0.5, inplace=False)\n",
      "    (8): Linear(in_features=2048, out_features=1, bias=True)\n",
      "  )\n",
      ")\n"
     ]
    }
   ],
   "source": [
    "train_dataloader = DataLoader(train_dataset, batch_size=hparams['batch_size'], shuffle=True)\n",
    "val_dataloader = DataLoader(val_dataset, batch_size=hparams['batch_size'], shuffle=True)\n",
    "\n",
    "# model = PaperPairModel(hidden_dim=hparams['hidden_dim'], num_hidden_layers = hparams['num_hidden_layers'], dropout_prob = hparams['dropout_prob'], use_bn=hparams['use_bn'], \n",
    "#                       bn_momentum=hparams['bn_momentum'])\n",
    "model = PaperPairModel(hidden_dims=hparams['hidden_dims'], dropout_prob = hparams['dropout_prob'], use_bn=hparams['use_bn'], \n",
    "                      bn_momentum=hparams['bn_momentum'])\n",
    "\n",
    "\n",
    "print(model)\n",
    "model.to(DEVICE)\n",
    "# criterion = nn.BCELoss()\n",
    "criterion = nn.BCEWithLogitsLoss()\n",
    "optimizer = optim.AdamW(model.parameters(), lr=hparams['lr'], weight_decay = hparams['weight_decay'])\n",
    "\n",
    "# Initialize the learning rate scheduler with early stopping\n",
    "lr_scheduler = torch.optim.lr_scheduler.ReduceLROnPlateau(optimizer, mode='min', factor=hparams['factor'], \n",
    "                                                          patience=hparams['patience'], verbose=True, min_lr=hparams['min_lr'])\n",
    "\n",
    "\n",
    "train_losses = []\n",
    "val_losses = []"
   ]
  },
  {
   "cell_type": "code",
   "execution_count": 92,
   "id": "ac72cf07-d26b-44d5-bad6-dcd09d060734",
   "metadata": {
    "jupyter": {
     "source_hidden": true
    },
    "tags": []
   },
   "outputs": [],
   "source": [
    "# aiayn_refs = metadata[test_paper_id]['references']\n",
    "# aiayn_knn_1k = find_knn_pid(test_paper_id, knn_tree, embedding_map, metadata, all_pids, knn_k=1000)\n",
    "# len(aiayn_refs), len(set(aiayn_refs) & set(find_knn_pid(test_paper_id, knn_tree, embedding_map, metadata, all_pids, knn_k=1000)))"
   ]
  },
  {
   "cell_type": "code",
   "execution_count": 93,
   "id": "5adb2896-3812-47e5-aa9e-cda8d0f13f88",
   "metadata": {
    "jupyter": {
     "source_hidden": true
    },
    "tags": []
   },
   "outputs": [],
   "source": [
    "# 27/37, 20/27"
   ]
  },
  {
   "cell_type": "code",
   "execution_count": 66,
   "id": "cc97140d-2f51-4f10-9f29-8abdbb4bed3b",
   "metadata": {},
   "outputs": [
    {
     "name": "stdout",
     "output_type": "stream",
     "text": [
      "Epoch 1: train_loss=0.46638, val_loss=0.44342, [AIAYN: p@20=0.25, r@20=0.14, f1@20=0.18]\n",
      "Epoch 2: train_loss=0.43847, val_loss=0.45338, [AIAYN: p@20=0.35, r@20=0.19, f1@20=0.25]\n",
      "Epoch 3: train_loss=0.40691, val_loss=0.39973, [AIAYN: p@20=0.25, r@20=0.14, f1@20=0.18]\n",
      "Epoch 4: train_loss=0.37585, val_loss=0.37308, [AIAYN: p@20=0.25, r@20=0.14, f1@20=0.18]\n",
      "Epoch 5: train_loss=0.35029, val_loss=0.35513, [AIAYN: p@20=0.15, r@20=0.08, f1@20=0.11]\n",
      "Epoch 6: train_loss=0.32180, val_loss=0.34604, [AIAYN: p@20=0.20, r@20=0.11, f1@20=0.14]\n",
      "Epoch 7: train_loss=0.29901, val_loss=0.32466, [AIAYN: p@20=0.25, r@20=0.14, f1@20=0.18]\n",
      "Epoch 8: train_loss=0.27720, val_loss=0.33373, [AIAYN: p@20=0.30, r@20=0.16, f1@20=0.21]\n",
      "Epoch 9: train_loss=0.26214, val_loss=0.31924, [AIAYN: p@20=0.30, r@20=0.16, f1@20=0.21]\n",
      "Epoch 10: train_loss=0.24535, val_loss=0.31089, [AIAYN: p@20=0.30, r@20=0.16, f1@20=0.21]\n",
      "Epoch 11: train_loss=0.23307, val_loss=0.31684, [AIAYN: p@20=0.30, r@20=0.16, f1@20=0.21]\n",
      "Epoch 12: train_loss=0.21974, val_loss=0.31032, [AIAYN: p@20=0.25, r@20=0.14, f1@20=0.18]\n",
      "Epoch 13: train_loss=0.20633, val_loss=0.32107, [AIAYN: p@20=0.35, r@20=0.19, f1@20=0.25]\n",
      "Epoch 14: train_loss=0.19765, val_loss=0.31635, [AIAYN: p@20=0.25, r@20=0.14, f1@20=0.18]\n",
      "Epoch 15: train_loss=0.18888, val_loss=0.30687, [AIAYN: p@20=0.30, r@20=0.16, f1@20=0.21]\n",
      "Epoch 16: train_loss=0.17808, val_loss=0.31847, [AIAYN: p@20=0.35, r@20=0.19, f1@20=0.25]\n",
      "Epoch 17: train_loss=0.16993, val_loss=0.30187, [AIAYN: p@20=0.30, r@20=0.16, f1@20=0.21]\n",
      "Epoch 18: train_loss=0.16576, val_loss=0.34367, [AIAYN: p@20=0.25, r@20=0.14, f1@20=0.18]\n",
      "Epoch 19: train_loss=0.15995, val_loss=0.31922, [AIAYN: p@20=0.25, r@20=0.14, f1@20=0.18]\n",
      "Epoch 20: train_loss=0.15078, val_loss=0.31989, [AIAYN: p@20=0.30, r@20=0.16, f1@20=0.21]\n",
      "Epoch 21: train_loss=0.14649, val_loss=0.31539, [AIAYN: p@20=0.20, r@20=0.11, f1@20=0.14]\n",
      "Epoch 00022: reducing learning rate of group 0 to 1.0000e-03.\n",
      "Epoch 22: train_loss=0.11704, val_loss=0.32027, [AIAYN: p@20=0.25, r@20=0.14, f1@20=0.18]\n",
      "Epoch 23: train_loss=0.10399, val_loss=0.31909, [AIAYN: p@20=0.25, r@20=0.14, f1@20=0.18]\n",
      "Epoch 24: train_loss=0.09759, val_loss=0.32653, [AIAYN: p@20=0.30, r@20=0.16, f1@20=0.21]\n",
      "Epoch 25: train_loss=0.09557, val_loss=0.32709, [AIAYN: p@20=0.25, r@20=0.14, f1@20=0.18]\n",
      "Epoch 00026: reducing learning rate of group 0 to 1.0000e-04.\n",
      "Epoch 26: train_loss=0.09017, val_loss=0.32601, [AIAYN: p@20=0.20, r@20=0.11, f1@20=0.14]\n",
      "Epoch 27: train_loss=0.08861, val_loss=0.32646, [AIAYN: p@20=0.30, r@20=0.16, f1@20=0.21]\n",
      "Epoch 28: train_loss=0.08886, val_loss=0.32571, [AIAYN: p@20=0.25, r@20=0.14, f1@20=0.18]\n",
      "Epoch 29: train_loss=0.08686, val_loss=0.32576, [AIAYN: p@20=0.30, r@20=0.16, f1@20=0.21]\n",
      "Epoch 00030: reducing learning rate of group 0 to 1.0000e-05.\n",
      "Epoch 30: train_loss=0.08744, val_loss=0.32503, [AIAYN: p@20=0.25, r@20=0.14, f1@20=0.18]\n",
      "PaperPairModel(\n",
      "  (fc_layers): Sequential(\n",
      "    (0): Linear(in_features=1538, out_features=1024, bias=True)\n",
      "    (1): BatchNorm1d(1024, eps=1e-05, momentum=0.9, affine=True, track_running_stats=True)\n",
      "    (2): Tanh()\n",
      "    (3): Dropout(p=0.5, inplace=False)\n",
      "    (4): Linear(in_features=1024, out_features=2048, bias=True)\n",
      "    (5): BatchNorm1d(2048, eps=1e-05, momentum=0.9, affine=True, track_running_stats=True)\n",
      "    (6): Tanh()\n",
      "    (7): Dropout(p=0.5, inplace=False)\n",
      "    (8): Linear(in_features=2048, out_features=1, bias=True)\n",
      "  )\n",
      ")\n"
     ]
    },
    {
     "data": {
      "application/vnd.jupyter.widget-view+json": {
       "model_id": "4c69e7174fe84581a0b6b41c457c0853",
       "version_major": 2,
       "version_minor": 0
      },
      "text/plain": [
       "  0%|          | 0/932 [00:00<?, ?it/s]"
      ]
     },
     "metadata": {},
     "output_type": "display_data"
    },
    {
     "name": "stdout",
     "output_type": "stream",
     "text": [
      "Precision @ 20: 0.19291845493562226\n",
      "Recall @ 20: 0.16685032338031597\n"
     ]
    }
   ],
   "source": [
    "# Train the model\n",
    "DEBUG = False\n",
    "num_epochs = hparams['num_epochs']\n",
    "best_val_loss = float('inf')\n",
    "test_paper_id = '204e3073870fae3d05bcbc2f6a8e263d9b72e776'\n",
    "\n",
    "for epoch in range(num_epochs):\n",
    "    model.train()\n",
    "    running_loss = 0.0\n",
    "    running_val_loss = 0.0\n",
    "\n",
    "    for data in train_dataloader:\n",
    "        embeddings1, embeddings2, labels, is_after = data\n",
    "        # embeddings1, embeddings2, labels = data\n",
    "        embeddings1 = embeddings1.to(DEVICE)\n",
    "        embeddings2 = embeddings2.to(DEVICE)\n",
    "        labels = labels.to(DEVICE)\n",
    "        optimizer.zero_grad()\n",
    "        is_after = is_after.to(DEVICE)\n",
    "        \n",
    "        outputs = model(embeddings1, embeddings2, is_after)\n",
    "        # outputs = model(embeddings1, embeddings2)\n",
    "        train_loss = criterion(outputs, labels)\n",
    "        # train_loss = model.loss(outputs, labels)\n",
    "        train_loss.backward()\n",
    "        optimizer.step()\n",
    "\n",
    "        running_loss += train_loss.item()\n",
    "        \n",
    "        \n",
    "    train_loss = running_loss / len(train_dataloader)\n",
    "    train_losses.append(train_loss)\n",
    "\n",
    "    # Get val_loss from val set\n",
    "    model.eval()\n",
    "    with torch.no_grad():\n",
    "        for data in val_dataloader:\n",
    "            embeddings1, embeddings2, labels, is_after = data\n",
    "            # embeddings1, embeddings2, labels = data\n",
    "            \n",
    "            embeddings1 = embeddings1.to(DEVICE)\n",
    "            embeddings2 = embeddings2.to(DEVICE)\n",
    "            labels = labels.to(DEVICE)\n",
    "            is_after = is_after.to(DEVICE)\n",
    "            \n",
    "            outputs = model(embeddings1, embeddings2, is_after)\n",
    "            # outputs = model(embeddings1, embeddings2)\n",
    "            val_loss = criterion(outputs, labels)\n",
    "            # val_loss = model.loss(outputs, labels)\n",
    "            running_val_loss += val_loss.item()\n",
    "            \n",
    "    val_loss = running_val_loss / len(val_dataloader)\n",
    "    val_losses.append(val_loss)\n",
    "    \n",
    "    # Evaluate model on AIAYN paper for monitoring\n",
    "    model_rec_ids = get_recommendations(model, test_paper_id, knn_tree, embedding_map, metadata, all_pids, top_k = hparams['top_k'], knn_k=hparams['knn_k'])\n",
    "    precision, recall, f1_score = evaluate(model_rec_ids, actual_references, top_k=hparams['top_k'])\n",
    "    model.train()\n",
    "    \n",
    "    if num_epochs > 100:\n",
    "        if (epoch + 1 ) % 10 == 0:\n",
    "            print(f'Epoch {epoch + 1}: train_loss={train_loss:.5f}, val_loss={val_loss:.5f}, [AIAYN: p@{hparams[\"top_k\"]}={precision:.2f}, r@{hparams[\"top_k\"]}={recall:.2f}, f1@{hparams[\"top_k\"]}={f1_score:.2f}]')\n",
    "    else:\n",
    "        # print(f'Epoch {epoch + 1}: train_loss={train_loss}, val_loss={val_loss}')\n",
    "        print(f'Epoch {epoch + 1}: train_loss={train_loss:.5f}, val_loss={val_loss:.5f}, [AIAYN: p@{hparams[\"top_k\"]}={precision:.2f}, r@{hparams[\"top_k\"]}={recall:.2f}, f1@{hparams[\"top_k\"]}={f1_score:.2f}]')\n",
    "        \n",
    "        \n",
    "\n",
    "    # Update the learning rate scheduler and check for early stopping\n",
    "    lr_scheduler.step(val_loss)\n",
    "    if val_loss < best_val_loss:\n",
    "        best_val_loss = val_loss\n",
    "        # Save the best model checkpoint\n",
    "        torch.save(model.state_dict(), \"best_model.pth\")\n",
    "    else:\n",
    "        # Stop the training if the validation loss does not improve for 5 consecutive epochs\n",
    "        if lr_scheduler.num_bad_epochs == hparams['stop_after']:\n",
    "            print(\"Early stopping\")\n",
    "            # torch.save(model.state_dict(), \"best_model.pth\")\n",
    "            break\n",
    "\n",
    "            \n",
    "precision, recall = evaluate_model(model, test_paper_ids, knn_tree, embedding_map, reference_map, metadata, all_pids, \n",
    "                                   top_k=hparams['top_k'], knn_k = hparams['knn_k'])\n",
    "print(f\"Precision @ 20: {precision}\")\n",
    "print(f\"Recall @ 20: {recall}\")"
   ]
  },
  {
   "cell_type": "code",
   "execution_count": 67,
   "id": "bac4d7c8-b88f-49b1-8975-5f77d553899b",
   "metadata": {},
   "outputs": [
    {
     "name": "stdout",
     "output_type": "stream",
     "text": [
      "PaperPairModel(\n",
      "  (fc_layers): Sequential(\n",
      "    (0): Linear(in_features=1538, out_features=1024, bias=True)\n",
      "    (1): BatchNorm1d(1024, eps=1e-05, momentum=0.9, affine=True, track_running_stats=True)\n",
      "    (2): Tanh()\n",
      "    (3): Dropout(p=0.5, inplace=False)\n",
      "    (4): Linear(in_features=1024, out_features=2048, bias=True)\n",
      "    (5): BatchNorm1d(2048, eps=1e-05, momentum=0.9, affine=True, track_running_stats=True)\n",
      "    (6): Tanh()\n",
      "    (7): Dropout(p=0.5, inplace=False)\n",
      "    (8): Linear(in_features=2048, out_features=1, bias=True)\n",
      "  )\n",
      ")\n"
     ]
    },
    {
     "data": {
      "application/vnd.jupyter.widget-view+json": {
       "model_id": "726d959c3f764e19b137177d5cd880fb",
       "version_major": 2,
       "version_minor": 0
      },
      "text/plain": [
       "  0%|          | 0/932 [00:00<?, ?it/s]"
      ]
     },
     "metadata": {},
     "output_type": "display_data"
    },
    {
     "name": "stdout",
     "output_type": "stream",
     "text": [
      "Precision @ 20: 0.1987660944206009\n",
      "Recall @ 20: 0.1733432109452088\n"
     ]
    }
   ],
   "source": [
    "precision, recall = evaluate_model(model, val_paper_ids, knn_tree, embedding_map, reference_map, metadata, all_pids, \n",
    "                                   top_k=hparams['top_k'], knn_k = hparams['knn_k'])\n",
    "print(f\"Precision @ 20: {precision}\")\n",
    "print(f\"Recall @ 20: {recall}\")"
   ]
  },
  {
   "cell_type": "code",
   "execution_count": 68,
   "id": "00aedf9a-dd61-4949-9f71-424e0f8211e6",
   "metadata": {},
   "outputs": [
    {
     "name": "stdout",
     "output_type": "stream",
     "text": [
      "PaperPairModel(\n",
      "  (fc_layers): Sequential(\n",
      "    (0): Linear(in_features=1538, out_features=1024, bias=True)\n",
      "    (1): BatchNorm1d(1024, eps=1e-05, momentum=0.9, affine=True, track_running_stats=True)\n",
      "    (2): Tanh()\n",
      "    (3): Dropout(p=0.5, inplace=False)\n",
      "    (4): Linear(in_features=1024, out_features=2048, bias=True)\n",
      "    (5): BatchNorm1d(2048, eps=1e-05, momentum=0.9, affine=True, track_running_stats=True)\n",
      "    (6): Tanh()\n",
      "    (7): Dropout(p=0.5, inplace=False)\n",
      "    (8): Linear(in_features=2048, out_features=1, bias=True)\n",
      "  )\n",
      ")\n"
     ]
    },
    {
     "data": {
      "application/vnd.jupyter.widget-view+json": {
       "model_id": "3371b4e6e85e4da7beaea5c00eace4af",
       "version_major": 2,
       "version_minor": 0
      },
      "text/plain": [
       "  0%|          | 0/7455 [00:00<?, ?it/s]"
      ]
     },
     "metadata": {},
     "output_type": "display_data"
    },
    {
     "name": "stdout",
     "output_type": "stream",
     "text": [
      "Precision @ 20: 0.19467471495640334\n",
      "Recall @ 20: 0.16438802142270634\n"
     ]
    }
   ],
   "source": [
    "precision, recall = evaluate_model(model, train_paper_ids, knn_tree, embedding_map, reference_map, metadata, all_pids, \n",
    "                                   top_k=hparams['top_k'], knn_k = hparams['knn_k'])\n",
    "print(f\"Precision @ 20: {precision}\")\n",
    "print(f\"Recall @ 20: {recall}\")"
   ]
  },
  {
   "cell_type": "code",
   "execution_count": 47,
   "id": "f44afb0e-9e88-4e33-81bd-dfbce7d1abfd",
   "metadata": {},
   "outputs": [
    {
     "data": {
      "text/plain": [
       "0.31775221687096816"
      ]
     },
     "execution_count": 47,
     "metadata": {},
     "output_type": "execute_result"
    }
   ],
   "source": [
    "best_val_loss"
   ]
  },
  {
   "cell_type": "code",
   "execution_count": null,
   "id": "590546e4-9564-4f3d-9712-38fcbd3ac2e7",
   "metadata": {},
   "outputs": [],
   "source": [
    "# Without BN: Epoch 50: train_loss=0.42974, val_loss=0.52383, [AIAYN: p@20=0.35, r@20=0.19, f1@20=0.25]\n",
    "# With BN Epoch 9: train_loss=0.42943, val_loss=0.51953, [AIAYN: p@20=0.45, r@20=0.24, f1@20=0.32]\n",
    "# Epoch 22: train_loss=0.38933, val_loss=0.51304, [AIAYN: p@20=0.45, r@20=0.24, f1@20=0.32]\n",
    "\n",
    "# Conclusion: BN needed"
   ]
  },
  {
   "cell_type": "code",
   "execution_count": 76,
   "id": "aed0772e-8f47-41de-9bd2-f58d13e067f3",
   "metadata": {},
   "outputs": [
    {
     "data": {
      "image/png": "[encoded data removed]",
      "text/plain": [
       "<Figure size 640x480 with 1 Axes>"
      ]
     },
     "metadata": {},
     "output_type": "display_data"
    }
   ],
   "source": [
    "plt.figure()\n",
    "plt.plot(train_losses, label='Training loss')\n",
    "plt.plot(val_losses, label='Validation loss')\n",
    "plt.xlabel('Epochs')\n",
    "plt.ylabel('Loss')\n",
    "plt.legend()\n",
    "plt.show()"
   ]
  },
  {
   "cell_type": "code",
   "execution_count": null,
   "id": "1463e407-c3c2-4e70-9b78-96825112c368",
   "metadata": {
    "jupyter": {
     "source_hidden": true
    },
    "tags": []
   },
   "outputs": [],
   "source": [
    "2 hidden layers ~600 epochs\n",
    "Epoch 500: train_loss=0.2624791022830122, val_loss=0.30308062583208084\n",
    "\n",
    "3 hidden layers 100 epochs\n",
    "Epoch 100: train_loss=0.30075453409529107, val_loss=0.32325271610170603\n",
    "\n",
    "--------------------------------------------------------------------------------\n",
    "\n",
    "BETTER TRAINING DATA (including previous years as 0)\n",
    "2 hidden layers \n",
    "Epoch 100: train_loss=0.1777532718477458, val_loss=0.1910507024990188\n",
    "Epoch 270: train_loss=0.16910822787424074, val_loss=0.18511556006140178"
   ]
  },
  {
   "cell_type": "code",
   "execution_count": null,
   "id": "3262a4b2-5162-4525-936d-a16ab13f594d",
   "metadata": {},
   "outputs": [],
   "source": []
  },
  {
   "cell_type": "code",
   "execution_count": null,
   "id": "1f94401e-5e65-460b-906a-6dcb4f96205b",
   "metadata": {},
   "outputs": [],
   "source": []
  },
  {
   "cell_type": "markdown",
   "id": "1860d95f-8be7-4016-914f-e72f5724cc51",
   "metadata": {},
   "source": [
    "## Hyperparameter Search"
   ]
  },
  {
   "cell_type": "code",
   "execution_count": 263,
   "id": "862bdcc2-07fd-4c1d-9947-073b06643393",
   "metadata": {
    "jupyter": {
     "source_hidden": true
    },
    "tags": []
   },
   "outputs": [],
   "source": [
    "# from optuna.pruners import MedianPruner\n",
    "\n",
    "# def objective(trial):\n",
    "#     hidden_dim = trial.suggest_int(\"hidden_dim\", 512, 4096, step=512)\n",
    "#     num_hidden_layers = trial.suggest_int(\"num_hidden_layers\", 1, 5, step=1)\n",
    "#     # lr = trial.suggest_categorical(\"lr\", [1e-4, 1e-3])  \n",
    "#     lr = 1e-4\n",
    "#     weight_decay = trial.suggest_categorical(\"weight_decay\", [1e-4, 1e-3, 1e-2, 1e-1, 1])\n",
    "#     dropout_prob = trial.suggest_categorical(\"dropout_prob\", [0.1, 0.2, 0.3, 0.4, 0.5])\n",
    "#     num_epochs = 20\n",
    "#     model = PaperPairModel(hidden_dim=hidden_dim, num_hidden_layers=num_hidden_layers, dropout_prob=dropout_prob)\n",
    "#     model.to(DEVICE)\n",
    "#     criterion = nn.BCELoss()\n",
    "#     optimizer = optim.Adam(model.parameters(), lr=lr, weight_decay=weight_decay)\n",
    "#     lr_scheduler = torch.optim.lr_scheduler.ReduceLROnPlateau(optimizer, mode='min', factor=hparams['factor'],\n",
    "#                                                               patience=hparams['patience'], verbose=True)\n",
    "#     best_val_loss = float('inf')\n",
    "#     for epoch in range(num_epochs):\n",
    "#         model.train()\n",
    "#         running_loss = 0.0\n",
    "#         running_val_loss = 0.0\n",
    "\n",
    "\n",
    "#         for i, data in enumerate(train_dataloader):\n",
    "#             embeddings1, embeddings2, labels, is_after = data\n",
    "#             embeddings1 = embeddings1.to(DEVICE)\n",
    "#             embeddings2 = embeddings2.to(DEVICE)\n",
    "#             labels = labels.to(DEVICE)\n",
    "#             optimizer.zero_grad()\n",
    "#             is_after = is_after.to(DEVICE)\n",
    "\n",
    "\n",
    "#             outputs = model(embeddings1, embeddings2, is_after)\n",
    "#             loss = criterion(outputs, labels)\n",
    "#             # loss = model.loss(outputs, labels)\n",
    "#             loss.backward()\n",
    "#             optimizer.step()\n",
    "\n",
    "#             running_loss += loss.item()\n",
    "\n",
    "#         train_loss = running_loss / len(train_dataloader)\n",
    "\n",
    "#         model.eval()\n",
    "#         with torch.no_grad():\n",
    "#             for i, data in enumerate(val_dataloader):\n",
    "#                 embeddings1, embeddings2, labels, is_after = data\n",
    "#                 embeddings1 = embeddings1.to(DEVICE)\n",
    "#                 embeddings2 = embeddings2.to(DEVICE)\n",
    "#                 labels = labels.to(DEVICE)\n",
    "#                 is_after = is_after.to(DEVICE)\n",
    "\n",
    "#                 outputs = model(embeddings1, embeddings2, is_after)\n",
    "#                 val_loss = criterion(outputs, labels)\n",
    "#                 # val_loss = model.loss(outputs, labels)\n",
    "\n",
    "#                 running_val_loss += val_loss.item()\n",
    "\n",
    "\n",
    "#         val_loss = running_val_loss / len(val_dataloader)\n",
    "#          # Report intermediate result for pruning\n",
    "#         trial.report(val_loss, epoch)\n",
    "#         if trial.should_prune():\n",
    "#             raise optuna.TrialPruned()\n",
    "\n",
    "\n",
    "#         model.train()\n",
    "\n",
    "\n",
    "#         # Update the learning rate scheduler and check for early stopping\n",
    "#         lr_scheduler.step(val_loss)\n",
    "#         if val_loss < best_val_loss:\n",
    "#             best_val_loss = val_loss\n",
    "#             # Save the best model checkpoint\n",
    "#             torch.save(model.state_dict(), \"best_model.pth\")\n",
    "#         else:\n",
    "#             # Stop the training if the validation loss does not improve for 5 consecutive epochs\n",
    "#             if lr_scheduler.num_bad_epochs == hparams['stop_after']:\n",
    "#                 print(\"Early stopping\")\n",
    "#                 torch.save(model.state_dict(), \"best_model.pth\")\n",
    "#                 break\n",
    "\n",
    "#     return best_val_loss\n",
    "\n",
    "\n",
    "\n",
    "# study = optuna.create_study(direction=\"minimize\", pruner=MedianPruner())\n",
    "# study.optimize(objective, n_trials=50)\n",
    "\n",
    "\n",
    "# print(\"Best trial:\")\n",
    "# trial = study.best_trial\n",
    "# print(f\"  Value: {trial.value}\")\n",
    "# print(\"  Params: \")\n",
    "# for key, value in trial.params.items():\n",
    "#     print(f\"    {key}: {value}\")\n"
   ]
  },
  {
   "cell_type": "code",
   "execution_count": 50,
   "id": "09e1f278-eb40-4bc2-8f3f-0027e3c50ffc",
   "metadata": {},
   "outputs": [],
   "source": [
    "import optuna\n",
    "from optuna.pruners import MedianPruner\n",
    "import itertools"
   ]
  },
  {
   "cell_type": "code",
   "execution_count": 51,
   "id": "507618a3-bec6-49bf-9145-73580bebd4a3",
   "metadata": {},
   "outputs": [],
   "source": [
    "hparams = {\n",
    "    'batch_size': 4096,\n",
    "    # 'hidden_dim': 768,\n",
    "    # 'num_hidden_layers': 3,\n",
    "    'hidden_dims': [1024, 2048],\n",
    "    'lr': 1e-2,\n",
    "    'min_lr': 1e-7,\n",
    "    'patience': 3,\n",
    "    'factor': 0.1,\n",
    "    'num_epochs': 250,\n",
    "    'weight_decay': 1e-3,\n",
    "    'dropout_prob': 0.5,\n",
    "    'stop_after': 5, # does NOT work, need to fix\n",
    "    'knn_k': 1000, # for getting nearest neighbours\n",
    "    'top_k': 20, # for evaluation\n",
    "    'use_bn': True,\n",
    "    'bn_momentum': 0.9\n",
    "}"
   ]
  },
  {
   "cell_type": "code",
   "execution_count": 68,
   "id": "a847c0ee-9e0c-4137-85d4-526c5a089a40",
   "metadata": {},
   "outputs": [],
   "source": [
    "def objective(trial):\n",
    "    # Suggest values of the hyperparameters using a trial object\n",
    "\n",
    "    weight_decay = trial.suggest_categorical(\"weight_decay\", [1e-4, 1e-3, 1e-2])\n",
    "    dropout_prob = trial.suggest_categorical(\"dropout_prob\", [0.1, 0.3, 0.5, 0.7, 0.9])\n",
    "    bn_momentum = trial.suggest_categorical(\"bn_momentum\", [0.1, 0.3, 0.5, 0.7, 0.9])\n",
    "    \n",
    "\n",
    "    hidden_dims_options = [256, 512, 768, 1024, 1536]\n",
    "    hidden_dims = []\n",
    "    hidden_dims_length = trial.suggest_int(\"hidden_dims_length\", 1, 3)\n",
    "    for i in range(hidden_dims_length):\n",
    "        hidden_dim = trial.suggest_categorical(f\"hidden_dim_{i+1}\", hidden_dims_options)\n",
    "        hidden_dims.append(hidden_dim)\n",
    "\n",
    "\n",
    "\n",
    "    hparams = {\n",
    "        'batch_size': 4096,\n",
    "        'dropout_prob': dropout_prob,\n",
    "        'weight_decay': weight_decay,\n",
    "        'hidden_dims': hidden_dims,\n",
    "        'bn_momentum': bn_momentum,\n",
    "        'use_bn': True,\n",
    "        'lr': 1e-2,\n",
    "        'min_lr': 1e-7,\n",
    "        'patience': 3,\n",
    "        'factor': 0.1,\n",
    "        'stop_after': 5, # does NOT work, need to fix\n",
    "        'knn_k': 1000, # for getting nearest neighbours\n",
    "        'top_k': 20, # for evaluation\n",
    "        'use_bn': True,\n",
    "        'num_epochs': 30\n",
    "        \n",
    "    }\n",
    "\n",
    "    # Modify your train_and_evaluate_model function to accept the hparams dictionary\n",
    "    val_loss = train_and_evaluate_model(hparams, trial)\n",
    "\n",
    "    return val_loss\n"
   ]
  },
  {
   "cell_type": "code",
   "execution_count": 75,
   "id": "57aa6a2a-ce25-4437-b123-8d9f5f4b011c",
   "metadata": {},
   "outputs": [],
   "source": [
    "def train_and_evaluate_model(hparams, trial):\n",
    "    # Create model with given hyperparameters\n",
    "    model = PaperPairModel(hidden_dims=hparams['hidden_dims'], dropout_prob=hparams['dropout_prob'], use_bn=hparams['use_bn'], \n",
    "                          bn_momentum=hparams['bn_momentum'])\n",
    "    model.to(DEVICE)\n",
    "    # print(model)\n",
    "    criterion = nn.BCEWithLogitsLoss()\n",
    "    optimizer = optim.AdamW(model.parameters(), lr=hparams['lr'], weight_decay=hparams['weight_decay'])\n",
    "\n",
    "    lr_scheduler = torch.optim.lr_scheduler.ReduceLROnPlateau(optimizer, mode='min', factor=hparams['factor'], \n",
    "                                                              patience=hparams['patience'], verbose=True, min_lr=hparams['min_lr'])\n",
    "\n",
    "    best_val_loss = float('inf')\n",
    "    num_epochs = hparams['num_epochs']\n",
    "    pbar = tqdm(total=num_epochs, desc='Training', unit='epoch')\n",
    "\n",
    "    for epoch in range(num_epochs):\n",
    "        model.train()\n",
    "        running_loss = 0.0\n",
    "        running_val_loss = 0.0\n",
    "        \n",
    "        for data in train_dataloader:\n",
    "            embeddings1, embeddings2, labels, is_after = data\n",
    "            # embeddings1, embeddings2, labels = data\n",
    "            embeddings1 = embeddings1.to(DEVICE)\n",
    "            embeddings2 = embeddings2.to(DEVICE)\n",
    "            labels = labels.to(DEVICE)\n",
    "            optimizer.zero_grad()\n",
    "            is_after = is_after.to(DEVICE)\n",
    "\n",
    "            outputs = model(embeddings1, embeddings2, is_after)\n",
    "            # outputs = model(embeddings1, embeddings2)\n",
    "            train_loss = criterion(outputs, labels)\n",
    "            # train_loss = model.loss(outputs, labels)\n",
    "            train_loss.backward()\n",
    "            optimizer.step()\n",
    "\n",
    "            running_loss += train_loss.item()\n",
    "\n",
    "        train_loss = running_loss / len(train_dataloader)\n",
    "        train_losses.append(train_loss)\n",
    "\n",
    "        # Get val_loss from val set\n",
    "        model.eval()\n",
    "        with torch.no_grad():\n",
    "            for data in val_dataloader:\n",
    "                embeddings1, embeddings2, labels, is_after = data\n",
    "                # embeddings1, embeddings2, labels = data\n",
    "\n",
    "                embeddings1 = embeddings1.to(DEVICE)\n",
    "                embeddings2 = embeddings2.to(DEVICE)\n",
    "                labels = labels.to(DEVICE)\n",
    "                is_after = is_after.to(DEVICE)\n",
    "\n",
    "                outputs = model(embeddings1, embeddings2, is_after)\n",
    "                # outputs = model(embeddings1, embeddings2)\n",
    "                val_loss = criterion(outputs, labels)\n",
    "                # val_loss = model.loss(outputs, labels)\n",
    "                running_val_loss += val_loss.item()\n",
    "\n",
    "        val_loss = running_val_loss / len(val_dataloader)\n",
    "        val_losses.append(val_loss)\n",
    "        lr_scheduler.step(val_loss)\n",
    "        \n",
    "        # print(f'Epoch {epoch + 1}: train_loss={train_loss:.5f}, val_loss={val_loss:.5f}')\n",
    "        pbar.update(1)\n",
    "        # pbar.set_description(f'Training [Epoch {epoch+1}/{num_epochs}]')\n",
    "        pbar.set_description(f'Trial {trial.number}')\n",
    "        pbar.set_postfix(train_loss=train_loss, val_loss=val_loss)\n",
    "\n",
    "\n",
    "\n",
    "        # Report intermediate value (validation loss) to the trial\n",
    "        trial.report(val_loss, epoch)\n",
    "\n",
    "        # Check if the trial should be pruned\n",
    "        if trial.should_prune():\n",
    "            raise optuna.TrialPruned()\n",
    "\n",
    "    pbar.close()\n",
    "    return val_loss\n"
   ]
  },
  {
   "cell_type": "code",
   "execution_count": 74,
   "id": "331a3201-c257-418d-861c-2a12a0e4291b",
   "metadata": {},
   "outputs": [],
   "source": [
    "# def print_trial_result(study, trial):\n",
    "#     print(f\"Trial {trial.number}: {trial.value:.5f}, best so far: {study.best_value:.5f}\")\n"
   ]
  },
  {
   "cell_type": "code",
   "execution_count": 60,
   "id": "f5895a86-e39d-42f5-8217-0277fdb7bfbe",
   "metadata": {},
   "outputs": [],
   "source": [
    "def save_best_trial_params(study, trial):\n",
    "    if study.best_trial.number == trial.number:\n",
    "        best_hparams = {\n",
    "            'dropout_prob': trial.params['dropout_prob'],\n",
    "            'weight_decay': trial.params['weight_decay'],\n",
    "            'bn_momentum': trial.params['bn_momentum'],\n",
    "            'hidden_dims_length': trial.params['hidden_dims_length'],\n",
    "            'hidden_dims': [trial.params[f\"hidden_dim_{i+1}\"] for i in range(trial.params['hidden_dims_length'])],\n",
    "            'val_loss': trial.value\n",
    "        }\n",
    "\n",
    "        with open('best_hparams.json', 'w') as f:\n",
    "            json.dump(best_hparams, f, indent=4)\n",
    "\n",
    "        print(f\"Saved best hparams from trial {trial.number}: {best_hparams}\")"
   ]
  },
  {
   "cell_type": "code",
   "execution_count": 63,
   "id": "b3247224-e6c3-47d2-8ded-e6450a32b0fb",
   "metadata": {},
   "outputs": [
    {
     "name": "stderr",
     "output_type": "stream",
     "text": [
      "Trial 19:  30%|███       | 6/20 [04:12<09:48, 42.02s/epoch, train_loss=0.453, val_loss=0.432]"
     ]
    },
    {
     "name": "stdout",
     "output_type": "stream",
     "text": [
      "# Pruned trials:  14\n",
      "# Complete trials:  6\n",
      "Best Score:  0.29735722712108065\n",
      "Best Params: \n",
      "  hidden_dims_length: 3\n",
      "  hidden_dim_1: 1536\n",
      "  hidden_dim_2: 1024\n",
      "  hidden_dim_3: 1024\n"
     ]
    },
    {
     "name": "stderr",
     "output_type": "stream",
     "text": [
      "\n"
     ]
    }
   ],
   "source": [
    "pruned_trials = study.get_trials(states=[optuna.trial.TrialState.PRUNED])\n",
    "complete_trials = study.get_trials(states=[optuna.trial.TrialState.COMPLETE])\n",
    "print(\"# Pruned trials: \", len(pruned_trials))\n",
    "print(\"# Complete trials: \", len(complete_trials))\n",
    "trial = study.best_trial\n",
    "print(\"Best Score: \", trial.value)\n",
    "print(\"Best Params: \")\n",
    "for key, value in trial.params.items():\n",
    "    print(\"  {}: {}\".format(key, value))\n"
   ]
  },
  {
   "cell_type": "code",
   "execution_count": null,
   "id": "c91b75d0-83af-40f2-8192-5ffc9f65a0bf",
   "metadata": {},
   "outputs": [],
   "source": [
    "Pruned trials:  14\n",
    "Complete trials:  6\n",
    "Best Score:  0.29735722712108065\n",
    "Best Params: \n",
    "  hidden_dims_length: 3\n",
    "  hidden_dim_1: 1536\n",
    "  hidden_dim_2: 1024\n",
    "  hidden_dim_3: 1024"
   ]
  },
  {
   "cell_type": "code",
   "execution_count": 72,
   "id": "ddca1ce3-5a6b-464f-8129-66bff0da6705",
   "metadata": {},
   "outputs": [
    {
     "name": "stderr",
     "output_type": "stream",
     "text": [
      "\u001b[32m[I 2023-05-07 11:41:10,903]\u001b[0m A new study created in memory with name: no-name-c8f7e228-e933-4ae2-bd83-11deee22d6b6\u001b[0m\n"
     ]
    }
   ],
   "source": [
    "pruner = MedianPruner(n_startup_trials=3, n_warmup_steps=10)\n",
    "\n",
    "# Create study\n",
    "study = optuna.create_study(direction='minimize', pruner=pruner)"
   ]
  },
  {
   "cell_type": "code",
   "execution_count": 73,
   "id": "8dca531e-bea5-4f5e-9b3e-ac045c1446dc",
   "metadata": {},
   "outputs": [
    {
     "name": "stdout",
     "output_type": "stream",
     "text": [
      "PaperPairModel(\n",
      "  (fc_layers): Sequential(\n",
      "    (0): Linear(in_features=1538, out_features=512, bias=True)\n",
      "    (1): BatchNorm1d(512, eps=1e-05, momentum=0.3, affine=True, track_running_stats=True)\n",
      "    (2): Tanh()\n",
      "    (3): Dropout(p=0.9, inplace=False)\n",
      "    (4): Linear(in_features=512, out_features=768, bias=True)\n",
      "    (5): BatchNorm1d(768, eps=1e-05, momentum=0.3, affine=True, track_running_stats=True)\n",
      "    (6): Tanh()\n",
      "    (7): Dropout(p=0.9, inplace=False)\n",
      "    (8): Linear(in_features=768, out_features=1536, bias=True)\n",
      "    (9): BatchNorm1d(1536, eps=1e-05, momentum=0.3, affine=True, track_running_stats=True)\n",
      "    (10): Tanh()\n",
      "    (11): Dropout(p=0.9, inplace=False)\n",
      "    (12): Linear(in_features=1536, out_features=1, bias=True)\n",
      "  )\n",
      ")\n"
     ]
    },
    {
     "data": {
      "application/vnd.jupyter.widget-view+json": {
       "model_id": "8495a819688e43d3a0b14f8924a9964e",
       "version_major": 2,
       "version_minor": 0
      },
      "text/plain": [
       "Training:   0%|          | 0/30 [00:00<?, ?epoch/s]"
      ]
     },
     "metadata": {},
     "output_type": "display_data"
    },
    {
     "name": "stderr",
     "output_type": "stream",
     "text": [
      "\u001b[32m[I 2023-05-07 11:44:37,705]\u001b[0m Trial 0 finished with value: 0.4362166864531381 and parameters: {'weight_decay': 0.001, 'dropout_prob': 0.9, 'bn_momentum': 0.3, 'hidden_dims_length': 3, 'hidden_dim_1': 512, 'hidden_dim_2': 768, 'hidden_dim_3': 1536}. Best is trial 0 with value: 0.4362166864531381.\u001b[0m\n"
     ]
    },
    {
     "name": "stdout",
     "output_type": "stream",
     "text": [
      "Trial 0: 0.43622, best so far: 0.43622\n",
      "Saved best hparams from trial 0: {'hidden_dims_length': 3, 'hidden_dims': [512, 768, 1536], 'val_loss': 0.4362166864531381}\n",
      "PaperPairModel(\n",
      "  (fc_layers): Sequential(\n",
      "    (0): Linear(in_features=1538, out_features=1024, bias=True)\n",
      "    (1): BatchNorm1d(1024, eps=1e-05, momentum=0.5, affine=True, track_running_stats=True)\n",
      "    (2): Tanh()\n",
      "    (3): Dropout(p=0.3, inplace=False)\n",
      "    (4): Linear(in_features=1024, out_features=1, bias=True)\n",
      "  )\n",
      ")\n"
     ]
    },
    {
     "data": {
      "application/vnd.jupyter.widget-view+json": {
       "model_id": "52c55b66b7c843448f6cde43e01be075",
       "version_major": 2,
       "version_minor": 0
      },
      "text/plain": [
       "Training:   0%|          | 0/30 [00:00<?, ?epoch/s]"
      ]
     },
     "metadata": {},
     "output_type": "display_data"
    },
    {
     "name": "stdout",
     "output_type": "stream",
     "text": [
      "Epoch 00020: reducing learning rate of group 0 to 1.0000e-03.\n",
      "Epoch 00024: reducing learning rate of group 0 to 1.0000e-04.\n",
      "Epoch 00028: reducing learning rate of group 0 to 1.0000e-05.\n"
     ]
    },
    {
     "name": "stderr",
     "output_type": "stream",
     "text": [
      "\u001b[32m[I 2023-05-07 11:47:56,152]\u001b[0m Trial 1 finished with value: 0.3333750367164612 and parameters: {'weight_decay': 0.001, 'dropout_prob': 0.3, 'bn_momentum': 0.5, 'hidden_dims_length': 1, 'hidden_dim_1': 1024}. Best is trial 1 with value: 0.3333750367164612.\u001b[0m\n"
     ]
    },
    {
     "name": "stdout",
     "output_type": "stream",
     "text": [
      "Trial 1: 0.33338, best so far: 0.33338\n",
      "Saved best hparams from trial 1: {'hidden_dims_length': 1, 'hidden_dims': [1024], 'val_loss': 0.3333750367164612}\n",
      "PaperPairModel(\n",
      "  (fc_layers): Sequential(\n",
      "    (0): Linear(in_features=1538, out_features=512, bias=True)\n",
      "    (1): BatchNorm1d(512, eps=1e-05, momentum=0.3, affine=True, track_running_stats=True)\n",
      "    (2): Tanh()\n",
      "    (3): Dropout(p=0.5, inplace=False)\n",
      "    (4): Linear(in_features=512, out_features=512, bias=True)\n",
      "    (5): BatchNorm1d(512, eps=1e-05, momentum=0.3, affine=True, track_running_stats=True)\n",
      "    (6): Tanh()\n",
      "    (7): Dropout(p=0.5, inplace=False)\n",
      "    (8): Linear(in_features=512, out_features=1, bias=True)\n",
      "  )\n",
      ")\n"
     ]
    },
    {
     "data": {
      "application/vnd.jupyter.widget-view+json": {
       "model_id": "78cad8847eec4440bf26cc8c02e84af9",
       "version_major": 2,
       "version_minor": 0
      },
      "text/plain": [
       "Training:   0%|          | 0/30 [00:00<?, ?epoch/s]"
      ]
     },
     "metadata": {},
     "output_type": "display_data"
    },
    {
     "name": "stdout",
     "output_type": "stream",
     "text": [
      "Epoch 00023: reducing learning rate of group 0 to 1.0000e-03.\n",
      "Epoch 00027: reducing learning rate of group 0 to 1.0000e-04.\n"
     ]
    },
    {
     "name": "stderr",
     "output_type": "stream",
     "text": [
      "\u001b[32m[I 2023-05-07 11:51:12,407]\u001b[0m Trial 2 finished with value: 0.3140972639833178 and parameters: {'weight_decay': 0.001, 'dropout_prob': 0.5, 'bn_momentum': 0.3, 'hidden_dims_length': 2, 'hidden_dim_1': 512, 'hidden_dim_2': 512}. Best is trial 2 with value: 0.3140972639833178.\u001b[0m\n"
     ]
    },
    {
     "name": "stdout",
     "output_type": "stream",
     "text": [
      "Trial 2: 0.31410, best so far: 0.31410\n",
      "Saved best hparams from trial 2: {'hidden_dims_length': 2, 'hidden_dims': [512, 512], 'val_loss': 0.3140972639833178}\n",
      "PaperPairModel(\n",
      "  (fc_layers): Sequential(\n",
      "    (0): Linear(in_features=1538, out_features=1536, bias=True)\n",
      "    (1): BatchNorm1d(1536, eps=1e-05, momentum=0.1, affine=True, track_running_stats=True)\n",
      "    (2): Tanh()\n",
      "    (3): Dropout(p=0.1, inplace=False)\n",
      "    (4): Linear(in_features=1536, out_features=512, bias=True)\n",
      "    (5): BatchNorm1d(512, eps=1e-05, momentum=0.1, affine=True, track_running_stats=True)\n",
      "    (6): Tanh()\n",
      "    (7): Dropout(p=0.1, inplace=False)\n",
      "    (8): Linear(in_features=512, out_features=256, bias=True)\n",
      "    (9): BatchNorm1d(256, eps=1e-05, momentum=0.1, affine=True, track_running_stats=True)\n",
      "    (10): Tanh()\n",
      "    (11): Dropout(p=0.1, inplace=False)\n",
      "    (12): Linear(in_features=256, out_features=1, bias=True)\n",
      "  )\n",
      ")\n"
     ]
    },
    {
     "data": {
      "application/vnd.jupyter.widget-view+json": {
       "model_id": "50d0e9c29d234d6089a54363f29ed193",
       "version_major": 2,
       "version_minor": 0
      },
      "text/plain": [
       "Training:   0%|          | 0/30 [00:00<?, ?epoch/s]"
      ]
     },
     "metadata": {},
     "output_type": "display_data"
    },
    {
     "name": "stdout",
     "output_type": "stream",
     "text": [
      "Epoch 00010: reducing learning rate of group 0 to 1.0000e-03.\n"
     ]
    },
    {
     "name": "stderr",
     "output_type": "stream",
     "text": [
      "\u001b[32m[I 2023-05-07 11:52:36,590]\u001b[0m Trial 3 pruned. \u001b[0m\n"
     ]
    },
    {
     "name": "stdout",
     "output_type": "stream",
     "text": [
      "Trial 3: 0.39009, best so far: 0.31410\n",
      "PaperPairModel(\n",
      "  (fc_layers): Sequential(\n",
      "    (0): Linear(in_features=1538, out_features=512, bias=True)\n",
      "    (1): BatchNorm1d(512, eps=1e-05, momentum=0.3, affine=True, track_running_stats=True)\n",
      "    (2): Tanh()\n",
      "    (3): Dropout(p=0.5, inplace=False)\n",
      "    (4): Linear(in_features=512, out_features=1, bias=True)\n",
      "  )\n",
      ")\n"
     ]
    },
    {
     "data": {
      "application/vnd.jupyter.widget-view+json": {
       "model_id": "64b6e2cd1d9740078cb6fe47b18e392b",
       "version_major": 2,
       "version_minor": 0
      },
      "text/plain": [
       "Training:   0%|          | 0/30 [00:00<?, ?epoch/s]"
      ]
     },
     "metadata": {},
     "output_type": "display_data"
    },
    {
     "name": "stderr",
     "output_type": "stream",
     "text": [
      "\u001b[32m[I 2023-05-07 11:53:48,725]\u001b[0m Trial 4 pruned. \u001b[0m\n"
     ]
    },
    {
     "name": "stdout",
     "output_type": "stream",
     "text": [
      "Trial 4: 0.36408, best so far: 0.31410\n",
      "PaperPairModel(\n",
      "  (fc_layers): Sequential(\n",
      "    (0): Linear(in_features=1538, out_features=256, bias=True)\n",
      "    (1): BatchNorm1d(256, eps=1e-05, momentum=0.5, affine=True, track_running_stats=True)\n",
      "    (2): Tanh()\n",
      "    (3): Dropout(p=0.9, inplace=False)\n",
      "    (4): Linear(in_features=256, out_features=768, bias=True)\n",
      "    (5): BatchNorm1d(768, eps=1e-05, momentum=0.5, affine=True, track_running_stats=True)\n",
      "    (6): Tanh()\n",
      "    (7): Dropout(p=0.9, inplace=False)\n",
      "    (8): Linear(in_features=768, out_features=768, bias=True)\n",
      "    (9): BatchNorm1d(768, eps=1e-05, momentum=0.5, affine=True, track_running_stats=True)\n",
      "    (10): Tanh()\n",
      "    (11): Dropout(p=0.9, inplace=False)\n",
      "    (12): Linear(in_features=768, out_features=1, bias=True)\n",
      "  )\n",
      ")\n"
     ]
    },
    {
     "data": {
      "application/vnd.jupyter.widget-view+json": {
       "model_id": "1a2f3393c8ee48bf903c62c30d037e03",
       "version_major": 2,
       "version_minor": 0
      },
      "text/plain": [
       "Training:   0%|          | 0/30 [00:00<?, ?epoch/s]"
      ]
     },
     "metadata": {},
     "output_type": "display_data"
    },
    {
     "name": "stderr",
     "output_type": "stream",
     "text": [
      "\u001b[32m[I 2023-05-07 11:55:01,092]\u001b[0m Trial 5 pruned. \u001b[0m\n"
     ]
    },
    {
     "name": "stdout",
     "output_type": "stream",
     "text": [
      "Trial 5: 0.47629, best so far: 0.31410\n",
      "PaperPairModel(\n",
      "  (fc_layers): Sequential(\n",
      "    (0): Linear(in_features=1538, out_features=768, bias=True)\n",
      "    (1): BatchNorm1d(768, eps=1e-05, momentum=0.7, affine=True, track_running_stats=True)\n",
      "    (2): Tanh()\n",
      "    (3): Dropout(p=0.5, inplace=False)\n",
      "    (4): Linear(in_features=768, out_features=1536, bias=True)\n",
      "    (5): BatchNorm1d(1536, eps=1e-05, momentum=0.7, affine=True, track_running_stats=True)\n",
      "    (6): Tanh()\n",
      "    (7): Dropout(p=0.5, inplace=False)\n",
      "    (8): Linear(in_features=1536, out_features=1, bias=True)\n",
      "  )\n",
      ")\n"
     ]
    },
    {
     "data": {
      "application/vnd.jupyter.widget-view+json": {
       "model_id": "2b537a764f8f41f4a6e4caf560a97881",
       "version_major": 2,
       "version_minor": 0
      },
      "text/plain": [
       "Training:   0%|          | 0/30 [00:00<?, ?epoch/s]"
      ]
     },
     "metadata": {},
     "output_type": "display_data"
    },
    {
     "name": "stdout",
     "output_type": "stream",
     "text": [
      "Epoch 00025: reducing learning rate of group 0 to 1.0000e-03.\n"
     ]
    },
    {
     "name": "stderr",
     "output_type": "stream",
     "text": [
      "\u001b[32m[I 2023-05-07 11:58:25,693]\u001b[0m Trial 6 finished with value: 0.3168013436453683 and parameters: {'weight_decay': 0.0001, 'dropout_prob': 0.5, 'bn_momentum': 0.7, 'hidden_dims_length': 2, 'hidden_dim_1': 768, 'hidden_dim_2': 1536}. Best is trial 2 with value: 0.3140972639833178.\u001b[0m\n"
     ]
    },
    {
     "name": "stdout",
     "output_type": "stream",
     "text": [
      "Epoch 00030: reducing learning rate of group 0 to 1.0000e-04.\n",
      "Trial 6: 0.31680, best so far: 0.31410\n",
      "PaperPairModel(\n",
      "  (fc_layers): Sequential(\n",
      "    (0): Linear(in_features=1538, out_features=1024, bias=True)\n",
      "    (1): BatchNorm1d(1024, eps=1e-05, momentum=0.9, affine=True, track_running_stats=True)\n",
      "    (2): Tanh()\n",
      "    (3): Dropout(p=0.9, inplace=False)\n",
      "    (4): Linear(in_features=1024, out_features=1024, bias=True)\n",
      "    (5): BatchNorm1d(1024, eps=1e-05, momentum=0.9, affine=True, track_running_stats=True)\n",
      "    (6): Tanh()\n",
      "    (7): Dropout(p=0.9, inplace=False)\n",
      "    (8): Linear(in_features=1024, out_features=512, bias=True)\n",
      "    (9): BatchNorm1d(512, eps=1e-05, momentum=0.9, affine=True, track_running_stats=True)\n",
      "    (10): Tanh()\n",
      "    (11): Dropout(p=0.9, inplace=False)\n",
      "    (12): Linear(in_features=512, out_features=1, bias=True)\n",
      "  )\n",
      ")\n"
     ]
    },
    {
     "data": {
      "application/vnd.jupyter.widget-view+json": {
       "model_id": "e9d35d8eded24d11a339984646668bbd",
       "version_major": 2,
       "version_minor": 0
      },
      "text/plain": [
       "Training:   0%|          | 0/30 [00:00<?, ?epoch/s]"
      ]
     },
     "metadata": {},
     "output_type": "display_data"
    },
    {
     "name": "stderr",
     "output_type": "stream",
     "text": [
      "\u001b[32m[I 2023-05-07 11:59:42,184]\u001b[0m Trial 7 pruned. \u001b[0m\n"
     ]
    },
    {
     "name": "stdout",
     "output_type": "stream",
     "text": [
      "Trial 7: 0.45725, best so far: 0.31410\n",
      "PaperPairModel(\n",
      "  (fc_layers): Sequential(\n",
      "    (0): Linear(in_features=1538, out_features=512, bias=True)\n",
      "    (1): BatchNorm1d(512, eps=1e-05, momentum=0.3, affine=True, track_running_stats=True)\n",
      "    (2): Tanh()\n",
      "    (3): Dropout(p=0.5, inplace=False)\n",
      "    (4): Linear(in_features=512, out_features=1, bias=True)\n",
      "  )\n",
      ")\n"
     ]
    },
    {
     "data": {
      "application/vnd.jupyter.widget-view+json": {
       "model_id": "29687348432649659923b6f5ec7f7c5f",
       "version_major": 2,
       "version_minor": 0
      },
      "text/plain": [
       "Training:   0%|          | 0/30 [00:00<?, ?epoch/s]"
      ]
     },
     "metadata": {},
     "output_type": "display_data"
    },
    {
     "name": "stderr",
     "output_type": "stream",
     "text": [
      "\u001b[32m[I 2023-05-07 12:00:54,762]\u001b[0m Trial 8 pruned. \u001b[0m\n"
     ]
    },
    {
     "name": "stdout",
     "output_type": "stream",
     "text": [
      "Trial 8: 0.35950, best so far: 0.31410\n",
      "PaperPairModel(\n",
      "  (fc_layers): Sequential(\n",
      "    (0): Linear(in_features=1538, out_features=512, bias=True)\n",
      "    (1): BatchNorm1d(512, eps=1e-05, momentum=0.3, affine=True, track_running_stats=True)\n",
      "    (2): Tanh()\n",
      "    (3): Dropout(p=0.5, inplace=False)\n",
      "    (4): Linear(in_features=512, out_features=1, bias=True)\n",
      "  )\n",
      ")\n"
     ]
    },
    {
     "data": {
      "application/vnd.jupyter.widget-view+json": {
       "model_id": "339e460ac6064ba28441fa72ab0ec421",
       "version_major": 2,
       "version_minor": 0
      },
      "text/plain": [
       "Training:   0%|          | 0/30 [00:00<?, ?epoch/s]"
      ]
     },
     "metadata": {},
     "output_type": "display_data"
    },
    {
     "name": "stderr",
     "output_type": "stream",
     "text": [
      "\u001b[32m[I 2023-05-07 12:02:22,262]\u001b[0m Trial 9 pruned. \u001b[0m\n"
     ]
    },
    {
     "name": "stdout",
     "output_type": "stream",
     "text": [
      "Trial 9: 0.33749, best so far: 0.31410\n",
      "PaperPairModel(\n",
      "  (fc_layers): Sequential(\n",
      "    (0): Linear(in_features=1538, out_features=256, bias=True)\n",
      "    (1): BatchNorm1d(256, eps=1e-05, momentum=0.7, affine=True, track_running_stats=True)\n",
      "    (2): Tanh()\n",
      "    (3): Dropout(p=0.7, inplace=False)\n",
      "    (4): Linear(in_features=256, out_features=512, bias=True)\n",
      "    (5): BatchNorm1d(512, eps=1e-05, momentum=0.7, affine=True, track_running_stats=True)\n",
      "    (6): Tanh()\n",
      "    (7): Dropout(p=0.7, inplace=False)\n",
      "    (8): Linear(in_features=512, out_features=1, bias=True)\n",
      "  )\n",
      ")\n"
     ]
    },
    {
     "data": {
      "application/vnd.jupyter.widget-view+json": {
       "model_id": "430f43dea7284fac844113fc526040b6",
       "version_major": 2,
       "version_minor": 0
      },
      "text/plain": [
       "Training:   0%|          | 0/30 [00:00<?, ?epoch/s]"
      ]
     },
     "metadata": {},
     "output_type": "display_data"
    },
    {
     "name": "stderr",
     "output_type": "stream",
     "text": [
      "\u001b[32m[I 2023-05-07 12:03:35,386]\u001b[0m Trial 10 pruned. \u001b[0m\n"
     ]
    },
    {
     "name": "stdout",
     "output_type": "stream",
     "text": [
      "Trial 10: 0.41920, best so far: 0.31410\n",
      "PaperPairModel(\n",
      "  (fc_layers): Sequential(\n",
      "    (0): Linear(in_features=1538, out_features=768, bias=True)\n",
      "    (1): BatchNorm1d(768, eps=1e-05, momentum=0.7, affine=True, track_running_stats=True)\n",
      "    (2): Tanh()\n",
      "    (3): Dropout(p=0.5, inplace=False)\n",
      "    (4): Linear(in_features=768, out_features=1536, bias=True)\n",
      "    (5): BatchNorm1d(1536, eps=1e-05, momentum=0.7, affine=True, track_running_stats=True)\n",
      "    (6): Tanh()\n",
      "    (7): Dropout(p=0.5, inplace=False)\n",
      "    (8): Linear(in_features=1536, out_features=1, bias=True)\n",
      "  )\n",
      ")\n"
     ]
    },
    {
     "data": {
      "application/vnd.jupyter.widget-view+json": {
       "model_id": "94838ac6bca54972b40898a3cf53bedd",
       "version_major": 2,
       "version_minor": 0
      },
      "text/plain": [
       "Training:   0%|          | 0/30 [00:00<?, ?epoch/s]"
      ]
     },
     "metadata": {},
     "output_type": "display_data"
    },
    {
     "name": "stderr",
     "output_type": "stream",
     "text": [
      "\u001b[32m[I 2023-05-07 12:05:04,884]\u001b[0m Trial 11 pruned. \u001b[0m\n"
     ]
    },
    {
     "name": "stdout",
     "output_type": "stream",
     "text": [
      "Trial 11: 0.33595, best so far: 0.31410\n",
      "PaperPairModel(\n",
      "  (fc_layers): Sequential(\n",
      "    (0): Linear(in_features=1538, out_features=768, bias=True)\n",
      "    (1): BatchNorm1d(768, eps=1e-05, momentum=0.7, affine=True, track_running_stats=True)\n",
      "    (2): Tanh()\n",
      "    (3): Dropout(p=0.5, inplace=False)\n",
      "    (4): Linear(in_features=768, out_features=256, bias=True)\n",
      "    (5): BatchNorm1d(256, eps=1e-05, momentum=0.7, affine=True, track_running_stats=True)\n",
      "    (6): Tanh()\n",
      "    (7): Dropout(p=0.5, inplace=False)\n",
      "    (8): Linear(in_features=256, out_features=1, bias=True)\n",
      "  )\n",
      ")\n"
     ]
    },
    {
     "data": {
      "application/vnd.jupyter.widget-view+json": {
       "model_id": "7587450a7e1f423eba546bfa13060478",
       "version_major": 2,
       "version_minor": 0
      },
      "text/plain": [
       "Training:   0%|          | 0/30 [00:00<?, ?epoch/s]"
      ]
     },
     "metadata": {},
     "output_type": "display_data"
    },
    {
     "name": "stdout",
     "output_type": "stream",
     "text": [
      "Epoch 00023: reducing learning rate of group 0 to 1.0000e-03.\n",
      "Epoch 00027: reducing learning rate of group 0 to 1.0000e-04.\n"
     ]
    },
    {
     "name": "stderr",
     "output_type": "stream",
     "text": [
      "\u001b[32m[I 2023-05-07 12:08:25,144]\u001b[0m Trial 12 finished with value: 0.3086707762309483 and parameters: {'weight_decay': 0.0001, 'dropout_prob': 0.5, 'bn_momentum': 0.7, 'hidden_dims_length': 2, 'hidden_dim_1': 768, 'hidden_dim_2': 256}. Best is trial 12 with value: 0.3086707762309483.\u001b[0m\n"
     ]
    },
    {
     "name": "stdout",
     "output_type": "stream",
     "text": [
      "Trial 12: 0.30867, best so far: 0.30867\n",
      "Saved best hparams from trial 12: {'hidden_dims_length': 2, 'hidden_dims': [768, 256], 'val_loss': 0.3086707762309483}\n",
      "PaperPairModel(\n",
      "  (fc_layers): Sequential(\n",
      "    (0): Linear(in_features=1538, out_features=768, bias=True)\n",
      "    (1): BatchNorm1d(768, eps=1e-05, momentum=0.1, affine=True, track_running_stats=True)\n",
      "    (2): Tanh()\n",
      "    (3): Dropout(p=0.3, inplace=False)\n",
      "    (4): Linear(in_features=768, out_features=256, bias=True)\n",
      "    (5): BatchNorm1d(256, eps=1e-05, momentum=0.1, affine=True, track_running_stats=True)\n",
      "    (6): Tanh()\n",
      "    (7): Dropout(p=0.3, inplace=False)\n",
      "    (8): Linear(in_features=256, out_features=1, bias=True)\n",
      "  )\n",
      ")\n"
     ]
    },
    {
     "data": {
      "application/vnd.jupyter.widget-view+json": {
       "model_id": "2eb19cb47d6949bd86f3aef9380d5ac8",
       "version_major": 2,
       "version_minor": 0
      },
      "text/plain": [
       "Training:   0%|          | 0/30 [00:00<?, ?epoch/s]"
      ]
     },
     "metadata": {},
     "output_type": "display_data"
    },
    {
     "name": "stdout",
     "output_type": "stream",
     "text": [
      "Epoch 00015: reducing learning rate of group 0 to 1.0000e-03.\n"
     ]
    },
    {
     "name": "stderr",
     "output_type": "stream",
     "text": [
      "\u001b[32m[I 2023-05-07 12:10:31,498]\u001b[0m Trial 13 pruned. \u001b[0m\n"
     ]
    },
    {
     "name": "stdout",
     "output_type": "stream",
     "text": [
      "Trial 13: 0.33944, best so far: 0.30867\n",
      "PaperPairModel(\n",
      "  (fc_layers): Sequential(\n",
      "    (0): Linear(in_features=1538, out_features=1536, bias=True)\n",
      "    (1): BatchNorm1d(1536, eps=1e-05, momentum=0.9, affine=True, track_running_stats=True)\n",
      "    (2): Tanh()\n",
      "    (3): Dropout(p=0.1, inplace=False)\n",
      "    (4): Linear(in_features=1536, out_features=256, bias=True)\n",
      "    (5): BatchNorm1d(256, eps=1e-05, momentum=0.9, affine=True, track_running_stats=True)\n",
      "    (6): Tanh()\n",
      "    (7): Dropout(p=0.1, inplace=False)\n",
      "    (8): Linear(in_features=256, out_features=1, bias=True)\n",
      "  )\n",
      ")\n"
     ]
    },
    {
     "data": {
      "application/vnd.jupyter.widget-view+json": {
       "model_id": "623a7a6826b940eeb491c1a043712ac3",
       "version_major": 2,
       "version_minor": 0
      },
      "text/plain": [
       "Training:   0%|          | 0/30 [00:00<?, ?epoch/s]"
      ]
     },
     "metadata": {},
     "output_type": "display_data"
    },
    {
     "name": "stdout",
     "output_type": "stream",
     "text": [
      "Epoch 00010: reducing learning rate of group 0 to 1.0000e-03.\n"
     ]
    },
    {
     "name": "stderr",
     "output_type": "stream",
     "text": [
      "\u001b[32m[I 2023-05-07 12:11:45,275]\u001b[0m Trial 14 pruned. \u001b[0m\n"
     ]
    },
    {
     "name": "stdout",
     "output_type": "stream",
     "text": [
      "Trial 14: 0.37172, best so far: 0.30867\n",
      "PaperPairModel(\n",
      "  (fc_layers): Sequential(\n",
      "    (0): Linear(in_features=1538, out_features=768, bias=True)\n",
      "    (1): BatchNorm1d(768, eps=1e-05, momentum=0.7, affine=True, track_running_stats=True)\n",
      "    (2): Tanh()\n",
      "    (3): Dropout(p=0.7, inplace=False)\n",
      "    (4): Linear(in_features=768, out_features=512, bias=True)\n",
      "    (5): BatchNorm1d(512, eps=1e-05, momentum=0.7, affine=True, track_running_stats=True)\n",
      "    (6): Tanh()\n",
      "    (7): Dropout(p=0.7, inplace=False)\n",
      "    (8): Linear(in_features=512, out_features=1, bias=True)\n",
      "  )\n",
      ")\n"
     ]
    },
    {
     "data": {
      "application/vnd.jupyter.widget-view+json": {
       "model_id": "d4c4dbc8802e4268abe0f5bbe343adad",
       "version_major": 2,
       "version_minor": 0
      },
      "text/plain": [
       "Training:   0%|          | 0/30 [00:00<?, ?epoch/s]"
      ]
     },
     "metadata": {},
     "output_type": "display_data"
    },
    {
     "name": "stderr",
     "output_type": "stream",
     "text": [
      "\u001b[32m[I 2023-05-07 12:12:56,894]\u001b[0m Trial 15 pruned. \u001b[0m\n"
     ]
    },
    {
     "name": "stdout",
     "output_type": "stream",
     "text": [
      "Trial 15: 0.36293, best so far: 0.30867\n",
      "PaperPairModel(\n",
      "  (fc_layers): Sequential(\n",
      "    (0): Linear(in_features=1538, out_features=768, bias=True)\n",
      "    (1): BatchNorm1d(768, eps=1e-05, momentum=0.3, affine=True, track_running_stats=True)\n",
      "    (2): Tanh()\n",
      "    (3): Dropout(p=0.5, inplace=False)\n",
      "    (4): Linear(in_features=768, out_features=256, bias=True)\n",
      "    (5): BatchNorm1d(256, eps=1e-05, momentum=0.3, affine=True, track_running_stats=True)\n",
      "    (6): Tanh()\n",
      "    (7): Dropout(p=0.5, inplace=False)\n",
      "    (8): Linear(in_features=256, out_features=1, bias=True)\n",
      "  )\n",
      ")\n"
     ]
    },
    {
     "data": {
      "application/vnd.jupyter.widget-view+json": {
       "model_id": "6a018917d71445fe963a0664c1e39df1",
       "version_major": 2,
       "version_minor": 0
      },
      "text/plain": [
       "Training:   0%|          | 0/30 [00:00<?, ?epoch/s]"
      ]
     },
     "metadata": {},
     "output_type": "display_data"
    },
    {
     "name": "stdout",
     "output_type": "stream",
     "text": [
      "Epoch 00017: reducing learning rate of group 0 to 1.0000e-03.\n",
      "Epoch 00023: reducing learning rate of group 0 to 1.0000e-04.\n",
      "Epoch 00027: reducing learning rate of group 0 to 1.0000e-05.\n"
     ]
    },
    {
     "name": "stderr",
     "output_type": "stream",
     "text": [
      "\u001b[32m[I 2023-05-07 12:16:14,402]\u001b[0m Trial 16 finished with value: 0.3015765632901873 and parameters: {'weight_decay': 0.001, 'dropout_prob': 0.5, 'bn_momentum': 0.3, 'hidden_dims_length': 2, 'hidden_dim_1': 768, 'hidden_dim_2': 256}. Best is trial 16 with value: 0.3015765632901873.\u001b[0m\n"
     ]
    },
    {
     "name": "stdout",
     "output_type": "stream",
     "text": [
      "Trial 16: 0.30158, best so far: 0.30158\n",
      "Saved best hparams from trial 16: {'hidden_dims_length': 2, 'hidden_dims': [768, 256], 'val_loss': 0.3015765632901873}\n",
      "PaperPairModel(\n",
      "  (fc_layers): Sequential(\n",
      "    (0): Linear(in_features=1538, out_features=768, bias=True)\n",
      "    (1): BatchNorm1d(768, eps=1e-05, momentum=0.7, affine=True, track_running_stats=True)\n",
      "    (2): Tanh()\n",
      "    (3): Dropout(p=0.5, inplace=False)\n",
      "    (4): Linear(in_features=768, out_features=1, bias=True)\n",
      "  )\n",
      ")\n"
     ]
    },
    {
     "data": {
      "application/vnd.jupyter.widget-view+json": {
       "model_id": "12dc8a4b96484d1d996f5d4223a42be1",
       "version_major": 2,
       "version_minor": 0
      },
      "text/plain": [
       "Training:   0%|          | 0/30 [00:00<?, ?epoch/s]"
      ]
     },
     "metadata": {},
     "output_type": "display_data"
    },
    {
     "name": "stderr",
     "output_type": "stream",
     "text": [
      "\u001b[32m[I 2023-05-07 12:17:39,003]\u001b[0m Trial 17 pruned. \u001b[0m\n"
     ]
    },
    {
     "name": "stdout",
     "output_type": "stream",
     "text": [
      "Trial 17: 0.33427, best so far: 0.30158\n",
      "PaperPairModel(\n",
      "  (fc_layers): Sequential(\n",
      "    (0): Linear(in_features=1538, out_features=768, bias=True)\n",
      "    (1): BatchNorm1d(768, eps=1e-05, momentum=0.9, affine=True, track_running_stats=True)\n",
      "    (2): Tanh()\n",
      "    (3): Dropout(p=0.5, inplace=False)\n",
      "    (4): Linear(in_features=768, out_features=256, bias=True)\n",
      "    (5): BatchNorm1d(256, eps=1e-05, momentum=0.9, affine=True, track_running_stats=True)\n",
      "    (6): Tanh()\n",
      "    (7): Dropout(p=0.5, inplace=False)\n",
      "    (8): Linear(in_features=256, out_features=1, bias=True)\n",
      "  )\n",
      ")\n"
     ]
    },
    {
     "data": {
      "application/vnd.jupyter.widget-view+json": {
       "model_id": "fd9ca1f9101041928946aa0d8ac38676",
       "version_major": 2,
       "version_minor": 0
      },
      "text/plain": [
       "Training:   0%|          | 0/30 [00:00<?, ?epoch/s]"
      ]
     },
     "metadata": {},
     "output_type": "display_data"
    },
    {
     "name": "stdout",
     "output_type": "stream",
     "text": [
      "Epoch 00021: reducing learning rate of group 0 to 1.0000e-03.\n",
      "Epoch 00025: reducing learning rate of group 0 to 1.0000e-04.\n",
      "Epoch 00029: reducing learning rate of group 0 to 1.0000e-05.\n"
     ]
    },
    {
     "name": "stderr",
     "output_type": "stream",
     "text": [
      "\u001b[32m[I 2023-05-07 12:21:01,595]\u001b[0m Trial 18 finished with value: 0.30859442693846567 and parameters: {'weight_decay': 0.0001, 'dropout_prob': 0.5, 'bn_momentum': 0.9, 'hidden_dims_length': 2, 'hidden_dim_1': 768, 'hidden_dim_2': 256}. Best is trial 16 with value: 0.3015765632901873.\u001b[0m\n"
     ]
    },
    {
     "name": "stdout",
     "output_type": "stream",
     "text": [
      "Trial 18: 0.30859, best so far: 0.30158\n",
      "PaperPairModel(\n",
      "  (fc_layers): Sequential(\n",
      "    (0): Linear(in_features=1538, out_features=768, bias=True)\n",
      "    (1): BatchNorm1d(768, eps=1e-05, momentum=0.9, affine=True, track_running_stats=True)\n",
      "    (2): Tanh()\n",
      "    (3): Dropout(p=0.7, inplace=False)\n",
      "    (4): Linear(in_features=768, out_features=256, bias=True)\n",
      "    (5): BatchNorm1d(256, eps=1e-05, momentum=0.9, affine=True, track_running_stats=True)\n",
      "    (6): Tanh()\n",
      "    (7): Dropout(p=0.7, inplace=False)\n",
      "    (8): Linear(in_features=256, out_features=1024, bias=True)\n",
      "    (9): BatchNorm1d(1024, eps=1e-05, momentum=0.9, affine=True, track_running_stats=True)\n",
      "    (10): Tanh()\n",
      "    (11): Dropout(p=0.7, inplace=False)\n",
      "    (12): Linear(in_features=1024, out_features=1, bias=True)\n",
      "  )\n",
      ")\n"
     ]
    },
    {
     "data": {
      "application/vnd.jupyter.widget-view+json": {
       "model_id": "6046826e5b084f138450b2ae7cc70e87",
       "version_major": 2,
       "version_minor": 0
      },
      "text/plain": [
       "Training:   0%|          | 0/30 [00:00<?, ?epoch/s]"
      ]
     },
     "metadata": {},
     "output_type": "display_data"
    },
    {
     "name": "stderr",
     "output_type": "stream",
     "text": [
      "\u001b[32m[I 2023-05-07 12:22:15,167]\u001b[0m Trial 19 pruned. \u001b[0m\n"
     ]
    },
    {
     "name": "stdout",
     "output_type": "stream",
     "text": [
      "Trial 19: 0.36353, best so far: 0.30158\n"
     ]
    }
   ],
   "source": [
    "study.optimize(objective, n_trials=20, callbacks=[save_best_trial_params])"
   ]
  },
  {
   "cell_type": "code",
   "execution_count": 55,
   "id": "17bfe85d-1714-44fb-a6de-b8cc15c29bd9",
   "metadata": {
    "tags": []
   },
   "outputs": [],
   "source": [
    "# ## TESTING FOR AIAYN PAPER INDIVUDALLY FOR DEBUGGING\n",
    "# paper_embedding = get_embedding(metadata[test_paper_id], embedding_map)\n",
    "# # top_indices, top_values = find_similar_knn(paper_embedding.view(1,-1), weights, k=knn_k, least=False)\n",
    "# # recommended_paper_ids = [all_paper_ids[i] for i in top_indices]\n",
    "# recommended_paper_ids = find_knn_pid(test_paper_id, knn_tree, embedding_map, metadata, all_pids, knn_k=hparams['knn_k'])\n",
    "# # find_knn_pid(test_paper_id, knn_tree, embedding_map, metadata, all_pids, knn_k=k)\n",
    "# other_paper_embeddings = torch.stack([embedding_map[pid] for pid in recommended_paper_ids])\n",
    "# # Get years from metadata and create is_after tensor\n",
    "# paper_year = metadata[paper_id]['year']\n",
    "# other_paper_years = [metadata[pid]['year'] for pid in recommended_paper_ids]\n",
    "# is_after = torch.tensor([int(paper_year < other_year) for other_year in other_paper_years], dtype=torch.float32).to(DEVICE)\n",
    "# with torch.no_grad():\n",
    "#         paper_embedding = paper_embedding.expand_as(other_paper_embeddings).to(DEVICE)\n",
    "#         other_paper_embeddings = other_paper_embeddings.to(DEVICE)\n",
    "#         scores = model(paper_embedding, other_paper_embeddings, is_after)\n",
    "# model.train()\n",
    "# top_k_indices = torch.topk(scores, k=hparams['top_k']).indices\n",
    "# reranked_pids = [recommended_paper_ids[idx] for idx in top_k_indices]\n",
    "\n",
    "# # [p for p in PaperPairDataset([test_paper_id], embedding_map, reference_map, metadata, all_pids, use_knn=True, knn_k=1000, \n",
    "# #                                knn_tree=knn_tree, num_positives=hparams['num_positives'], num_negatives=hparams['num_negatives']).data if p[2] == 1]\n",
    "\n",
    "# aiayn_refs = metadata[test_paper_id]['references']\n",
    "# aiayn_knn_1k = find_knn_pid(test_paper_id, knn_tree, embedding_map, metadata, all_pids, knn_k=1000)\n",
    "# len(aiayn_refs), len(set(aiayn_refs) & set(find_knn_pid(test_paper_id, knn_tree, embedding_map, metadata, all_pids, knn_k=1000)))\n",
    "\n",
    "\n",
    "\n",
    "# aiayn_ref_indices_1k = [i for i, rec in enumerate(aiayn_knn_1k) if rec in set(aiayn_refs)]\n",
    "\n",
    "# # aiayn_ref_indices_1k\n",
    "\n",
    "# # aiayn_knn_1k[305]\n",
    "\n",
    "# # recommended_paper_ids[305], scores[305]\n",
    "\n",
    "# # top_k_indices"
   ]
  },
  {
   "cell_type": "code",
   "execution_count": 56,
   "id": "d60ddb67-e3a3-44a8-855b-4f0d263c6454",
   "metadata": {},
   "outputs": [],
   "source": [
    "# Query Paper: Attention is All you Need\n",
    "# top_k_indices"
   ]
  },
  {
   "cell_type": "code",
   "execution_count": 57,
   "id": "c0f5596c-d4e6-4c0e-9ff9-f1a6b81acd13",
   "metadata": {},
   "outputs": [],
   "source": [
    "# Query paper year: 2017\n",
    "# torch.tensor([metadata[rec_id]['year'] for rec_id in reranked_pids])"
   ]
  },
  {
   "cell_type": "code",
   "execution_count": 58,
   "id": "b4b0fed7-029d-4015-9517-12c3c0368c1e",
   "metadata": {},
   "outputs": [],
   "source": [
    "# Rerank score from the model for top_k_indices\n",
    "# scores[top_k_indices]"
   ]
  },
  {
   "cell_type": "code",
   "execution_count": 59,
   "id": "d7d6fde7-a5e8-4cc5-9fa9-8e4dfbfa888e",
   "metadata": {},
   "outputs": [],
   "source": [
    "# What scores of actual references is\n",
    "# scores[aiayn_ref_indices_1k]"
   ]
  },
  {
   "cell_type": "code",
   "execution_count": 104,
   "id": "da0ae88a-c5bd-4d5e-b00b-b7ffdf626465",
   "metadata": {
    "jupyter": {
     "source_hidden": true
    },
    "tags": []
   },
   "outputs": [],
   "source": [
    "# def get_recommendations(model, paper_id, knn_tree, embedding_map, all_pids, top_k, knn_k):\n",
    "#     model.eval()\n",
    "#     paper_embedding = embedding_map[paper_id]\n",
    "#     # other_paper_ids = [pid for pid in embedding_map if pid != paper_id]\n",
    "#     # paper_embedding = get_embedding(metadata[paper_id], embedding_map)\n",
    "#     # top_indices, top_values = find_similar_knn(paper_embedding.view(1,-1), weights, k=knn_k, least=False)\n",
    "#     # recommended_paper_ids = [all_paper_ids[i] for i in top_indices]\n",
    "#     recommended_paper_ids = find_knn_pid(paper_id, knn_tree, embedding_map, metadata, all_pids, knn_k=knn_k)\n",
    "\n",
    "#     other_paper_embeddings = torch.stack([embedding_map[pid] for pid in recommended_paper_ids])\n",
    "\n",
    "#     with torch.no_grad():\n",
    "#         paper_embedding = paper_embedding.expand_as(other_paper_embeddings).to(DEVICE)\n",
    "#         other_paper_embeddings = other_paper_embeddings.to(DEVICE)\n",
    "#         scores = model(paper_embedding, other_paper_embeddings)\n",
    "#     model.train()\n",
    "#     top_k_indices = torch.topk(scores, k=top_k).indices\n",
    "#     reranked_pids = [recommended_paper_ids[idx] for idx in top_k_indices]\n",
    "#     return reranked_pids"
   ]
  },
  {
   "cell_type": "code",
   "execution_count": 63,
   "id": "877a1f40-9b98-47c5-a998-cbc2d6f87861",
   "metadata": {},
   "outputs": [],
   "source": [
    "def get_recommendations(model, paper_id, knn_tree, embedding_map, metadata, all_pids, top_k, knn_k):\n",
    "    model.eval()\n",
    "    \n",
    "    paper_embedding = embedding_map[paper_id]\n",
    "    recommended_paper_ids = find_knn_pid(paper_id, knn_tree, embedding_map, metadata, all_pids, knn_k=knn_k)\n",
    "\n",
    "    other_paper_embeddings = torch.stack([embedding_map[pid] for pid in recommended_paper_ids])\n",
    "\n",
    "    # Get years from metadata and create is_after tensor\n",
    "    paper_year = metadata[paper_id]['year']\n",
    "    other_paper_years = [metadata[pid]['year'] for pid in recommended_paper_ids]\n",
    "    is_after = torch.tensor([int(paper_year < other_year) for other_year in other_paper_years], dtype=torch.float32).to(DEVICE)\n",
    "\n",
    "    with torch.no_grad():\n",
    "        paper_embedding = paper_embedding.expand_as(other_paper_embeddings).to(DEVICE)\n",
    "        other_paper_embeddings = other_paper_embeddings.to(DEVICE)\n",
    "        # Pass the is_after tensor to the model\n",
    "        scores = model(paper_embedding, other_paper_embeddings, is_after)\n",
    "    scores = torch.sigmoid(scores)\n",
    "    model.train()\n",
    "    top_k_indices = torch.topk(scores, k=top_k).indices\n",
    "    reranked_pids = [recommended_paper_ids[idx] for idx in top_k_indices]\n",
    "    return reranked_pids"
   ]
  },
  {
   "cell_type": "code",
   "execution_count": 73,
   "id": "06f7bcf8-e675-4ce5-8960-ae1c24c26efb",
   "metadata": {},
   "outputs": [],
   "source": [
    "# %debug\n",
    "test_paper_id = '204e3073870fae3d05bcbc2f6a8e263d9b72e776'\n",
    "model_rec_ids = get_recommendations(model, test_paper_id, knn_tree, embedding_map, metadata, all_pids, top_k = hparams['top_k'], knn_k=hparams['knn_k'])"
   ]
  },
  {
   "cell_type": "code",
   "execution_count": 74,
   "id": "23718ac4-44d6-4bae-8a39-19f3928d937a",
   "metadata": {},
   "outputs": [
    {
     "name": "stdout",
     "output_type": "stream",
     "text": [
      "Paper ID: 4ef03716945bd3907458efbe1bbf8928dafc1efc\n",
      "Title: Regularization and nonlinearities for neural language models: when are they needed?\n",
      "Year: 2013\n",
      "Paper ID: 86151fd48b2578ac1232bd927e07a8815144496a\n",
      "Title: Decoder Integration and Expected BLEU Training for Recurrent Neural Network Language Models\n",
      "Year: 2014\n",
      "Paper ID: 944a1cfd79dbfb6fef460360a0765ba790f4027a\n",
      "Title: Recurrent Continuous Translation Models\n",
      "Year: 2013\n",
      "Paper ID: d76c07211479e233f7c6a6f32d5346c983c5598f\n",
      "Title: Multi-task Sequence to Sequence Learning\n",
      "Year: 2015\n",
      "Paper ID: cea967b59209c6be22829699f05b8b1ac4dc092d\n",
      "Title: Sequence to Sequence Learning with Neural Networks\n",
      "Year: 2014\n",
      "Paper ID: 43428880d75b3a14257c3ee9bda054e61eb869c0\n",
      "Title: Convolutional Sequence to Sequence Learning\n",
      "Year: 2017\n",
      "Paper ID: 4f10b9f47c5bb6b54dd4f5ca8d9fa2c0bbd7ec5e\n",
      "Title: End-To-End Memory Networks\n",
      "Year: 2015\n",
      "Paper ID: 1c4e9156ca07705531e45960b7a919dc473abb51\n",
      "Title: Wide Residual Networks\n",
      "Year: 2016\n",
      "Paper ID: 44d2abe2175df8153f465f6c39b68b76a0d40ab9\n",
      "Title: Long Short-Term Memory\n",
      "Year: 1997\n",
      "Paper ID: 3fc5ed18c2294596af072df929c8ee12c71f96a2\n",
      "Title: Classical Structured Prediction Losses for Sequence to Sequence Learning\n",
      "Year: 2017\n",
      "Paper ID: 87fc28cbb193a3bc100e13a4a57a8dc9ce7e31a3\n",
      "Title: Efficient Attention using a Fixed-Size Memory Representation\n",
      "Year: 2017\n",
      "Paper ID: 88caa4a0253a8b0076176745ebc072864eab66e1\n",
      "Title: Language Modeling with Gated Convolutional Networks\n",
      "Year: 2016\n",
      "Paper ID: 85f94d8098322f8130512b4c6c4627548ce4a6cc\n",
      "Title: Unsupervised Pretraining for Sequence to Sequence Learning\n",
      "Year: 2016\n",
      "Paper ID: 6b570069f14c7588e066f7138e1f21af59d62e61\n",
      "Title: Theano: A Python framework for fast computation of mathematical expressions\n",
      "Year: 2016\n",
      "Paper ID: a6cb366736791bcccc5c8639de5a8f9636bf87e8\n",
      "Title: Adam: A Method for Stochastic Optimization\n",
      "Year: 2014\n",
      "Paper ID: 35c1668dc64d24a28c6041978e5fcca754eb2f4b\n",
      "Title: Sequence Level Training with Recurrent Neural Networks\n",
      "Year: 2015\n",
      "Paper ID: deff3b0635e141297238797d924d7a9aba3a132a\n",
      "Title: Sharp Models on Dull Hardware: Fast and Accurate Neural Machine Translation Decoding on the CPU\n",
      "Year: 2017\n",
      "Paper ID: 5423e418053a585bbc35180f5719c25b36e160b7\n",
      "Title: Convolutional Encoders for Neural Machine Translation\n",
      "Year: 2015\n",
      "Paper ID: 8729441d734782c3ed532a7d2d9611b438c0a09a\n",
      "Title: ADADELTA: An Adaptive Learning Rate Method\n",
      "Year: 2012\n",
      "Paper ID: e5f0762b9cfd07f88608f5502ed4467a8b5546cb\n",
      "Title: Top-down Tree Long Short-Term Memory Networks\n",
      "Year: 2015\n"
     ]
    }
   ],
   "source": [
    "cnt = 0\n",
    "for paper_id in model_rec_ids:\n",
    "    title = metadata[paper_id]['title']\n",
    "    # abstract = metadata[paper_id]['abstract']\n",
    "    year = metadata[paper_id]['year']\n",
    "    print(f'Paper ID: {paper_id}\\nTitle: {title}\\nYear: {year}')\n",
    "    cnt += 1 \n",
    "    if cnt == 20:\n",
    "        break"
   ]
  },
  {
   "cell_type": "code",
   "execution_count": 75,
   "id": "0acc0fc2-2897-4798-bc32-aed5182b92df",
   "metadata": {},
   "outputs": [
    {
     "name": "stdout",
     "output_type": "stream",
     "text": [
      "For the Paper - Attention is All you Need\n",
      "Precision @ 20: 0.3\n",
      "Recall @ 20: 0.16216216216216217\n",
      "F1 Score: 0.2105263157894737\n"
     ]
    }
   ],
   "source": [
    "precision, recall, f1_score = evaluate(model_rec_ids, actual_references, top_k=hparams['top_k'])\n",
    "print(f'For the Paper - {metadata[test_paper_id][\"title\"]}')\n",
    "print(f\"Precision @ {hparams['top_k']}: {precision}\")\n",
    "print(f\"Recall @ {hparams['top_k']}: {recall}\")\n",
    "print(f\"F1 Score: {f1_score}\")"
   ]
  },
  {
   "cell_type": "code",
   "execution_count": 64,
   "id": "242c00bf-9dbc-4ae1-ace7-08adf0df4893",
   "metadata": {},
   "outputs": [],
   "source": [
    "def evaluate_model(model, paper_ids, knn_tree, embedding_map, reference_map, metadata, all_pids, top_k, knn_k):\n",
    "    '''\n",
    "    model: The trained PaperPairModel, \n",
    "    paper_ids: the list of Paper IDs for the model to be evaluated on, \n",
    "    knn_tree: The k-NN tree created from the paper embeddings, \n",
    "    embedding_map: The dictionary mapping paper IDs to their embeddings, \n",
    "    reference_map: The dictionary mapping paper IDs to the list of IDs of their actual references,\n",
    "    metadata: The dictionary containing metadata about each paper, \n",
    "    all_pids: The list of all paper IDs, \n",
    "    top_k: The number of top recommendations to return (IN THE ORDER OF all_pids), \n",
    "    knn_k: The number of nearest neighbours to consider in the k-NN tree, \n",
    "    '''\n",
    "    print(model)\n",
    "    precisions = []\n",
    "    recalls = []\n",
    "    for paper_id in tqdm(paper_ids):\n",
    "\n",
    "        recommendations = set(get_recommendations(model, paper_id, knn_tree, embedding_map, metadata, all_pids, top_k=top_k, knn_k=knn_k))\n",
    "        true_references = set(reference_map.get(paper_id, []))\n",
    "        if not true_references:\n",
    "            continue\n",
    "\n",
    "        intersect = recommendations.intersection(true_references)\n",
    "        precision = len(intersect) / len(recommendations)\n",
    "        recall = len(intersect) / len(true_references)\n",
    "\n",
    "        precisions.append(precision)\n",
    "        recalls.append(recall)\n",
    "\n",
    "    mean_precision = sum(precisions) / len(precisions)\n",
    "    mean_recall = sum(recalls) / len(recalls)\n",
    "    return mean_precision, mean_recall\n"
   ]
  },
  {
   "cell_type": "code",
   "execution_count": 59,
   "id": "da84e82a-7302-402c-aab1-063a4eb1ebc5",
   "metadata": {
    "tags": []
   },
   "outputs": [
    {
     "data": {
      "text/plain": [
       "PaperPairModel(\n",
       "  (fc_layers): Sequential(\n",
       "    (0): Linear(in_features=1538, out_features=1024, bias=True)\n",
       "    (1): BatchNorm1d(1024, eps=1e-05, momentum=0.9, affine=True, track_running_stats=True)\n",
       "    (2): Tanh()\n",
       "    (3): Dropout(p=0.5, inplace=False)\n",
       "    (4): Linear(in_features=1024, out_features=2048, bias=True)\n",
       "    (5): BatchNorm1d(2048, eps=1e-05, momentum=0.9, affine=True, track_running_stats=True)\n",
       "    (6): Tanh()\n",
       "    (7): Dropout(p=0.5, inplace=False)\n",
       "    (8): Linear(in_features=2048, out_features=1, bias=True)\n",
       "  )\n",
       ")"
      ]
     },
     "execution_count": 59,
     "metadata": {},
     "output_type": "execute_result"
    }
   ],
   "source": [
    "# # Apparently test_model is not the best one out of the bunch!\n",
    "test_model = PaperPairModel(hidden_dims=hparams['hidden_dims'], dropout_prob = hparams['dropout_prob'], use_bn=hparams['use_bn'], \n",
    "                      bn_momentum=hparams['bn_momentum'])\n",
    "checkpoint_path = \"best_model.pth\"\n",
    "test_model.load_state_dict(torch.load(checkpoint_path))\n",
    "test_model.to(DEVICE)"
   ]
  },
  {
   "cell_type": "code",
   "execution_count": 60,
   "id": "ec9020fe-70fc-4a0b-b2a4-87a02131721c",
   "metadata": {},
   "outputs": [
    {
     "name": "stdout",
     "output_type": "stream",
     "text": [
      "PaperPairModel(\n",
      "  (fc_layers): Sequential(\n",
      "    (0): Linear(in_features=1538, out_features=1024, bias=True)\n",
      "    (1): BatchNorm1d(1024, eps=1e-05, momentum=0.9, affine=True, track_running_stats=True)\n",
      "    (2): Tanh()\n",
      "    (3): Dropout(p=0.5, inplace=False)\n",
      "    (4): Linear(in_features=1024, out_features=2048, bias=True)\n",
      "    (5): BatchNorm1d(2048, eps=1e-05, momentum=0.9, affine=True, track_running_stats=True)\n",
      "    (6): Tanh()\n",
      "    (7): Dropout(p=0.5, inplace=False)\n",
      "    (8): Linear(in_features=2048, out_features=1, bias=True)\n",
      "  )\n",
      ")\n"
     ]
    },
    {
     "data": {
      "application/vnd.jupyter.widget-view+json": {
       "model_id": "4c7f5f7d7c564f399ec7a862691da46a",
       "version_major": 2,
       "version_minor": 0
      },
      "text/plain": [
       "  0%|          | 0/932 [00:00<?, ?it/s]"
      ]
     },
     "metadata": {},
     "output_type": "display_data"
    },
    {
     "name": "stdout",
     "output_type": "stream",
     "text": [
      "Precision @ 20: 0.1795600858369101\n",
      "Recall @ 20: 0.1431251376302593\n"
     ]
    }
   ],
   "source": [
    "precision, recall = evaluate_model(test_model, test_paper_ids, knn_tree, embedding_map, reference_map, metadata, all_pids, \n",
    "                                   top_k=hparams['top_k'], knn_k = hparams['knn_k'])\n",
    "print(f\"Precision @ 20: {precision}\")\n",
    "print(f\"Recall @ 20: {recall}\")"
   ]
  },
  {
   "cell_type": "code",
   "execution_count": 56,
   "id": "4f949eb4-9e48-42f3-864a-1ec55da43dc2",
   "metadata": {},
   "outputs": [
    {
     "ename": "SyntaxError",
     "evalue": "invalid syntax (4009781046.py, line 1)",
     "output_type": "error",
     "traceback": [
      "\u001b[0;36m  Cell \u001b[0;32mIn [56], line 1\u001b[0;36m\u001b[0m\n\u001b[0;31m    KNN BASELINE\u001b[0m\n\u001b[0m        ^\u001b[0m\n\u001b[0;31mSyntaxError\u001b[0m\u001b[0;31m:\u001b[0m invalid syntax\n"
     ]
    }
   ],
   "source": [
    "KNN BASELINE\n",
    "Precision @ 20: 0.11979613733905542\n",
    "Recall @ 20: 0.09537210096331365\n",
    "\n",
    "Previous Best with the magic dataset\n",
    "Precision @ 20: 0.1469957081545062\n",
    "Recall @ 20: 0.12985076895866116\n",
    "\n",
    "\n",
    "Current Best\n",
    "Precision @ 20: 0.18766094420600862\n",
    "Recall @ 20: 0.16728612574805324\n",
    "With these hparams:\n",
    "    hparams = {\n",
    "    'batch_size': 4096,\n",
    "    # 'hidden_dim': 768,\n",
    "    # 'num_hidden_layers': 3,\n",
    "    'hidden_dims': [768],\n",
    "    'lr': 1e-2,\n",
    "    'min_lr': 1e-7,\n",
    "    'patience': 3,\n",
    "    'factor': 0.1,\n",
    "    'num_epochs': 250,\n",
    "    'weight_decay': 1e-3,\n",
    "    'dropout_prob': 0.5,\n",
    "    'stop_after': 5, # does NOT work, need to fix\n",
    "    'knn_k': 1000, # for getting nearest neighbours\n",
    "    'top_k': 20, # for evaluation\n",
    "    'use_bn': True,\n",
    "    'bn_momentum': 0.1\n",
    "}\n",
    "And also BCEWithLogitsLoss\n",
    "\n",
    "\n",
    "Precision @ 20: 0.19425965665236072\n",
    "Recall @ 20: 0.16689689397325372\n",
    "hparams = {\n",
    "    'batch_size': 2048,\n",
    "    # 'hidden_dim': 768,\n",
    "    # 'num_hidden_layers': 3,\n",
    "    'hidden_dims': [1024, 2048],\n",
    "    'lr': 1e-2,\n",
    "    'min_lr': 1e-7,\n",
    "    'patience': 3,\n",
    "    'factor': 0.1,\n",
    "    'num_epochs': 250,\n",
    "    'weight_decay': 1e-3,\n",
    "    'dropout_prob': 0.5,\n",
    "    'stop_after': 5, # does NOT work, need to fix\n",
    "    'knn_k': 1000, # for getting nearest neighbours\n",
    "    'top_k': 20, # for evaluation\n",
    "    'use_bn': True,\n",
    "    'bn_momentum': 0.9\n",
    "}"
   ]
  },
  {
   "cell_type": "code",
   "execution_count": 60,
   "id": "3ddf80c5-6de4-4606-ae10-0a3eab7a9fd1",
   "metadata": {},
   "outputs": [],
   "source": [
    "def get_recommendations_new(model, title, abstract, knn_tree, embedding_map, metadata, all_pids, top_k, knn_k, return_scores=False):\n",
    "    model.eval()\n",
    "    paper_obj = {'title': title, 'abstract': abstract, 'year': 2023}\n",
    "    print(paper_obj)\n",
    "    # paper_embedding = embedding_map[paper_id]\n",
    "    paper_embedding = get_embedding(paper_obj)\n",
    "    top_indices, scores = find_knn(paper_embedding, knn_tree, knn_k=knn_k)\n",
    "    recommended_paper_ids = [all_pids[i] for i in top_indices]\n",
    "\n",
    "    other_paper_embeddings = torch.stack([embedding_map[pid] for pid in recommended_paper_ids])\n",
    "\n",
    "    # Get years from metadata and create is_after tensor\n",
    "    paper_year = paper_obj['year']\n",
    "    other_paper_years = [metadata[pid]['year'] for pid in recommended_paper_ids]\n",
    "    is_after = torch.tensor([int(paper_year < other_year) for other_year in other_paper_years], dtype=torch.float32).to(DEVICE)\n",
    "\n",
    "    with torch.no_grad():\n",
    "        paper_embedding = paper_embedding.expand_as(other_paper_embeddings).to(DEVICE)\n",
    "        other_paper_embeddings = other_paper_embeddings.to(DEVICE)\n",
    "        # Pass the is_after tensor to the model\n",
    "        scores = model(paper_embedding, other_paper_embeddings, is_after)\n",
    "    model.train()\n",
    "    top_k = torch.topk(scores, k=top_k)\n",
    "    # top_k_indices = torch.topk(scores, k=top_k).indices\n",
    "    top_k_indices = top_k.indices\n",
    "    top_k_scores = top_k.values\n",
    "    reranked_pids = [recommended_paper_ids[idx] for idx in top_k_indices]\n",
    "    if return_scores:\n",
    "        return reranked_pids, top_k_scores\n",
    "    return reranked_pids"
   ]
  },
  {
   "cell_type": "code",
   "execution_count": 79,
   "id": "bb3bbdc9-6e95-49d5-acbf-619c8c5fb884",
   "metadata": {},
   "outputs": [
    {
     "data": {
      "text/plain": [
       "(['1321e0431d8e868334d77ba83f7e0c0b7863cb23',\n",
       "  '5e352848c02c420cf420a157627403456a152c61',\n",
       "  '5e17e0a6ef8f79eb524bec9e4ba3be0910046447',\n",
       "  '1954a67069a6744cc6c85f258c430431118a9916',\n",
       "  'c154bf5b586cd797adc24231a3c71a3bc4a012fb',\n",
       "  '34d1174daea6d67624ba8213e4bda0606ee1b4c3',\n",
       "  '53489041a08ef1a6cd19b4c95ce092a148283b6b',\n",
       "  '0ecfe92f4dd4d04c729a04dca6a63081e72ccbf9',\n",
       "  '28dd515fe25a5842002d43c9b8e26bf9093620fd',\n",
       "  'dc3ccdedf86df2e7f155e948e1053749e23951e6',\n",
       "  'b1764f91caa0d3359b263ad6daa6287b35a19697',\n",
       "  'a9de6da6ed116b90fe3c396ce9493c0bd259c265',\n",
       "  '6c9c55e896127a4c7469a95abfb12bab47ea902a',\n",
       "  '0e6f0bf80df91f7a613b425dd8c0b73f85b44f3b',\n",
       "  '2c0270f89f9559239112e79d9fa1aee2d58adaf7',\n",
       "  '05d5a28fd29fdbd405743cd282888e463c8cb26a',\n",
       "  'c421abb09a76f6032ac098840a8f1711199e83af',\n",
       "  '23aec531c9245b3fbc93567faecf0a7a63431d94',\n",
       "  '851332942f7cfbd74e3f2799309c1383fa547fb6',\n",
       "  'd230862f33946a3572ff7df78bfc0aaa726cd787'],\n",
       " tensor([1.0000, 1.0000, 0.9999, 0.9999, 0.9999, 0.9999, 0.9999, 0.9998, 0.9998,\n",
       "         0.9998, 0.9998, 0.9998, 0.9998, 0.9998, 0.9997, 0.9997, 0.9997, 0.9997,\n",
       "         0.9997, 0.9997], device='cuda:0'))"
      ]
     },
     "execution_count": 81,
     "metadata": {},
     "output_type": "execute_result"
    }
   ],
   "source": [
    "reranked_pids"
   ]
  },
  {
   "cell_type": "code",
   "execution_count": 61,
   "id": "9d5ef515-9f8e-402e-9d0b-716a88e55610",
   "metadata": {},
   "outputs": [
    {
     "name": "stdout",
     "output_type": "stream",
     "text": [
      "{'title': 'Refpred - A Research Paper Recommendation System based on SPECTER', 'abstract': 'The literature review is an essential part of the research process, as it helps researchers understand the current state of knowledge in their field and identify gaps that their own research can address. However, the current review process with manual paper searching, can be time-consuming and labour-intensive. This is particularly true for researchers working in fields with large and rapidly-growing bodies of literature such as Medicine or Machine Learning. To tackle this issue, we aim to build RefPred - a system that uses a citation-informed transformer with a recommendation engine to recommend relevant papers to assist researchers in review process. Specifically, given a new title/abstract, it should be able to predict the most relevant papers and sort them according to some metric (such as citation count or similarity score). For doing this, we create a dataset comprising of thousands of research paper metadata (sourced from Semantic Scholar) by crawling it asynchronously and storing locally on a MongoDB database. We then use citation-informed transformer model SPECTER to embed each paper, capturing it’s citation and semantic meaning simultaneously.  With paper embeddings, we can construct an embedding space of papers, which will be used to build a recommendation engine based on various algorithms (like KNN as a baseline) to give relevant recommendations for a new paper. Finally, we propose a novel approach to use neural network to rerank the initial KNN candidates, resulting in 27% better Precision and Recall @ 20 scores on the test set over the baseline KNN approach.', 'year': 2023}\n",
      "Paper ID: 9093ec8ed5f0353a6f40b855afa613f9e72bd9d8\n",
      "Title: From a Scholarly Big Dataset to a Test Collection for Bibliographic Citation Recommendation\n",
      "Year: 2016\n",
      "Paper ID: a191c41607ce88e731fe8fc08faf6677c1f47903\n",
      "Title: Neural Citation Network for Context-Aware Citation Recommendation\n",
      "Year: 2017\n",
      "Paper ID: 921b2958cac4138d188fd5047aa12bbcf37ac867\n",
      "Title: Content-Based Citation Recommendation\n",
      "Year: 2018\n",
      "Paper ID: dc3ccdedf86df2e7f155e948e1053749e23951e6\n",
      "Title: Bibliometric-Enhanced arXiv: A Data Set for Paper-Based and Citation-Based Tasks\n",
      "Year: 2019\n",
      "Paper ID: d63d86e884c8cd58dcaaf6824c99e39a4c23e3da\n",
      "Title: Yet another paper ranking algorithm advocating recent publications\n",
      "Year: 2010\n",
      "Paper ID: a12f61119dd48aaa8ee416301fff25f56a1a343c\n",
      "Title: SciReader: A Cloud-based Recommender System for Biomedical Literature\n",
      "Year: 2018\n",
      "Paper ID: 4d02f1a1b99a21665ef94bcdec733a3f8f4056b4\n",
      "Title: Bridger: Toward Bursting Scientific Filter Bubbles and Boosting Innovation via Novel Author Discovery\n",
      "Year: 2021\n",
      "Paper ID: e5aa3cf6d6521ca67a49cb7c7e13cbd914f83bf8\n",
      "Title: A Neural Probabilistic Model for Context Based Citation Recommendation\n",
      "Year: 2015\n",
      "Paper ID: deab9886bd1f39bea5b85fa76ca8f705fec9a85c\n",
      "Title: Scienstein : A Research Paper Recommender System\n",
      "Year: 2009\n",
      "Paper ID: 5e17e0a6ef8f79eb524bec9e4ba3be0910046447\n",
      "Title: RefSeer: A citation recommendation system\n",
      "Year: 2014\n",
      "Paper ID: bb246e08bc6641672c2bb2b93d4214eccf3f84b6\n",
      "Title: A Scalable Hybrid Research Paper Recommender System for Microsoft Academic\n",
      "Year: 2019\n",
      "Paper ID: 59cbfd1ac1a7f4c56cff7580a1ac9e51d1fe2a57\n",
      "Title: Scientific Paper Recommendation: A Survey\n",
      "Year: 2020\n",
      "Paper ID: a9a6edbec7d583965e8c6d274ec1a1802e3e13ee\n",
      "Title: TheAdvisor: a webservice for academic recommendation\n",
      "Year: 2013\n",
      "Paper ID: d8c0647f188ee31a6631d3528c34eb3b4eca9767\n",
      "Title: Towards an effective and unbiased ranking of scientific literature through mutual reinforcement\n",
      "Year: 2012\n",
      "Paper ID: 53489041a08ef1a6cd19b4c95ce092a148283b6b\n",
      "Title: A Dataset of Peer Reviews (PeerRead): Collection, Insights and NLP Applications\n",
      "Year: 2018\n",
      "Paper ID: 1342e3f0fdd4b5c3f4dd9176d34c0205c8c770e8\n",
      "Title: HybridCite: A Hybrid Model for Context-Aware Citation Recommendation\n",
      "Year: 2020\n",
      "Paper ID: bf96e171b48ad9561cd8790e17415c31f115d39f\n",
      "Title: Using citation-context to reduce topic drifting on pure citation-based recommendation\n",
      "Year: 2018\n",
      "Paper ID: c81d2f308b80f8a008d329a22b63dc09503ae045\n",
      "Title: Recommending citations with translation model\n",
      "Year: 2011\n",
      "Paper ID: 6c1ef15daba3fbc9a0cf56761520d2618615d9f8\n",
      "Title: Extending a Research-Paper Recommendation System with Bibliometric Measures\n",
      "Year: 2017\n",
      "Paper ID: 0b8745bf65017575ae62fb2bd5fa9c9510531c86\n",
      "Title: Leveraging Content and Connections for Scientific Article Recommendation in Social Computing Contexts\n",
      "Year: 2014\n",
      "Paper ID: ef14bffd64d345baabfe3912328bf4e17dc8fb9a\n",
      "Title: TSSP: A Reinforcement Algorithm to Find Related Papers\n",
      "Year: 2004\n",
      "Paper ID: a59e586538e4b937d9f112e651a616cd50ffd6b2\n",
      "Title: Building recommender systems for scholarly information\n",
      "Year: 2017\n",
      "Paper ID: f74e301a5915a274cdc7048a638f40099a59480f\n",
      "Title: Towards a personalized, scalable, and exploratory academic recommendation service\n",
      "Year: 2013\n",
      "Paper ID: 59a0118eb92f2db55d48ca9856345c5765b7e2e3\n",
      "Title: Combining article content and Web usage for literature recommendation in digital libraries\n",
      "Year: 2004\n",
      "Paper ID: 851332942f7cfbd74e3f2799309c1383fa547fb6\n",
      "Title: Cross-language context-aware citation recommendation in scientific articles\n",
      "Year: 2014\n",
      "Paper ID: c33ed55ca9e30efd0e91ee6966d88448a3150a75\n",
      "Title: Babel: A Platform for Facilitating Research in Scholarly Article Discovery\n",
      "Year: 2016\n",
      "Paper ID: 0ecfe92f4dd4d04c729a04dca6a63081e72ccbf9\n",
      "Title: Fast recommendation on bibliographic networks with sparse-matrix ordering and partitioning\n",
      "Year: 2013\n",
      "Paper ID: 0e6f0bf80df91f7a613b425dd8c0b73f85b44f3b\n",
      "Title: Learning multiple graphs for document recommendations\n",
      "Year: 2008\n",
      "Paper ID: 3c0312918ac9fea614abaa0732d83f3e76c16f7d\n",
      "Title: Context-aware citation recommendation\n",
      "Year: 2010\n",
      "Paper ID: dbaad5c603cf73996668815fa75011128c52307c\n",
      "Title: Full-text citation analysis: A new method to enhance scholarly networks\n",
      "Year: 2013\n",
      "Paper ID: c2a49d7ba30efeaecb520c77ba7d0a1339fdf42b\n",
      "Title: Neural Multi-task Learning for Citation Function and Provenance\n",
      "Year: 2018\n",
      "Paper ID: e887f35ae40b3388164de20ac85bd8494e701154\n",
      "Title: Recommending academic papers via users' reading purposes\n",
      "Year: 2012\n",
      "Paper ID: 5ae7bd6013615fe410b9436e312084da303c7f1f\n",
      "Title: WING-NUS at CL-SciSumm 2017: Learning from Syntactic and Semantic Similarity for Citation Contextualization\n",
      "Year: 2017\n",
      "Paper ID: c8ad34231cee70f1086fe5313a8ba5cac9886cb1\n",
      "Title: Recommending related papers based on digital library access records\n",
      "Year: 2007\n",
      "Paper ID: c49fe9ea7bc30c23c043544e79508b89d0a5f857\n",
      "Title: Claper: Recommend classical papers to beginners\n",
      "Year: 2010\n",
      "Paper ID: 9d950ec9e5c72bbbd7527391bdcc4edef1c4732a\n",
      "Title: Explainable and Sparse Representations of Academic Articles for Knowledge Exploration\n",
      "Year: 2020\n",
      "Paper ID: 5a0c9bbf0432dac8bd357a4aabf82b83a6c95524\n",
      "Title: Aspect-based Document Similarity for Research Papers\n",
      "Year: 2020\n",
      "Paper ID: 581acdeaafcae2c837cb90c44e6c1a088a3e007f\n",
      "Title: Publication Venue Recommendation Based on Paper Abstract\n",
      "Year: 2014\n",
      "Paper ID: e3a329484b160634c3b6d0bbac9b88b4c249b309\n",
      "Title: Classification of research papers using citation links and citation types: Towards automatic review article generation.\n",
      "Year: 2011\n",
      "Paper ID: ba2e4508a45303d22b01e4eade24b8137d55fd37\n",
      "Title: Who should I cite: learning literature search models from citation behavior\n",
      "Year: 2010\n",
      "Paper ID: deff3dfea871ae5d948fe04aa482c953faf61c5d\n",
      "Title: VITALITY: Promoting Serendipitous Discovery of Academic Literature with Transformers & Visual Analytics\n",
      "Year: 2021\n",
      "Paper ID: 6d16dc72dbf63d6e2f6a34154eb6c3b5f105d4e6\n",
      "Title: Scholarly paper recommendation via user's recent research interests\n",
      "Year: 2010\n",
      "Paper ID: 5e352848c02c420cf420a157627403456a152c61\n",
      "Title: Deep context of citations using machine-learning models in scholarly full-text articles\n",
      "Year: 2018\n",
      "Paper ID: a3e4ceb42cbcd2c807d53aff90a8cb1f5ee3f031\n",
      "Title: SPECTER: Document-level Representation Learning using Citation-informed Transformers\n",
      "Year: 2020\n",
      "43\n",
      "Paper ID: 1321e0431d8e868334d77ba83f7e0c0b7863cb23\n",
      "Title: PaperHunter: A System for Exploring Papers and Citation Contexts\n",
      "Year: 2019\n",
      "Paper ID: 2b0cbc939b0f2ea3614462e5e601535ac59cd1c2\n",
      "Title: Research paper recommendation with topic analysis\n",
      "Year: 2010\n",
      "Paper ID: 42044639a2fe3d53daed715a4dd4bc4536361058\n",
      "Title: A New Neural Search and Insights Platform for Navigating and Organizing AI Research\n",
      "Year: 2020\n",
      "Paper ID: d32afeb4a36a6cfb25b927a183096a128298e09f\n",
      "Title: TopicFlow Model: Unsupervised Learning of Topic-specific Influences of Hyperlinked Documents\n",
      "Year: 2011\n",
      "Paper ID: a25755c8581106a4bd9c9ddc57019fba00c377cf\n",
      "Title: Virtual Citation Proximity (VCP): Learning a Hypothetical In-Text Citation-Proximity Metric For Uncited Documents\n",
      "Year: 2020\n",
      "Paper ID: 07aac83dbd27f5906df4676fed746a9e05bd9e1b\n",
      "Title: Venue Recommendation: Submitting Your Paper with Style\n",
      "Year: 2012\n",
      "Paper ID: 92187d6fd3c332c7429b58884c7b8477c5e32c58\n",
      "Title: BERT, ELMo, USE and InferSent Sentence Encoders: The Panacea for Research-Paper Recommendation?\n",
      "Year: 2019\n",
      "Paper ID: 169edf0ad0b5e3ab31df4481a9069cbfdb774423\n",
      "Title: AMiner: Mining Deep Knowledge from Big Scholar Data\n",
      "Year: 2016\n",
      "Paper ID: a9de6da6ed116b90fe3c396ce9493c0bd259c265\n",
      "Title: Recommending citations for academic papers\n",
      "Year: 2007\n",
      "Paper ID: 191e78f50e9335778972e263487285cbe6f7ee86\n",
      "Title: Reviewer Recommendations Using Document Vector Embeddings and a Publisher Database: Implementation and Evaluation\n",
      "Year: 2021\n",
      "Paper ID: 06d07b5908696fa4867b4957e59caf7da8cb4663\n",
      "Title: A source independent framework for research paper recommendation\n",
      "Year: 2011\n",
      "Paper ID: d76f8a0b7f6b254ca902b3b4b620e2f6d17527d6\n",
      "Title: An Analysis of Citation Recommender Systems: Beyond the Obvious\n",
      "Year: 2017\n",
      "Paper ID: 511e040ba116ced7517475dd21d7ebd0ac96bf8d\n",
      "Title: Pseudo-Relevance Feedback Based on Matrix Factorization\n",
      "Year: 2016\n",
      "Paper ID: c6e26417d88a2d856e8e8104a5f6c29c3cd93623\n",
      "Title: The Architecture and Datasets of Docear's Research Paper Recommender System\n",
      "Year: 2014\n",
      "Paper ID: 2c0270f89f9559239112e79d9fa1aee2d58adaf7\n",
      "Title: Recommending citations: translating papers into references\n",
      "Year: 2012\n",
      "Paper ID: 5d0ee59ee916d257445165ad0c4365c1b5577fed\n",
      "Title: PLF: A Publication List Web Page Finder for Researchers\n",
      "Year: 2007\n",
      "Paper ID: d0fcb827cdcc44cce4c22c125fbbfb99a80f26dc\n",
      "Title: Understanding the Impact of Early Citers on Long-Term Scientific Impact\n",
      "Year: 2017\n",
      "Paper ID: 7c72a2008f94078ce50ac251c6437038bbcf0185\n",
      "Title: Evaluating link-based recommendations for Wikipedia\n",
      "Year: 2016\n",
      "Paper ID: b1764f91caa0d3359b263ad6daa6287b35a19697\n",
      "Title: Position-Aligned Translation Model for Citation Recommendation\n",
      "Year: 2012\n",
      "Paper ID: 72d5bd1095f9719742212f81a2a3790583e95796\n",
      "Title: Neighborhood Contrastive Learning for Scientific Document Representations with Citation Embeddings\n",
      "Year: 2022\n",
      "Paper ID: f2c8661c64ff021a30058f85c5f50b32fa3be4ae\n",
      "Title: A High-Quality Gold Standard for Citation-based Tasks\n",
      "Year: 2018\n",
      "Paper ID: 280c42ce59b38fd9ee52bfc2d6ff21fcb106ea8e\n",
      "Title: Scientific publication recommendations based on collaborative citation networks\n",
      "Year: 2012\n",
      "Paper ID: 01eecac575549b4143457b9874f9d48bcdbb2aac\n",
      "Title: On the recommending of citations for research papers\n",
      "Year: 2002\n",
      "Paper ID: 23aec531c9245b3fbc93567faecf0a7a63431d94\n",
      "Title: Can't see the forest for the trees?: a citation recommendation system\n",
      "Year: 2013\n",
      "Paper ID: bcc4e46f856e54948425dcfc41ece0cbd9bf932b\n",
      "Title: Specialized Document Embeddings for Aspect-based Similarity of Research Papers\n",
      "Year: 2022\n",
      "Paper ID: a09cf490b208b68bfba61fa1dfb387070a6fffa9\n",
      "Title: Exploiting potential citation papers in scholarly paper recommendation\n",
      "Year: 2013\n",
      "Paper ID: 64e21cb48991fc06169692343241cea4c21d0151\n",
      "Title: Using Citations to Generate surveys of Scientific Paradigms\n",
      "Year: 2009\n",
      "Paper ID: b5cdd919b573e60610582603cb7f776453b00de7\n",
      "Title: Finding Relevant Papers Based on Citation Relations\n",
      "Year: 2011\n",
      "Paper ID: 0cc1befaf72ca96c2a5034d004132da1b7bbc58b\n",
      "Title: GrapAL: Connecting the Dots in Scientific Literature\n",
      "Year: 2019\n",
      "Paper ID: 913f54b44dfb9202955fe296cf5586e1105565ea\n",
      "Title: A context-aware citation recommendation model with BERT and graph convolutional networks\n",
      "Year: 2019\n",
      "Paper ID: 9eb820baebc37470546c16666fe97b425b9406b0\n",
      "Title: Enhancing digital libraries with TechLens\n",
      "Year: 2004\n",
      "Paper ID: f30057b9060fe84cc9a947871e683853498dd0ac\n",
      "Title: A Recommendation System Based on Hierarchical Clustering of an Article-Level Citation Network\n",
      "Year: 2016\n",
      "Paper ID: 85b127fbf41e913dba7fdde93cc6e14d5c2e890a\n",
      "Title: Enhancing citation recommendation with various evidences\n",
      "Year: 2012\n",
      "Paper ID: 28dd515fe25a5842002d43c9b8e26bf9093620fd\n",
      "Title: An Efficient and Simple Graph Model for Scientific Article Cold Start Recommendation\n",
      "Year: 2016\n",
      "Paper ID: 1954a67069a6744cc6c85f258c430431118a9916\n",
      "Title: Citation recommendation without author supervision\n",
      "Year: 2011\n",
      "Paper ID: 68c64a1fdb417007c38ff6163a165bc03a86e019\n",
      "Title: Collaborative Document Evaluation: An Alternative Approach to Classic Peer Review\n",
      "Year: 2008\n",
      "Paper ID: 18a2e1766f3046ae2075cf1078595150641a21da\n",
      "Title: Comparison Study of Internet Recommendation System\n",
      "Year: 2009\n",
      "Paper ID: 3a5ef6f4439f4610793a3ec873773f0f0cc029c5\n",
      "Title: Beyond keyword search: discovering relevant scientific literature\n",
      "Year: 2011\n",
      "Paper ID: 0cfac458b176a1e81879aff4344c5278114cc171\n",
      "Title: Leveraging Meta-path based Context for Top- N Recommendation with A Neural Co-Attention Model\n",
      "Year: 2018\n",
      "Paper ID: c154bf5b586cd797adc24231a3c71a3bc4a012fb\n",
      "Title: A Discriminative Approach to Topic-Based Citation Recommendation\n",
      "Year: 2009\n",
      "Paper ID: 748c154ecc375a2473c91c11ceb957247c13a583\n",
      "Title: Creating a Test Collection for Citation-based IR Experiments\n",
      "Year: 2006\n",
      "Paper ID: 12de58abfdd1010de14bec3bb6e238b25ff1f052\n",
      "Title: A Survey on Reviewer Assignment Problem\n",
      "Year: 2008\n",
      "Paper ID: 572eb167a729c726311793ec428c0d3a0966464a\n",
      "Title: A Keyword-based Scholar Recommendation Framework for Biomedical Literature\n",
      "Year: 2018\n",
      "Paper ID: 040c91447fce469417a3639ffb9a71c76868a0b8\n",
      "Title: Don't look stupid: avoiding pitfalls when recommending research papers\n",
      "Year: 2006\n",
      "Paper ID: 0494e428541cdf744d4770a1d2aec3e2c3f967bd\n",
      "Title: Recommending scientific articles using citeulike\n",
      "Year: 2008\n",
      "Paper ID: 6c9c55e896127a4c7469a95abfb12bab47ea902a\n",
      "Title: Automatically building research reading lists\n",
      "Year: 2010\n",
      "Paper ID: 688f104fab24e8ea0eb114f923d4f998bd702b1d\n",
      "Title: The Role Of Citation Context In Predicting Long-Term Citation Profiles: An Experimental Study Based On A Massive Bibliographic Text Dataset\n",
      "Year: 2015\n",
      "Paper ID: 068c327ba6aa386e554f40b105d25add2dad2242\n",
      "Title: Scientific Article Recommendation by using Distributed Representations of Text and Graph\n",
      "Year: 2017\n",
      "Paper ID: 8447f1bee68e2fe80ad62bf0cc2d71c838a925ec\n",
      "Title: Detecting emerging research fronts in regenerative medicine by the citation network analysis of scientific publications\n",
      "Year: 2011\n",
      "Paper ID: 586f0cad7e301a4683aa71d7aba11a469e778fe5\n",
      "Title: Are all literature citations equally important? Automatic citation strength estimation and its applications\n",
      "Year: 2014\n",
      "Paper ID: 05cc1a212dcd828b6deb11bb05d0d4c5ea1e1736\n",
      "Title: Guest Editorial: Big Scholar Data Discovery and Collaboration\n",
      "Year: 2016\n",
      "Paper ID: eb913bf3dfbbc9cfa4df5f94a9ff57d7fe4fa1fd\n",
      "Title: Full-text based context-rich heterogeneous network mining approach for citation recommendation\n",
      "Year: 2014\n",
      "Paper ID: 34d1174daea6d67624ba8213e4bda0606ee1b4c3\n",
      "Title: Citation recommendation: approaches and datasets\n",
      "Year: 2020\n",
      "Paper ID: 35fd508ea5aa6abe34403cd47be095fd6124d612\n",
      "Title: Echo Chambers in Science?\n",
      "Year: 2017\n",
      "Paper ID: 9700e0e062e8306078d9befddeddf334ed4418c7\n",
      "Title: Can we do better than co-citations? Bringing Citation Proximity Analysis from idea to practice in research articles recommendation\n",
      "Year: 2017\n",
      "Paper ID: 0018f63a5c85043bfec3171bef5b2e3e01d48abd\n",
      "Title: cite2vec: Citation-Driven Document Exploration via Word Embeddings\n",
      "Year: 2017\n",
      "Paper ID: cc9c8d62986e3f3a1de8c5fd6ab74e94c418d114\n",
      "Title: Towards Finding Non-obvious Papers: An Analysis of Citation Recommender Systems\n",
      "Year: 2018\n"
     ]
    }
   ],
   "source": [
    "# test_model = PaperPairModel(hidden_dims=hparams['hidden_dims'], dropout_prob = hparams['dropout_prob'], use_bn=hparams['use_bn'], \n",
    "#                       bn_momentum=hparams['bn_momentum'])\n",
    "# checkpoint_path = \"best_model.pth\"\n",
    "# test_model.load_state_dict(torch.load(checkpoint_path))\n",
    "# test_model.to(DEVICE)\n",
    "reranked_pids = get_recommendations_new(model, new_title, new_abstract, knn_tree, embedding_map, metadata, all_pids, 1000, 1000)\n",
    "for i, pid in enumerate(reranked_pids):\n",
    "    title = metadata[pid]['title']\n",
    "    # abstract = metadata[paper_id]['abstract']\n",
    "    year = metadata[pid]['year']\n",
    "    print(f'Paper ID: {pid}\\nTitle: {title}\\nYear: {year}')# \\nCosine similarity: {cos_sim}\\n')\n",
    "    if 'SPECTER' in title:\n",
    "        print(i)\n",
    "    if i == 100:\n",
    "        break"
   ]
  },
  {
   "cell_type": "markdown",
   "id": "d3aaff70-55ba-4b15-b44e-99afe2dc6a84",
   "metadata": {},
   "source": [
    "KNN Baseline (100k KNN tree)\\\n",
    "Precision @ 20: 0.12178111587982793\\\n",
    "Recall @ 20: 0.10163559712988064\\\n",
    "\n",
    "10 08"
   ]
  },
  {
   "cell_type": "markdown",
   "id": "d92567c0-f6eb-4b41-b6de-0ada54c5f8ee",
   "metadata": {},
   "source": [
    "KNN baseline (10K KNN Tree)\n",
    "Precision @ 20: 0.0892167381974245\n",
    "Recall @ 20: 0.06859755789931597\n",
    "\n",
    "\n",
    "1 hidden layer\n",
    "Precision @ 20: 0.07199570815450627\n",
    "Recall @ 20: 0.05303806321161232\n",
    "\n",
    "2 hidden layers\n",
    "    100 epochs\n",
    "    Precision @ 20: 0.07677038626609411\n",
    "    Recall @ 20: 0.05675391446638737\n",
    "\n",
    "    600 epochxz\n",
    "    Precision @ 20: 0.07719957081545044\n",
    "    Recall @ 20: 0.05713618093670974\n",
    "\n",
    "\n",
    "----------------------------------------------------------------------------------------\n",
    "BETTER TRAINING DATA \n",
    "\n",
    "2 hidden layers\n",
    "\n",
    "    100 epochs\n",
    "    Precision @ 20: 0.08326180257510708\n",
    "    Recall @ 20: 0.06307653765563273\n"
   ]
  },
  {
   "cell_type": "code",
   "execution_count": 78,
   "id": "f904e7ac-ae27-4322-8377-c6f209846cd0",
   "metadata": {},
   "outputs": [
    {
     "name": "stdout",
     "output_type": "stream",
     "text": [
      "Precision @ 20: 0.057399999999999986\n",
      "Recall @ 20: 0.12419555247309377\n"
     ]
    }
   ],
   "source": [
    "precision, recall = evaluate_model(model, test_paper_ids, embedding_map, reference_map, k=50)\n",
    "print(f\"Precision @ 20: {precision}\")\n",
    "print(f\"Recall @ 20: {recall}\")"
   ]
  },
  {
   "cell_type": "markdown",
   "id": "5a95ef4a-1a0b-4569-96d6-20056e085403",
   "metadata": {},
   "source": [
    "### Previous score with 50 epochs\n",
    "Precision @ 20: 0.057399999999999986\n",
    "Recall @ 20: 0.12419555247309377\n"
   ]
  },
  {
   "cell_type": "code",
   "execution_count": 85,
   "id": "0f11e350-a34d-450f-80af-d4808ff24f1a",
   "metadata": {},
   "outputs": [
    {
     "name": "stderr",
     "output_type": "stream",
     "text": [
      "100%|██████████| 100/100 [00:09<00:00, 10.19it/s]\n",
      "100%|██████████| 100/100 [00:10<00:00,  9.58it/s]\n",
      "100%|██████████| 100/100 [00:08<00:00, 11.21it/s]\n",
      "100%|██████████| 100/100 [00:10<00:00,  9.88it/s]\n"
     ]
    },
    {
     "data": {
      "image/png": "[encoded data removed]",
      "text/plain": [
       "<Figure size 640x480 with 1 Axes>"
      ]
     },
     "metadata": {},
     "output_type": "display_data"
    }
   ],
   "source": [
    "import matplotlib.pyplot as plt\n",
    "\n",
    "# Define a list of possible values of k\n",
    "k_values = [50, 100, 150, 200]\n",
    "\n",
    "# Initialize empty lists to store the precision and recall scores for each value of k\n",
    "precisions = []\n",
    "recalls = []\n",
    "\n",
    "# Evaluate the model for each value of k and append the scores to the lists\n",
    "for k in k_values:\n",
    "    precision, recall = evaluate_model(model, test_paper_ids[:100], embedding_map, reference_map, knn_k=k)\n",
    "    precisions.append(precision)\n",
    "    recalls.append(recall)\n",
    "\n",
    "# Plot the precision and recall curves as a function of k\n",
    "plt.plot(k_values, precisions, label=\"Precision\")\n",
    "plt.plot(k_values, recalls, label=\"Recall\")\n",
    "plt.xlabel(\"k\")\n",
    "plt.ylabel(\"Score\")\n",
    "plt.legend()\n",
    "plt.show()\n"
   ]
  },
  {
   "cell_type": "code",
   "execution_count": null,
   "id": "3d87df66-9902-4a09-aa23-b3de41518e68",
   "metadata": {},
   "outputs": [],
   "source": []
  },
  {
   "cell_type": "code",
   "execution_count": null,
   "id": "8c71acf7-0439-48ac-aa6c-7c6185bafd9f",
   "metadata": {},
   "outputs": [],
   "source": []
  },
  {
   "cell_type": "code",
   "execution_count": null,
   "id": "5d4fe6e8-b790-415c-a21b-bfe0ec5dba91",
   "metadata": {},
   "outputs": [],
   "source": []
  },
  {
   "cell_type": "code",
   "execution_count": null,
   "id": "68edba41-48b9-4907-ae48-582d1356e268",
   "metadata": {},
   "outputs": [],
   "source": []
  },
  {
   "cell_type": "code",
   "execution_count": null,
   "id": "32456ff1-c51b-423d-a3f8-e9c48d6e038f",
   "metadata": {},
   "outputs": [],
   "source": []
  },
  {
   "cell_type": "code",
   "execution_count": null,
   "id": "15f65348-5ce1-4ea4-8fe1-bceae6cd24c4",
   "metadata": {},
   "outputs": [],
   "source": []
  },
  {
   "cell_type": "code",
   "execution_count": null,
   "id": "892c03fd-50f9-48f4-9acf-fb79ca91dcc5",
   "metadata": {},
   "outputs": [],
   "source": []
  },
  {
   "cell_type": "code",
   "execution_count": null,
   "id": "a0266422-25dd-428f-b62d-a1c2f612ba19",
   "metadata": {},
   "outputs": [],
   "source": []
  },
  {
   "cell_type": "code",
   "execution_count": null,
   "id": "42251e8c-0b8e-457c-8891-a4fc1f214e88",
   "metadata": {},
   "outputs": [],
   "source": []
  },
  {
   "cell_type": "code",
   "execution_count": null,
   "id": "ebb4a241-763e-4064-9f39-10c5ea0ce052",
   "metadata": {},
   "outputs": [],
   "source": []
  },
  {
   "cell_type": "code",
   "execution_count": null,
   "id": "66b47682-da18-4a81-8665-4198fdb67b79",
   "metadata": {},
   "outputs": [],
   "source": []
  },
  {
   "cell_type": "code",
   "execution_count": null,
   "id": "6c735984-49f8-49a7-80df-ae5dea9bc96d",
   "metadata": {},
   "outputs": [],
   "source": []
  },
  {
   "cell_type": "code",
   "execution_count": null,
   "id": "ce5f46e6-b149-470c-9016-a7022c24ba66",
   "metadata": {},
   "outputs": [],
   "source": []
  }
 ],
 "metadata": {
  "kernelspec": {
   "display_name": "Python 3 (ipykernel)",
   "language": "python",
   "name": "python3"
  },
  "language_info": {
   "codemirror_mode": {
    "name": "ipython",
    "version": 3
   },
   "file_extension": ".py",
   "mimetype": "text/x-python",
   "name": "python",
   "nbconvert_exporter": "python",
   "pygments_lexer": "ipython3",
   "version": "3.9.16"
  }
 },
 "nbformat": 4,
 "nbformat_minor": 5
}
